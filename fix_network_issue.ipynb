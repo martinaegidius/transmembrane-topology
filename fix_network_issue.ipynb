{
 "cells": [
  {
   "cell_type": "code",
   "execution_count": 1,
   "metadata": {},
   "outputs": [
    {
     "name": "stderr",
     "output_type": "stream",
     "text": [
      "/usr/lib/python3/dist-packages/requests/__init__.py:87: RequestsDependencyWarning: urllib3 (2.0.7) or chardet (4.0.0) doesn't match a supported version!\n",
      "  warnings.warn(\"urllib3 ({}) or chardet ({}) doesn't match a supported \"\n"
     ]
    },
    {
     "data": {
      "text/html": [
       "<pre style=\"white-space:pre;overflow-x:auto;line-height:normal;font-family:Menlo,'DejaVu Sans Mono',consolas,'Courier New',monospace\"><span style=\"color: #7fbfbf; text-decoration-color: #7fbfbf\">[11/28/23 14:48:44] </span><span style=\"color: #008000; text-decoration-color: #008000\">DEBUG   </span> No `.env` file found in project root. Checking for env vars<span style=\"color: #808000; text-decoration-color: #808000\">...</span>         <a href=\"file:///home/max/.local/lib/python3.10/site-packages/proteinworkshop/constants.py\" target=\"_blank\"><span style=\"color: #7f7f7f; text-decoration-color: #7f7f7f\">constants.py</span></a><span style=\"color: #7f7f7f; text-decoration-color: #7f7f7f\">:</span><a href=\"file:///home/max/.local/lib/python3.10/site-packages/proteinworkshop/constants.py#22\" target=\"_blank\"><span style=\"color: #7f7f7f; text-decoration-color: #7f7f7f\">22</span></a>\n",
       "</pre>\n"
      ],
      "text/plain": [
       "\u001b[2;36m[11/28/23 14:48:44]\u001b[0m\u001b[2;36m \u001b[0m\u001b[32mDEBUG   \u001b[0m No `.env` file found in project root. Checking for env vars\u001b[33m...\u001b[0m         \u001b]8;id=188704;file:///home/max/.local/lib/python3.10/site-packages/proteinworkshop/constants.py\u001b\\\u001b[2mconstants.py\u001b[0m\u001b]8;;\u001b\\\u001b[2m:\u001b[0m\u001b]8;id=932256;file:///home/max/.local/lib/python3.10/site-packages/proteinworkshop/constants.py#22\u001b\\\u001b[2m22\u001b[0m\u001b]8;;\u001b\\\n"
      ]
     },
     "metadata": {},
     "output_type": "display_data"
    },
    {
     "data": {
      "text/html": [
       "<pre style=\"white-space:pre;overflow-x:auto;line-height:normal;font-family:Menlo,'DejaVu Sans Mono',consolas,'Courier New',monospace\"><span style=\"color: #7fbfbf; text-decoration-color: #7fbfbf\">                    </span><span style=\"color: #008000; text-decoration-color: #008000\">DEBUG   </span> No env var `DATA_PATH` found. Setting default<span style=\"color: #808000; text-decoration-color: #808000\">...</span>                       <a href=\"file:///home/max/.local/lib/python3.10/site-packages/proteinworkshop/constants.py\" target=\"_blank\"><span style=\"color: #7f7f7f; text-decoration-color: #7f7f7f\">constants.py</span></a><span style=\"color: #7f7f7f; text-decoration-color: #7f7f7f\">:</span><a href=\"file:///home/max/.local/lib/python3.10/site-packages/proteinworkshop/constants.py#28\" target=\"_blank\"><span style=\"color: #7f7f7f; text-decoration-color: #7f7f7f\">28</span></a>\n",
       "</pre>\n"
      ],
      "text/plain": [
       "\u001b[2;36m                   \u001b[0m\u001b[2;36m \u001b[0m\u001b[32mDEBUG   \u001b[0m No env var `DATA_PATH` found. Setting default\u001b[33m...\u001b[0m                       \u001b]8;id=105396;file:///home/max/.local/lib/python3.10/site-packages/proteinworkshop/constants.py\u001b\\\u001b[2mconstants.py\u001b[0m\u001b]8;;\u001b\\\u001b[2m:\u001b[0m\u001b]8;id=337640;file:///home/max/.local/lib/python3.10/site-packages/proteinworkshop/constants.py#28\u001b\\\u001b[2m28\u001b[0m\u001b]8;;\u001b\\\n"
      ]
     },
     "metadata": {},
     "output_type": "display_data"
    },
    {
     "data": {
      "text/html": [
       "<pre style=\"white-space:pre;overflow-x:auto;line-height:normal;font-family:Menlo,'DejaVu Sans Mono',consolas,'Courier New',monospace\"><span style=\"color: #7fbfbf; text-decoration-color: #7fbfbf\">                    </span><span style=\"color: #000080; text-decoration-color: #000080\">INFO    </span> DATA_PATH:                                                             <a href=\"file:///home/max/.local/lib/python3.10/site-packages/proteinworkshop/constants.py\" target=\"_blank\"><span style=\"color: #7f7f7f; text-decoration-color: #7f7f7f\">constants.py</span></a><span style=\"color: #7f7f7f; text-decoration-color: #7f7f7f\">:</span><a href=\"file:///home/max/.local/lib/python3.10/site-packages/proteinworkshop/constants.py#39\" target=\"_blank\"><span style=\"color: #7f7f7f; text-decoration-color: #7f7f7f\">39</span></a>\n",
       "<span style=\"color: #7fbfbf; text-decoration-color: #7fbfbf\">                    </span>         <span style=\"color: #800080; text-decoration-color: #800080\">/home/max/.local/lib/python3.10/site-packages/proteinworkshop/</span><span style=\"color: #ff00ff; text-decoration-color: #ff00ff\">data</span>     <span style=\"color: #7f7f7f; text-decoration-color: #7f7f7f\">               </span>\n",
       "</pre>\n"
      ],
      "text/plain": [
       "\u001b[2;36m                   \u001b[0m\u001b[2;36m \u001b[0m\u001b[34mINFO    \u001b[0m DATA_PATH:                                                             \u001b]8;id=699700;file:///home/max/.local/lib/python3.10/site-packages/proteinworkshop/constants.py\u001b\\\u001b[2mconstants.py\u001b[0m\u001b]8;;\u001b\\\u001b[2m:\u001b[0m\u001b]8;id=771536;file:///home/max/.local/lib/python3.10/site-packages/proteinworkshop/constants.py#39\u001b\\\u001b[2m39\u001b[0m\u001b]8;;\u001b\\\n",
       "\u001b[2;36m                    \u001b[0m         \u001b[35m/home/max/.local/lib/python3.10/site-packages/proteinworkshop/\u001b[0m\u001b[95mdata\u001b[0m     \u001b[2m               \u001b[0m\n"
      ]
     },
     "metadata": {},
     "output_type": "display_data"
    }
   ],
   "source": [
    "from proteinworkshop.features.factory import ProteinFeaturiser\n",
    "from proteinworkshop.datasets.utils import create_example_batch\n",
    "#from proteinworkshop.models.graph_encoders.schnet import SchNetModel\n",
    "#from torch.utils.data import DataLoader\n",
    "from torch_geometric.loader import DataLoader\n",
    "import pickle\n",
    "from transmembraneDataset import transmembraneDataset\n",
    "import transmembraneUtils as tmu\n",
    "import torch\n",
    "from transmembraneModels import GraphEncDec \n",
    "from transmembraneModels import init_linear_weights\n",
    "import os \n",
    "from torch_geometric.utils import unbatch\n",
    "import wandb\n",
    "import numpy as np \n",
    "import torchmetrics\n",
    "\n",
    "cfg_path = None\n",
    "\n",
    "if(cfg_path==None):\n",
    "  BATCH_SZ = 1\n",
    "  LR = 1e-04\n",
    "  GCSIZE = 64\n",
    "  LSTMSIZE = 64\n",
    "  DROPOUT = 0.0\n",
    "  N_EPOCHS = 10\n",
    "  DECODER = \"LSTMB\"\n",
    "  NUM_SAMPLES = 64\n",
    "  EXPERIMENTTYPE = \"OVERFIT\"\n",
    "  SPLITTYPE = \"PROTOTYPE\"\n",
    "  FEATURISERFLAG = \"SIMPLE\"\n",
    "  SAVERESULTS = True\n",
    "  WEIGHTDECAY = 0.0\n",
    "  param_cfg = {\"experimentType\": EXPERIMENTTYPE,\"SplitType\":SPLITTYPE,\"NUM_SAMPLES\":NUM_SAMPLES,\"Featuriser\":FEATURISERFLAG,\"DecoderType\":DECODER,\"LR\":LR,\"WEIGHTDECAY\":WEIGHTDECAY,\"GCSize\":GCSIZE,\"LSTMSize\":LSTMSIZE,\"Dropout\":0.0,\"BATCH_SZ\":BATCH_SZ,\"N_EPOCHS\":N_EPOCHS,\"Save results\":SAVERESULTS}\n",
    "  TRACKING = False\n"
   ]
  },
  {
   "cell_type": "markdown",
   "metadata": {},
   "source": [
    "Make example batch"
   ]
  },
  {
   "cell_type": "code",
   "execution_count": 2,
   "metadata": {},
   "outputs": [],
   "source": [
    "import graphein.protein.tensor as gpt\n",
    "from torch_geometric.data import Batch\n",
    "import numpy as np \n",
    "from torch_geometric.data import Data\n",
    "from torch_geometric.loader import DataLoader\n",
    "\n",
    "#\"3eiy\", \"4hhb\", \"1a0q\"\n",
    "\n",
    "data1 = gpt.io.protein_to_pyg(\n",
    "    pdb_code=\"4hhb\", # Can alternatively pass a path or a uniprot ID (for AF2) with path=... and uniprot_id=...\n",
    "    chain_selection=[\"A\", \"B\", \"C\", \"D\"], # Select all 4 chains\n",
    "    deprotonate=True, # Deprotonate the structure\n",
    "    keep_insertions=False, # Remove insertions\n",
    "    keep_hets=[], # Remove HETATMs\n",
    "    model_index=1, # Select the first model\n",
    "    # Can select a subset of atoms with atom_types=...\n",
    "    )\n",
    "\n",
    "data2 = gpt.io.protein_to_pyg(\n",
    "    pdb_code=\"3eiy\", # Can alternatively pass a path or a uniprot ID (for AF2) with path=... and uniprot_id=...\n",
    "    chain_selection=[\"A\", \"B\", \"C\", \"D\"], # Select all 4 chains\n",
    "    deprotonate=True, # Deprotonate the structure\n",
    "    keep_insertions=False, # Remove insertions\n",
    "    keep_hets=[], # Remove HETATMs\n",
    "    model_index=1, # Select the first model\n",
    "    # Can select a subset of atoms with atom_types=...\n",
    "    )\n",
    "\n",
    "def featurise_protein(prot):\n",
    "    protein = gpt.Protein().from_data(prot) #load protein from pdb-data\n",
    "    #add edges etc\n",
    "    protein.batch = protein.coords\n",
    "    protein.edges(\"knn_8\",cache=\"edge_index\")\n",
    "    protein.pos = protein.coords[:,1,:]\n",
    "    protein.x = protein.residue_type\n",
    "    return protein.to_data() #returns a torch geometric data object used for batching https://github.com/a-r-j/graphein/blob/master/graphein/protein/tensor/data.py#L266\n",
    "\n",
    "\n",
    "\n",
    "#print(\"Data: \", data1)\n",
    "#print(\"ID: \", data1.id)\n",
    "#print(\"Residues: \", data1.residues[:10])\n",
    "#print(\"Residue IDs: \", data1.residue_id[:10])\n",
    "data1 = featurise_protein(data1)\n",
    "data2 = featurise_protein(data2)\n",
    "\n",
    "\n",
    "#batch = Batch.from_data_list([data1, data2])\n",
    "trainloader = DataLoader([data1,data2],batch_size = 2)\n"
   ]
  },
  {
   "cell_type": "code",
   "execution_count": 3,
   "metadata": {},
   "outputs": [
    {
     "name": "stderr",
     "output_type": "stream",
     "text": [
      "/home/max/.local/lib/python3.10/site-packages/torch/nn/modules/lazy.py:180: UserWarning:\n",
      "\n",
      "Lazy modules are a new feature under heavy development so changes to the API or functionality can happen at any moment.\n",
      "\n"
     ]
    },
    {
     "name": "stdout",
     "output_type": "stream",
     "text": [
      "initialized lazy layers\n",
      "Initialized LSTM layers\n",
      "RECEIVED  DataBatch(fill_value=[2], chains=[748], coords=[748, 37, 3], residues=[2], x=[748], residue_id=[2], id=[2], atom_list=[2], batch=[748], edge_index=[2, 5984], residue_type=[748], pos=[748, 3], ptr=[3])\n",
      "Encoder outputs:  dict_keys(['node_embedding', 'graph_embedding'])\n",
      "LSTM INPUT SHAPE:  torch.Size([748, 64])\n",
      "LSTM OUTPUT SHAPE:  torch.Size([748, 128])\n",
      "LSTM HIDDEN SHAPE: \n",
      "LSTM projection shape:  torch.Size([748, 6])\n"
     ]
    }
   ],
   "source": [
    "import torch\n",
    "\n",
    "\n",
    "featuriser = ProteinFeaturiser( #note: input is a protein Batch\n",
    "          representation=\"CA\",\n",
    "          scalar_node_features=[\"amino_acid_one_hot\"],\n",
    "          vector_node_features=[],\n",
    "          edge_types=[\"knn_16\"],\n",
    "          scalar_edge_features=[\"edge_distance\"],\n",
    "          vector_edge_features=[],\n",
    "        )\n",
    "\n",
    "model = GraphEncDec(featuriser=featuriser, n_classes=6,hidden_dim_GCN=param_cfg[\"GCSize\"],decoderType=param_cfg[\"DecoderType\"],LSTM_hidden_dim=param_cfg[\"LSTMSize\"],dropout=param_cfg[\"Dropout\"],LSTMnormalization = False)\n",
    "model.apply(init_linear_weights) #change to xavier normal init\n",
    "\n",
    "optimizer = torch.optim.Adam(model.parameters(),lr=param_cfg[\"LR\"],weight_decay=param_cfg[\"WEIGHTDECAY\"])\n",
    "criterion = torch.nn.CrossEntropyLoss()\n",
    "\n",
    "for i, data in enumerate(trainloader):\n",
    "    model_output, encoder_output = model.forward(data)\n",
    "    #print(out)\n"
   ]
  },
  {
   "cell_type": "code",
   "execution_count": null,
   "metadata": {},
   "outputs": [],
   "source": []
  }
 ],
 "metadata": {
  "kernelspec": {
   "display_name": "Python 3",
   "language": "python",
   "name": "python3"
  },
  "language_info": {
   "codemirror_mode": {
    "name": "ipython",
    "version": 3
   },
   "file_extension": ".py",
   "mimetype": "text/x-python",
   "name": "python",
   "nbconvert_exporter": "python",
   "pygments_lexer": "ipython3",
   "version": "3.10.12"
  }
 },
 "nbformat": 4,
 "nbformat_minor": 2
}
