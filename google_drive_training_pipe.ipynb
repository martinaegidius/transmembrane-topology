{
  "cells": [
    {
      "cell_type": "code",
      "source": [
        "from google.colab import drive\n",
        "drive.mount('/content/drive')\n",
        "drive_path = \"/content/drive/MyDrive/transmembrane_proteins/\""
      ],
      "metadata": {
        "colab": {
          "base_uri": "https://localhost:8080/"
        },
        "id": "30mfwl9s7O95",
        "outputId": "8d982454-23c1-476c-c3e1-bcf009a293d9"
      },
      "execution_count": 1,
      "outputs": [
        {
          "output_type": "stream",
          "name": "stdout",
          "text": [
            "Mounted at /content/drive\n"
          ]
        }
      ]
    },
    {
      "cell_type": "markdown",
      "source": [
        "Make permanent installations - seems to be impossible"
      ],
      "metadata": {
        "id": "ugHYyDHK_Za_"
      }
    },
    {
      "cell_type": "code",
      "source": [
        "#import os, sys\n",
        "#nb_path = '/content/drive/MyDrive/transmembrane_proteins/packages'\n",
        "#os.symlink(\"/content/drive/MyDrive/transmembrane_proteins\", nb_path)\n",
        "#sys.path.insert(0,nb_path)\n",
        "\n",
        "#!pip install --force-reinstall --target=$nb_path proteinworkshop\n",
        "#!pip install --force-reinstall --target=$nb_path torch==2.0.0+cu118 torchvision==0.15.1+cu118 torchaudio==2.0.1 --index-url https://download.pytorch.org/whl/cu118 --no-cache-dir\n",
        "#!pip install --target=$nb_path torch_scatter torch_sparse torch_cluster torch_spline_conv -f https://data.pyg.org/whl/torch-2.0.0+cu118.html\n",
        "#!pip install --target=$nb_path graphein\n"
      ],
      "metadata": {
        "id": "npsq8OLw_bGu"
      },
      "execution_count": 2,
      "outputs": []
    },
    {
      "cell_type": "code",
      "source": [
        "# #!python3 /usr/local/lib/python3.10/dist-packages/proteinworkshop/scripts/install_pyg.py\n",
        "#!python3 /content/drive/MyDrive/transmembrane_proteins/packages/proteinworkshop/scripts/install_pyg.py #should also work permanently\n",
        "#!pip uninstall torch_scatter\n",
        "# !export DATA_PATH=\"proteinworkshop/data/\"\n",
        "\n",
        "\n"
      ],
      "metadata": {
        "id": "V_9u1Qp_7XGH"
      },
      "execution_count": 3,
      "outputs": []
    },
    {
      "cell_type": "code",
      "source": [
        "#import sys\n",
        "#print(sys.path)\n",
        "#sys.path = [nb_path]\n",
        "#print(sys.path)"
      ],
      "metadata": {
        "id": "4OIDY9uXPMxb"
      },
      "execution_count": 4,
      "outputs": []
    },
    {
      "cell_type": "code",
      "source": [
        "#!python -c \"import torch; print(torch.__version__)\"\n",
        "#!python -c \"import torch; print(torch.version.cuda)\"\n",
        "#!nvcc --version\n"
      ],
      "metadata": {
        "id": "LruyXhZbO7vU"
      },
      "execution_count": 5,
      "outputs": []
    },
    {
      "cell_type": "code",
      "source": [
        "!pip install -q proteinworkshop\n",
        "!pip install -q torch==2.0.0+cu118 torchvision==0.15.1+cu118 torchaudio==2.0.1 --index-url https://download.pytorch.org/whl/cu118 --no-cache-dir\n",
        "!python3 /usr/local/lib/python3.10/dist-packages/proteinworkshop/scripts/install_pyg.py\n",
        "!export DATA_PATH=\"proteinworkshop/data/\"\n",
        "!pip install -q graphein\n",
        "!pip install losswise\n",
        "\n"
      ],
      "metadata": {
        "colab": {
          "base_uri": "https://localhost:8080/"
        },
        "id": "Pn2y907_VSl6",
        "outputId": "ca3422c2-0bb4-4f62-9bdb-1fd8d27184b7"
      },
      "execution_count": 6,
      "outputs": [
        {
          "output_type": "stream",
          "name": "stdout",
          "text": [
            "\u001b[2K     \u001b[90m━━━━━━━━━━━━━━━━━━━━━━━━━━━━━━━━━━━━━━━━\u001b[0m \u001b[32m277.1/277.1 kB\u001b[0m \u001b[31m4.4 MB/s\u001b[0m eta \u001b[36m0:00:00\u001b[0m\n",
            "\u001b[2K     \u001b[90m━━━━━━━━━━━━━━━━━━━━━━━━━━━━━━━━━━━━━━━━\u001b[0m \u001b[32m777.6/777.6 kB\u001b[0m \u001b[31m10.2 MB/s\u001b[0m eta \u001b[36m0:00:00\u001b[0m\n",
            "\u001b[2K     \u001b[90m━━━━━━━━━━━━━━━━━━━━━━━━━━━━━━━━━━━━━━━━\u001b[0m \u001b[32m47.7/47.7 MB\u001b[0m \u001b[31m12.6 MB/s\u001b[0m eta \u001b[36m0:00:00\u001b[0m\n",
            "\u001b[2K     \u001b[90m━━━━━━━━━━━━━━━━━━━━━━━━━━━━━━━━━━━━━━━━\u001b[0m \u001b[32m118.9/118.9 kB\u001b[0m \u001b[31m13.8 MB/s\u001b[0m eta \u001b[36m0:00:00\u001b[0m\n",
            "\u001b[2K     \u001b[90m━━━━━━━━━━━━━━━━━━━━━━━━━━━━━━━━━━━━━━━━\u001b[0m \u001b[32m42.2/42.2 kB\u001b[0m \u001b[31m5.9 MB/s\u001b[0m eta \u001b[36m0:00:00\u001b[0m\n",
            "\u001b[2K     \u001b[90m━━━━━━━━━━━━━━━━━━━━━━━━━━━━━━━━━━━━━━━━\u001b[0m \u001b[32m93.1/93.1 kB\u001b[0m \u001b[31m13.1 MB/s\u001b[0m eta \u001b[36m0:00:00\u001b[0m\n",
            "\u001b[2K     \u001b[90m━━━━━━━━━━━━━━━━━━━━━━━━━━━━━━━━━━━━━━━━\u001b[0m \u001b[32m266.5/266.5 kB\u001b[0m \u001b[31m30.6 MB/s\u001b[0m eta \u001b[36m0:00:00\u001b[0m\n",
            "\u001b[2K     \u001b[90m━━━━━━━━━━━━━━━━━━━━━━━━━━━━━━━━━━━━━━━━\u001b[0m \u001b[32m309.8/309.8 kB\u001b[0m \u001b[31m36.6 MB/s\u001b[0m eta \u001b[36m0:00:00\u001b[0m\n",
            "\u001b[2K     \u001b[90m━━━━━━━━━━━━━━━━━━━━━━━━━━━━━━━━━━━━━━━━\u001b[0m \u001b[32m154.5/154.5 kB\u001b[0m \u001b[31m21.0 MB/s\u001b[0m eta \u001b[36m0:00:00\u001b[0m\n",
            "\u001b[2K     \u001b[90m━━━━━━━━━━━━━━━━━━━━━━━━━━━━━━━━━━━━━━━━\u001b[0m \u001b[32m2.0/2.0 MB\u001b[0m \u001b[31m80.7 MB/s\u001b[0m eta \u001b[36m0:00:00\u001b[0m\n",
            "\u001b[2K     \u001b[90m━━━━━━━━━━━━━━━━━━━━━━━━━━━━━━━━━━━━━━━━\u001b[0m \u001b[32m62.5/62.5 kB\u001b[0m \u001b[31m9.2 MB/s\u001b[0m eta \u001b[36m0:00:00\u001b[0m\n",
            "\u001b[2K     \u001b[90m━━━━━━━━━━━━━━━━━━━━━━━━━━━━━━━━━━━━━━━━\u001b[0m \u001b[32m79.5/79.5 kB\u001b[0m \u001b[31m9.1 MB/s\u001b[0m eta \u001b[36m0:00:00\u001b[0m\n",
            "\u001b[2K     \u001b[90m━━━━━━━━━━━━━━━━━━━━━━━━━━━━━━━━━━━━━━━━\u001b[0m \u001b[32m107.7/107.7 kB\u001b[0m \u001b[31m13.9 MB/s\u001b[0m eta \u001b[36m0:00:00\u001b[0m\n",
            "\u001b[?25h  Preparing metadata (setup.py) ... \u001b[?25l\u001b[?25hdone\n",
            "\u001b[2K     \u001b[90m━━━━━━━━━━━━━━━━━━━━━━━━━━━━━━━━━━━━━━━━\u001b[0m \u001b[32m776.9/776.9 kB\u001b[0m \u001b[31m69.1 MB/s\u001b[0m eta \u001b[36m0:00:00\u001b[0m\n",
            "\u001b[2K     \u001b[90m━━━━━━━━━━━━━━━━━━━━━━━━━━━━━━━━━━━━━━━━\u001b[0m \u001b[32m1.0/1.0 MB\u001b[0m \u001b[31m83.1 MB/s\u001b[0m eta \u001b[36m0:00:00\u001b[0m\n",
            "\u001b[2K     \u001b[90m━━━━━━━━━━━━━━━━━━━━━━━━━━━━━━━━━━━━━━━━\u001b[0m \u001b[32m805.2/805.2 kB\u001b[0m \u001b[31m73.8 MB/s\u001b[0m eta \u001b[36m0:00:00\u001b[0m\n",
            "\u001b[2K     \u001b[90m━━━━━━━━━━━━━━━━━━━━━━━━━━━━━━━━━━━━━━━━\u001b[0m \u001b[32m2.1/2.1 MB\u001b[0m \u001b[31m89.7 MB/s\u001b[0m eta \u001b[36m0:00:00\u001b[0m\n",
            "\u001b[?25h  Preparing metadata (setup.py) ... \u001b[?25l\u001b[?25hdone\n",
            "\u001b[2K     \u001b[90m━━━━━━━━━━━━━━━━━━━━━━━━━━━━━━━━━━━━━━━━\u001b[0m \u001b[32m75.0/75.0 kB\u001b[0m \u001b[31m11.6 MB/s\u001b[0m eta \u001b[36m0:00:00\u001b[0m\n",
            "\u001b[2K     \u001b[90m━━━━━━━━━━━━━━━━━━━━━━━━━━━━━━━━━━━━━━━━\u001b[0m \u001b[32m1.2/1.2 MB\u001b[0m \u001b[31m86.3 MB/s\u001b[0m eta \u001b[36m0:00:00\u001b[0m\n",
            "\u001b[2K     \u001b[90m━━━━━━━━━━━━━━━━━━━━━━━━━━━━━━━━━━━━━━━━\u001b[0m \u001b[32m3.1/3.1 MB\u001b[0m \u001b[31m65.3 MB/s\u001b[0m eta \u001b[36m0:00:00\u001b[0m\n",
            "\u001b[2K     \u001b[90m━━━━━━━━━━━━━━━━━━━━━━━━━━━━━━━━━━━━━━━━\u001b[0m \u001b[32m191.9/191.9 kB\u001b[0m \u001b[31m27.2 MB/s\u001b[0m eta \u001b[36m0:00:00\u001b[0m\n",
            "\u001b[?25h  Preparing metadata (setup.py) ... \u001b[?25l\u001b[?25hdone\n",
            "\u001b[2K     \u001b[90m━━━━━━━━━━━━━━━━━━━━━━━━━━━━━━━━━━━━━━━━\u001b[0m \u001b[32m76.6/76.6 kB\u001b[0m \u001b[31m11.0 MB/s\u001b[0m eta \u001b[36m0:00:00\u001b[0m\n",
            "\u001b[2K     \u001b[90m━━━━━━━━━━━━━━━━━━━━━━━━━━━━━━━━━━━━━━━━\u001b[0m \u001b[32m117.0/117.0 kB\u001b[0m \u001b[31m17.3 MB/s\u001b[0m eta \u001b[36m0:00:00\u001b[0m\n",
            "\u001b[?25h  Preparing metadata (setup.py) ... \u001b[?25l\u001b[?25hdone\n",
            "\u001b[2K     \u001b[90m━━━━━━━━━━━━━━━━━━━━━━━━━━━━━━━━━━━━━━━━\u001b[0m \u001b[32m29.4/29.4 MB\u001b[0m \u001b[31m57.4 MB/s\u001b[0m eta \u001b[36m0:00:00\u001b[0m\n",
            "\u001b[2K     \u001b[90m━━━━━━━━━━━━━━━━━━━━━━━━━━━━━━━━━━━━━━━━\u001b[0m \u001b[32m190.6/190.6 kB\u001b[0m \u001b[31m27.0 MB/s\u001b[0m eta \u001b[36m0:00:00\u001b[0m\n",
            "\u001b[2K     \u001b[90m━━━━━━━━━━━━━━━━━━━━━━━━━━━━━━━━━━━━━━━━\u001b[0m \u001b[32m248.6/248.6 kB\u001b[0m \u001b[31m28.7 MB/s\u001b[0m eta \u001b[36m0:00:00\u001b[0m\n",
            "\u001b[?25h  Preparing metadata (setup.py) ... \u001b[?25l\u001b[?25hdone\n",
            "\u001b[2K     \u001b[90m━━━━━━━━━━━━━━━━━━━━━━━━━━━━━━━━━━━━━━━━\u001b[0m \u001b[32m55.7/55.7 kB\u001b[0m \u001b[31m8.7 MB/s\u001b[0m eta \u001b[36m0:00:00\u001b[0m\n",
            "\u001b[?25h  Preparing metadata (setup.py) ... \u001b[?25l\u001b[?25hdone\n",
            "\u001b[2K     \u001b[90m━━━━━━━━━━━━━━━━━━━━━━━━━━━━━━━━━━━━━━━━\u001b[0m \u001b[32m60.3/60.3 kB\u001b[0m \u001b[31m8.0 MB/s\u001b[0m eta \u001b[36m0:00:00\u001b[0m\n",
            "\u001b[2K     \u001b[90m━━━━━━━━━━━━━━━━━━━━━━━━━━━━━━━━━━━━━━━━\u001b[0m \u001b[32m144.9/144.9 kB\u001b[0m \u001b[31m18.3 MB/s\u001b[0m eta \u001b[36m0:00:00\u001b[0m\n",
            "\u001b[2K     \u001b[90m━━━━━━━━━━━━━━━━━━━━━━━━━━━━━━━━━━━━━━━━\u001b[0m \u001b[32m62.7/62.7 kB\u001b[0m \u001b[31m7.4 MB/s\u001b[0m eta \u001b[36m0:00:00\u001b[0m\n",
            "\u001b[2K     \u001b[90m━━━━━━━━━━━━━━━━━━━━━━━━━━━━━━━━━━━━━━━━\u001b[0m \u001b[32m76.9/76.9 kB\u001b[0m \u001b[31m10.9 MB/s\u001b[0m eta \u001b[36m0:00:00\u001b[0m\n",
            "\u001b[2K     \u001b[90m━━━━━━━━━━━━━━━━━━━━━━━━━━━━━━━━━━━━━━━━\u001b[0m \u001b[32m6.4/6.4 MB\u001b[0m \u001b[31m83.5 MB/s\u001b[0m eta \u001b[36m0:00:00\u001b[0m\n",
            "\u001b[2K     \u001b[90m━━━━━━━━━━━━━━━━━━━━━━━━━━━━━━━━━━━━━━━━\u001b[0m \u001b[32m58.3/58.3 kB\u001b[0m \u001b[31m4.2 MB/s\u001b[0m eta \u001b[36m0:00:00\u001b[0m\n",
            "\u001b[2K     \u001b[90m━━━━━━━━━━━━━━━━━━━━━━━━━━━━━━━━━━━━━━━━\u001b[0m \u001b[32m1.6/1.6 MB\u001b[0m \u001b[31m65.0 MB/s\u001b[0m eta \u001b[36m0:00:00\u001b[0m\n",
            "\u001b[2K     \u001b[90m━━━━━━━━━━━━━━━━━━━━━━━━━━━━━━━━━━━━━━━━\u001b[0m \u001b[32m57.5/57.5 kB\u001b[0m \u001b[31m7.8 MB/s\u001b[0m eta \u001b[36m0:00:00\u001b[0m\n",
            "\u001b[2K     \u001b[90m━━━━━━━━━━━━━━━━━━━━━━━━━━━━━━━━━━━━━━━━\u001b[0m \u001b[32m247.1/247.1 kB\u001b[0m \u001b[31m27.9 MB/s\u001b[0m eta \u001b[36m0:00:00\u001b[0m\n",
            "\u001b[?25h  Building wheel for antlr4-python3-runtime (setup.py) ... \u001b[?25l\u001b[?25hdone\n",
            "  Building wheel for pytdc (setup.py) ... \u001b[?25l\u001b[?25hdone\n",
            "  Building wheel for wget (setup.py) ... \u001b[?25l\u001b[?25hdone\n",
            "  Building wheel for bioservices (setup.py) ... \u001b[?25l\u001b[?25hdone\n",
            "  Building wheel for pathtools (setup.py) ... \u001b[?25l\u001b[?25hdone\n",
            "  Building wheel for easydev (setup.py) ... \u001b[?25l\u001b[?25hdone\n",
            "\u001b[2K     \u001b[90m━━━━━━━━━━━━━━━━━━━━━━━━━━━━━━━━━━━━━━━━\u001b[0m \u001b[32m2.3/2.3 GB\u001b[0m \u001b[31m299.5 MB/s\u001b[0m eta \u001b[36m0:00:00\u001b[0m\n",
            "\u001b[2K     \u001b[90m━━━━━━━━━━━━━━━━━━━━━━━━━━━━━━━━━━━━━━━━\u001b[0m \u001b[32m6.1/6.1 MB\u001b[0m \u001b[31m294.6 MB/s\u001b[0m eta \u001b[36m0:00:00\u001b[0m\n",
            "\u001b[2K     \u001b[90m━━━━━━━━━━━━━━━━━━━━━━━━━━━━━━━━━━━━━━━━\u001b[0m \u001b[32m4.4/4.4 MB\u001b[0m \u001b[31m339.0 MB/s\u001b[0m eta \u001b[36m0:00:00\u001b[0m\n",
            "\u001b[2K     \u001b[90m━━━━━━━━━━━━━━━━━━━━━━━━━━━━━━━━━━━━━━━━\u001b[0m \u001b[32m63.3/63.3 MB\u001b[0m \u001b[31m265.9 MB/s\u001b[0m eta \u001b[36m0:00:00\u001b[0m\n",
            "\u001b[2K     \u001b[90m━━━━━━━━━━━━━━━━━━━━━━━━━━━━━━━━━━━━━━━━\u001b[0m \u001b[32m132.3/132.3 kB\u001b[0m \u001b[31m303.1 MB/s\u001b[0m eta \u001b[36m0:00:00\u001b[0m\n",
            "\u001b[?25h  Preparing metadata (setup.py) ... \u001b[?25l\u001b[?25hdone\n",
            "  Building wheel for lit (setup.py) ... \u001b[?25l\u001b[?25hdone\n",
            "\u001b[31mERROR: pip's dependency resolver does not currently take into account all the packages that are installed. This behaviour is the source of the following dependency conflicts.\n",
            "torchdata 0.7.0 requires torch==2.1.0, but you have torch 2.0.0+cu118 which is incompatible.\n",
            "torchtext 0.16.0 requires torch==2.1.0, but you have torch 2.0.0+cu118 which is incompatible.\u001b[0m\u001b[31m\n",
            "\u001b[0m\u001b[32m2023-11-20 07:00:58.501\u001b[0m | \u001b[1mINFO    \u001b[0m | \u001b[36m__main__\u001b[0m:\u001b[36m_install_pyg\u001b[0m:\u001b[36m14\u001b[0m - \u001b[1mDetected PyTorch version: 2.0.0+cu118\u001b[0m\n",
            "\u001b[32m2023-11-20 07:00:58.502\u001b[0m | \u001b[1mINFO    \u001b[0m | \u001b[36m__main__\u001b[0m:\u001b[36m_install_pyg\u001b[0m:\u001b[36m15\u001b[0m - \u001b[1mDetected CUDA version: 118\u001b[0m\n",
            "\u001b[32m2023-11-20 07:00:58.502\u001b[0m | \u001b[1mINFO    \u001b[0m | \u001b[36m__main__\u001b[0m:\u001b[36m_install_pyg\u001b[0m:\u001b[36m16\u001b[0m - \u001b[1mInstalling PyTorch Geometric for PyTorch 2.0.0+cu118 and CUDA 118\u001b[0m\n",
            "\u001b[32m2023-11-20 07:00:58.502\u001b[0m | \u001b[1mINFO    \u001b[0m | \u001b[36m__main__\u001b[0m:\u001b[36m_install_pyg\u001b[0m:\u001b[36m49\u001b[0m - \u001b[1mRunning install: pip install torch_scatter torch_sparse torch_cluster torch_spline_conv -f https://data.pyg.org/whl/torch-2.0.0+cu118.html\u001b[0m\n",
            "Looking in links: https://data.pyg.org/whl/torch-2.0.0+cu118.html\n",
            "Collecting torch_scatter\n",
            "  Downloading https://data.pyg.org/whl/torch-2.0.0%2Bcu118/torch_scatter-2.1.2%2Bpt20cu118-cp310-cp310-linux_x86_64.whl (10.2 MB)\n",
            "\u001b[2K     \u001b[90m━━━━━━━━━━━━━━━━━━━━━━━━━━━━━━━━━━━━━━━━\u001b[0m \u001b[32m10.2/10.2 MB\u001b[0m \u001b[31m64.1 MB/s\u001b[0m eta \u001b[36m0:00:00\u001b[0m\n",
            "\u001b[?25hCollecting torch_sparse\n",
            "  Downloading https://data.pyg.org/whl/torch-2.0.0%2Bcu118/torch_sparse-0.6.18%2Bpt20cu118-cp310-cp310-linux_x86_64.whl (4.9 MB)\n",
            "\u001b[2K     \u001b[90m━━━━━━━━━━━━━━━━━━━━━━━━━━━━━━━━━━━━━━━━\u001b[0m \u001b[32m4.9/4.9 MB\u001b[0m \u001b[31m88.7 MB/s\u001b[0m eta \u001b[36m0:00:00\u001b[0m\n",
            "\u001b[?25hCollecting torch_cluster\n",
            "  Downloading https://data.pyg.org/whl/torch-2.0.0%2Bcu118/torch_cluster-1.6.3%2Bpt20cu118-cp310-cp310-linux_x86_64.whl (3.3 MB)\n",
            "\u001b[2K     \u001b[90m━━━━━━━━━━━━━━━━━━━━━━━━━━━━━━━━━━━━━━━━\u001b[0m \u001b[32m3.3/3.3 MB\u001b[0m \u001b[31m54.8 MB/s\u001b[0m eta \u001b[36m0:00:00\u001b[0m\n",
            "\u001b[?25hCollecting torch_spline_conv\n",
            "  Downloading https://data.pyg.org/whl/torch-2.0.0%2Bcu118/torch_spline_conv-1.2.2%2Bpt20cu118-cp310-cp310-linux_x86_64.whl (886 kB)\n",
            "\u001b[2K     \u001b[90m━━━━━━━━━━━━━━━━━━━━━━━━━━━━━━━━━━━━━━━━\u001b[0m \u001b[32m886.6/886.6 kB\u001b[0m \u001b[31m49.0 MB/s\u001b[0m eta \u001b[36m0:00:00\u001b[0m\n",
            "\u001b[?25hRequirement already satisfied: scipy in /usr/local/lib/python3.10/dist-packages (from torch_sparse) (1.11.3)\n",
            "Requirement already satisfied: numpy<1.28.0,>=1.21.6 in /usr/local/lib/python3.10/dist-packages (from scipy->torch_sparse) (1.23.5)\n",
            "Installing collected packages: torch_spline_conv, torch_scatter, torch_sparse, torch_cluster\n",
            "Successfully installed torch_cluster-1.6.3+pt20cu118 torch_scatter-2.1.2+pt20cu118 torch_sparse-0.6.18+pt20cu118 torch_spline_conv-1.2.2+pt20cu118\n",
            "Collecting losswise\n",
            "  Downloading losswise-4.0-py2.py3-none-any.whl (7.2 kB)\n",
            "Requirement already satisfied: requests>=2.9.1 in /usr/local/lib/python3.10/dist-packages (from losswise) (2.31.0)\n",
            "Requirement already satisfied: six>=1.9.0 in /usr/local/lib/python3.10/dist-packages (from losswise) (1.16.0)\n",
            "Requirement already satisfied: charset-normalizer<4,>=2 in /usr/local/lib/python3.10/dist-packages (from requests>=2.9.1->losswise) (3.3.2)\n",
            "Requirement already satisfied: idna<4,>=2.5 in /usr/local/lib/python3.10/dist-packages (from requests>=2.9.1->losswise) (3.4)\n",
            "Requirement already satisfied: urllib3<3,>=1.21.1 in /usr/local/lib/python3.10/dist-packages (from requests>=2.9.1->losswise) (2.0.7)\n",
            "Requirement already satisfied: certifi>=2017.4.17 in /usr/local/lib/python3.10/dist-packages (from requests>=2.9.1->losswise) (2023.7.22)\n",
            "Installing collected packages: losswise\n",
            "Successfully installed losswise-4.0\n"
          ]
        }
      ]
    },
    {
      "cell_type": "code",
      "source": [
        "import proteinworkshop"
      ],
      "metadata": {
        "id": "A6plaMW9R8zh"
      },
      "execution_count": 7,
      "outputs": []
    },
    {
      "cell_type": "code",
      "execution_count": 8,
      "metadata": {
        "colab": {
          "base_uri": "https://localhost:8080/",
          "height": 126
        },
        "id": "DhmIJfXG7DAU",
        "outputId": "36b3d979-98ba-49a1-f70e-74710c827c2e"
      },
      "outputs": [
        {
          "output_type": "display_data",
          "data": {
            "text/plain": [
              "\u001b[2;36m[11/20/23 07:01:36]\u001b[0m\u001b[2;36m \u001b[0m\u001b[32mDEBUG   \u001b[0m No `.env` file found in project root. Checking for env vars\u001b[33m...\u001b[0m         \u001b]8;id=966908;file:///usr/local/lib/python3.10/dist-packages/proteinworkshop/constants.py\u001b\\\u001b[2mconstants.py\u001b[0m\u001b]8;;\u001b\\\u001b[2m:\u001b[0m\u001b]8;id=12321;file:///usr/local/lib/python3.10/dist-packages/proteinworkshop/constants.py#22\u001b\\\u001b[2m22\u001b[0m\u001b]8;;\u001b\\\n"
            ],
            "text/html": [
              "<pre style=\"white-space:pre;overflow-x:auto;line-height:normal;font-family:Menlo,'DejaVu Sans Mono',consolas,'Courier New',monospace\"><span style=\"color: #7fbfbf; text-decoration-color: #7fbfbf\">[11/20/23 07:01:36] </span><span style=\"color: #008000; text-decoration-color: #008000\">DEBUG   </span> No `.env` file found in project root. Checking for env vars<span style=\"color: #808000; text-decoration-color: #808000\">...</span>         <a href=\"file:///usr/local/lib/python3.10/dist-packages/proteinworkshop/constants.py\" target=\"_blank\"><span style=\"color: #7f7f7f; text-decoration-color: #7f7f7f\">constants.py</span></a><span style=\"color: #7f7f7f; text-decoration-color: #7f7f7f\">:</span><a href=\"file:///usr/local/lib/python3.10/dist-packages/proteinworkshop/constants.py#22\" target=\"_blank\"><span style=\"color: #7f7f7f; text-decoration-color: #7f7f7f\">22</span></a>\n",
              "</pre>\n"
            ]
          },
          "metadata": {}
        },
        {
          "output_type": "display_data",
          "data": {
            "text/plain": [
              "\u001b[2;36m                   \u001b[0m\u001b[2;36m \u001b[0m\u001b[32mDEBUG   \u001b[0m No env var `DATA_PATH` found. Setting default\u001b[33m...\u001b[0m                       \u001b]8;id=72261;file:///usr/local/lib/python3.10/dist-packages/proteinworkshop/constants.py\u001b\\\u001b[2mconstants.py\u001b[0m\u001b]8;;\u001b\\\u001b[2m:\u001b[0m\u001b]8;id=278375;file:///usr/local/lib/python3.10/dist-packages/proteinworkshop/constants.py#28\u001b\\\u001b[2m28\u001b[0m\u001b]8;;\u001b\\\n"
            ],
            "text/html": [
              "<pre style=\"white-space:pre;overflow-x:auto;line-height:normal;font-family:Menlo,'DejaVu Sans Mono',consolas,'Courier New',monospace\"><span style=\"color: #7fbfbf; text-decoration-color: #7fbfbf\">                    </span><span style=\"color: #008000; text-decoration-color: #008000\">DEBUG   </span> No env var `DATA_PATH` found. Setting default<span style=\"color: #808000; text-decoration-color: #808000\">...</span>                       <a href=\"file:///usr/local/lib/python3.10/dist-packages/proteinworkshop/constants.py\" target=\"_blank\"><span style=\"color: #7f7f7f; text-decoration-color: #7f7f7f\">constants.py</span></a><span style=\"color: #7f7f7f; text-decoration-color: #7f7f7f\">:</span><a href=\"file:///usr/local/lib/python3.10/dist-packages/proteinworkshop/constants.py#28\" target=\"_blank\"><span style=\"color: #7f7f7f; text-decoration-color: #7f7f7f\">28</span></a>\n",
              "</pre>\n"
            ]
          },
          "metadata": {}
        },
        {
          "output_type": "display_data",
          "data": {
            "text/plain": [
              "\u001b[2;36m                   \u001b[0m\u001b[2;36m \u001b[0m\u001b[34mINFO    \u001b[0m DATA_PATH:                                                             \u001b]8;id=48347;file:///usr/local/lib/python3.10/dist-packages/proteinworkshop/constants.py\u001b\\\u001b[2mconstants.py\u001b[0m\u001b]8;;\u001b\\\u001b[2m:\u001b[0m\u001b]8;id=814884;file:///usr/local/lib/python3.10/dist-packages/proteinworkshop/constants.py#39\u001b\\\u001b[2m39\u001b[0m\u001b]8;;\u001b\\\n",
              "\u001b[2;36m                    \u001b[0m         \u001b[35m/usr/local/lib/python3.10/dist-packages/proteinworkshop/\u001b[0m\u001b[95mdata\u001b[0m           \u001b[2m               \u001b[0m\n"
            ],
            "text/html": [
              "<pre style=\"white-space:pre;overflow-x:auto;line-height:normal;font-family:Menlo,'DejaVu Sans Mono',consolas,'Courier New',monospace\"><span style=\"color: #7fbfbf; text-decoration-color: #7fbfbf\">                    </span><span style=\"color: #000080; text-decoration-color: #000080\">INFO    </span> DATA_PATH:                                                             <a href=\"file:///usr/local/lib/python3.10/dist-packages/proteinworkshop/constants.py\" target=\"_blank\"><span style=\"color: #7f7f7f; text-decoration-color: #7f7f7f\">constants.py</span></a><span style=\"color: #7f7f7f; text-decoration-color: #7f7f7f\">:</span><a href=\"file:///usr/local/lib/python3.10/dist-packages/proteinworkshop/constants.py#39\" target=\"_blank\"><span style=\"color: #7f7f7f; text-decoration-color: #7f7f7f\">39</span></a>\n",
              "<span style=\"color: #7fbfbf; text-decoration-color: #7fbfbf\">                    </span>         <span style=\"color: #800080; text-decoration-color: #800080\">/usr/local/lib/python3.10/dist-packages/proteinworkshop/</span><span style=\"color: #ff00ff; text-decoration-color: #ff00ff\">data</span>           <span style=\"color: #7f7f7f; text-decoration-color: #7f7f7f\">               </span>\n",
              "</pre>\n"
            ]
          },
          "metadata": {}
        }
      ],
      "source": [
        "from proteinworkshop.features.factory import ProteinFeaturiser\n",
        "from proteinworkshop.datasets.utils import create_example_batch\n",
        "#from proteinworkshop.models.graph_encoders.schnet import SchNetModel\n",
        "from torch.utils.data import Dataset\n",
        "import pickle\n",
        "#import pdbreader\n",
        "from torch.utils.data import DataLoader\n",
        "import graphein.protein.tensor as gpt"
      ]
    },
    {
      "cell_type": "code",
      "execution_count": 9,
      "metadata": {
        "id": "rV72rzUH7DAX"
      },
      "outputs": [],
      "source": [
        "if drive_path!=None:\n",
        "  with open(drive_path+\"splits/prototype/train.pkl\",'rb') as f:\n",
        "    train = pickle.load(f)\n",
        "\n",
        "  with open(drive_path+\"splits/prototype/val.pkl\",'rb') as f:\n",
        "    val = pickle.load(f)\n",
        "\n",
        "  with open(drive_path+\"splits/prototype/test.pkl\",'rb') as f:\n",
        "    test = pickle.load(f)\n",
        "\n",
        "  #exclude mismatching proteins\n",
        "  with open(drive_path+\"data_quality_control.pkl\",\"rb\") as f:\n",
        "    mismatches = pickle.load(f)\n",
        "\n",
        "else:\n",
        "  with open(\"splits/prototype/train.pkl\",'rb') as f:\n",
        "    train = pickle.load(f)\n",
        "\n",
        "  with open(\"splits/prototype/val.pkl\",'rb') as f:\n",
        "    val = pickle.load(f)\n",
        "\n",
        "  with open(\"splits/prototype/test.pkl\",'rb') as f:\n",
        "    test = pickle.load(f)\n",
        "\n",
        "  #exclude mismatching proteins\n",
        "  with open(\"data_quality_control.pkl\",\"rb\") as f:\n",
        "    mismatches = pickle.load(f)\n",
        "\n",
        "\n",
        "\n",
        "mismatches = mismatches[\"Different sequence\"]\n",
        "trainnames = [x[\"id\"] for x in train]\n",
        "testnames = [x[\"id\"] for x in test]\n",
        "valnames = [x[\"id\"] for x in val]\n",
        "\n",
        "\n",
        "\n",
        "trainlabels = {}\n",
        "for prot in train:\n",
        "    trainlabels[prot[\"id\"]]=prot[\"labels\"]\n",
        "\n",
        "vallabels = {}\n",
        "for prot in val:\n",
        "    vallabels[prot[\"id\"]]=prot[\"labels\"]\n",
        "\n",
        "testlabels = {}\n",
        "for prot in test:\n",
        "    testlabels[prot[\"id\"]]=prot[\"labels\"]\n",
        "\n"
      ]
    },
    {
      "cell_type": "markdown",
      "metadata": {
        "id": "aKnxApyP7DAc"
      },
      "source": [
        "Create necessary batch attributes\n",
        "\n",
        "```\n",
        "def required_batch_attributes(self) -> Set[str]:\n",
        "        \"\"\"\n",
        "        Required batch attributes for this encoder.\n",
        "\n",
        "        - ``x``: Node features (shape: :math:`(n, d)`)\n",
        "        - ``pos``: Node positions (shape: :math:`(n, 3)`)\n",
        "        - ``edge_index``: Edge indices (shape: :math:`(2, e)`)\n",
        "        - ``batch``: Batch indices (shape: :math:`(n,)`)\n",
        "\n",
        "        :return: Set of required batch attributes\n",
        "        :rtype: Set[str]\n",
        "        \"\"\"\n",
        "        return {\"pos\", \"edge_index\", \"x\", \"batch\"}\n",
        "\n",
        "```"
      ]
    },
    {
      "cell_type": "markdown",
      "metadata": {
        "id": "bYnZe0X57DAd"
      },
      "source": [
        "So it seems to work. Now let's implement a PyG pipeline which does the same thing but with all the additional stuff included in the dataloader instance"
      ]
    },
    {
      "cell_type": "code",
      "execution_count": 10,
      "metadata": {
        "colab": {
          "base_uri": "https://localhost:8080/"
        },
        "id": "aoPevjtx7DAe",
        "outputId": "a1e3c1fb-05ed-4e80-b6fc-28f5de456478"
      },
      "outputs": [
        {
          "output_type": "stream",
          "name": "stdout",
          "text": [
            "self root local:  /content/drive/MyDrive/transmembrane_proteins/data/graphein_downloads/v4/\n",
            "protein list: \n",
            "['P10384', 'P0ABU7', 'Q55210', 'Q5XKL5', 'Q9KDP2', 'Q9CC87', 'Q7TQM5', 'Q2YDF6', 'P10163', 'Q12286', 'Q0P9C4', 'Q9SIW2', 'P10257', 'Q9USW9', 'P50580', 'Q9UHW9', 'A0A0K3AUE4', 'Q9MV14', 'Q25255', 'Q9US51', 'P17558', 'O31284', 'Q9VSK8', 'P28611', 'F4JN26', 'Q8N474', 'P07305', 'Q8L719', 'P10745', 'K4D422', 'P0AG96', 'Q01172', 'Q18412', 'P38777', 'O42914', 'P49146', 'Q68XS6', 'Q5FBB7', 'Q62414', 'Q10Q07', 'P21554', 'Q9UU87', 'E9K9Z1', 'P40518', 'Q12287', 'Q32MW3', 'B3U538', 'P54498', 'P9WG65', 'Q06506', 'Q8IWU4', 'C1B1D9', 'Q9D4W2', 'Q08561', 'A0A0B9X9I7', 'Q97WX4', 'Q7CGI0', 'P87176', 'Q96FM1', 'Q5A5Q6', 'C7G3K3', 'P21826', 'Q9LU68', 'P0AC98', 'O34344', 'P09038', 'O14131', 'Q9FKB3', 'P13385', 'Q9H293', 'C4IN73', 'P01019', 'O83077', 'Q54GH3', 'P52927', 'P42586', 'P21978', 'Q9EYW6', 'P38852', 'P37648', 'P0A8Q0', 'Q9HDZ6', 'Q5E2P0', 'Q10424', 'P15289', 'Q2V3L3', 'P38439', 'Q10356', 'P51688', 'O74544', 'Q15722', 'P55046', 'Q7TSH3', 'P32442', 'Q9UU77', 'O33434', 'Q9VA00', 'Q9USH6', 'Q03736', 'Q31FL3', 'P61380', 'Q8TEC5', 'F9RBV9', 'P45819', 'Q96F86', 'Q53NL5', 'P16085', 'Q9BW72', 'Q9RP17', 'Q10451', 'E9PYL2', 'Q9KYX0', 'P0DO17', 'Q8IUR7', 'Q51371', 'P34219', 'Q10146', 'Q15459', 'P52823', 'P35610', 'Q8X150', 'Q07053', 'Q9Z1R2', 'Q9Y4Z0', 'P01180', 'O14034', 'P33775', 'Q8RY59', 'Q9NX02', 'P82977', 'Q9FYC2', 'P23979', 'P08911', 'O13629', 'Q8L5J1', 'P04180', 'P27882', 'P50536', 'P09181', 'Q59RR0', 'Q09726', 'Q8I6Z7', 'P48237', 'P33665', 'Q99177', 'O14649', 'Q5EXX3', 'P39413', 'Q6F3I7', 'D0VYS2', 'P09169', 'O35927', 'P01270', 'P32177', 'A8J637', 'Q96I76', 'A0A2R9TD79', 'P13421', 'F4J3T8', 'F4JY37', 'O74356', 'P50228', 'O75907', 'Q03429', 'G4N7S6', 'Q58282', 'B6EU02', 'P21175', 'Q9SE42', 'P0AF98', 'P55789', 'C7NWW8', 'O60062', 'P42937', 'Q5T2S8', 'P43782', 'Q9DAG5', 'Q9BU02', 'P35823', 'O23210', 'Q9Y2I2', 'L0RVU0', 'Q96I45', 'Q9C9N6', 'Q9HE02', 'P07822', 'P93740', 'Q9S426', 'A6VKA3', 'P10155', 'Q96RD7', 'A0A2I8B353', 'Q96BP2', 'P13794', 'C8VSZ2', 'Q9H221', 'O05542', 'Q8H0W0', 'Q9V3F3', 'P35187', 'Q2FV52', 'P53937', 'Q9BZB8', 'P0ABJ1', 'Q5JIZ5', 'Q15649', 'B2LXS7', 'P31553', 'P81025', 'Q9LUB7', 'Q9LZD3', 'Q9C469', 'Q56851', 'P53869', 'P82103', 'Q14722', 'Q02988', 'Q6DFW0', 'P60955', 'Q32M00', 'Q03002', 'Q8NBI3', 'O15027', 'P39517', 'P01161', 'P0A407', 'Q8R316', 'Q15327', 'Q8TAX9', 'Q60214', 'Q9H8H2', 'G3XD89', 'O60136', 'Q9JLA3', 'Q9QUS4', 'Q8R570', 'P9WHR3', 'P10174', 'O60174', 'P54484', 'Q9C8M2', 'Q63273', 'Q96KQ4', 'P51529', 'P00175', 'Q9XUC2', 'Q12393', 'P29274', 'P42708', 'P17695', 'Q59478', 'Q4JDL3', 'P21326', 'Q8DIF8', 'O75935', 'Q8GKS5', 'Q14997', 'P02681', 'Q9USP3', 'Q91WA1', 'Q03723', 'Q3UR85', 'P49736', 'Q06512', 'Q8ZR01', 'O06925', 'P53010', 'Q9US35', 'Q08429', 'P0ABN1', 'Q9BT81', 'P26202', 'Q9P5M9', 'Q69ZM6', 'Q03989', 'Q76FP5', 'Q13889', 'O59716', 'O75151', 'O53361', 'Q8IS21', 'Q9CAF9', 'P21865', 'P70473', 'Q04007', 'A3DH67', 'Q5SMG8', 'Q9FNK4', 'Q12453', 'P39656', 'A0A5C2A2T2', 'Q27365', 'P40096', 'Q0TV31', 'P81299', 'P08001', 'Q9BQI6', 'P9WJN5', 'Q6PCD5', 'O05465', 'Q9Y2S7', 'P31358', 'Q9P6I7', 'Q1JQ73', 'B7JAQ0', 'O42890', 'P12629', 'Q9NRR1', 'F4IIU4', 'Q10214', 'Q8J0K5', 'P19634', 'Q96BR5', 'A2A761', 'D0C8V9', 'Q9VG55', 'Q9NZH6', 'Q8KRV3', 'P06279', 'Q9QZ59', 'Q9HGL2', 'Q12127', 'Q9Y3P9', 'Q9NW75', 'Q12200', 'Q03714', 'P42363', 'Q967U1', 'Q22560', 'Q9NRG9', 'P22541', 'P53883', 'P46674', 'Q9LZA5', 'P43115', 'Q9C002', 'P0AFF4', 'Q96RQ9', 'O82132', 'P24349', 'P07380', 'Q9W2H9', 'Q8K3Y6', 'P22146', 'Q8RWH9', 'Q8IXQ9', 'Q39487', 'Q96QR1', 'Q9ESN6', 'O29777', 'Q8CE22', 'Q8IY92', 'Q86Z14', 'Q9W0M7', 'P53927', 'Q56030', 'P72412', 'P51617', 'P41108', 'Q0E908', 'B0XRV0', 'Q80TM9', 'A0M6E0', 'P0A333', 'Q8CGF6', 'Q02795', 'Q96EK4', 'P31747', 'Q00566', 'Q12365', 'P0C0J7', 'Q06632', 'Q9U1Q0', 'Q9H2D6', 'Q4V645', 'P52891', 'P46531', 'P87239', 'Q7TS74', 'P28566', 'P24258', 'P53166', 'O74822', 'P43174', 'E1C7U0', 'Q9SZN7', 'Q99519', 'P40564', 'P0AB85', 'Q06945', 'P43972', 'P22629', 'Q6IPR1', 'Q9FGS0', 'O14798', 'P09888', 'Q9Y6D6', 'Q9BSA9', 'P39848', 'Q9UPS6', 'C6Y4C9', 'Q9H161', 'P37387', 'Q9HVJ6', 'Q9P790', 'Q9W1R5', 'Q3E841', 'P0AD44', 'Q9Y5Y4', 'P82916', 'P33487', 'G5ECT0', 'Q9M219', 'P28581', 'Q9XF57', 'Q8WY41', 'P00797', 'P83794', 'Q9FHW2', 'P53115', 'O51059', 'Q13432', 'O60921', 'P05060', 'P15922', 'P38701', 'Q9LVD0', 'Q92681', 'C6JUP3', 'Q68FX6', 'Q9UTQ4', 'Q7M413', 'O00444', 'P15703', 'Q9NXA8', 'Q01305', 'Q9Y7J8', 'Q12778', 'Q62640', 'Q89ED5', 'P0C2C4', 'Q9BYD3', 'Q9NQB0', 'C7F6X3', 'P52630', 'P39995', 'Q9UTE1', 'P21917', 'Q9HEQ9', 'P44569', 'P19425', 'Q9LEZ1', 'Q9NUU6', 'Q22053', 'P02790', 'A1Z7Z9', 'P40827', 'P38313', 'Q8TF01', 'P47853', 'Q80WS1', 'P46974', 'P06200', 'P04123', 'Q9C000', 'C0HJQ4', 'Q8RXU6', 'O74964', 'Q99KJ8', 'P14212', 'P05738', 'P08118', 'Q9UT03', 'B7FAS6', 'Q9P6K8', 'P0AGA2', 'P31779', 'Q9NVV9', 'O08523', 'P28804', 'Q9M065', 'Q8WQK0', 'P22327', 'Q977V2', 'P34706', 'P40107', 'Q19640', 'Q9CAF5', 'P00714', 'Q8BXN9', 'P29822', 'Q09693', 'Q9LM71', 'Q8LF89', 'Q9XIP8', 'Q61009', 'P07602', 'O82357', 'Q8D0Z7', 'P27654', 'Q9Y7U6', 'Q9HE11', 'Q9ZW82', 'P77304', 'Q09697', 'P42256', 'O13684', 'O75711', 'Q9NX04', 'P46122', 'P83793', 'P53333', 'Q9S0W8', 'O69231', 'P02924', 'G4SW86', 'O16025', 'Q01528', 'B0R9Z1', 'P53313', 'Q9BWC9', 'P29064', 'P82933', 'P12376', 'D3ZSC8', 'P55145', 'P30878', 'Q9ULC3', 'Q8WVJ2', 'Q9BRD0', 'Q9SUQ2', 'Q9H4I9', 'P54865', 'Q94AA4', 'P83313', 'P38771', 'Q57837', 'Q95017', 'O60315', 'Q50339', 'P38745', 'Q00855', 'Q9P6I9', 'P34707', 'G3XDA5', 'P02808', 'Q9WU12', 'P31716', 'D9IA43', 'Q9CA40', 'Q9LRC8', 'O17286', 'Q9URX9', 'P47341', 'Q107X0', 'A0LNN5', 'O95208', 'P20626', 'H6LGM8', 'Q9SU40', 'O82266', 'Q5HZG9', 'Q96D96', 'A4QD57', 'Q04598', 'Q9UM63', 'Q504Q3', 'Q99279', 'Q9ZQZ6', 'Q27GK7', 'O13936', 'B2RH59', 'P52739', 'Q4WR83', 'O95900', 'Q9LV14', 'Q9AQS0', 'Q6Q5K6', 'Q9UUG2', 'P53101', 'P01579', 'Q9LEB4', 'P08913', 'Q12524', 'P0A006', 'P42196', 'G5EDW1', 'U6A629', 'P87377', 'B0FHH8', 'Q10357', 'Q0WUY1', 'Q9V579', 'P43427', 'P41547', 'Q96AP4', 'O95998', 'Q8BG60', 'P25090', 'Q09728', 'P07102', 'Q27294', 'P35811', 'Q6YUS3', 'Q45215', 'Q6ZMR3', 'Q9Z173', 'Q3UVY1', 'P50542', 'Q5T5X7', 'Q69IL4', 'P59598', 'Q5XM24', 'P0CU08', 'P17989', 'O13715', 'P84634', 'Q9SSA5', 'P61870', 'Q9FLT2', 'P69428', 'Q9Y0V2', 'A0PA72', 'Q14831', 'Q07084', 'A7LXT7', 'Q944G9', 'Q0E3C8', 'Q9NL89', 'Q8IYX7', 'P0A7X6', 'P83886', 'Q9ZQ85', 'A0A0D5YI36', 'Q9UK73', 'P00738', 'P36659', 'Q9Y6X3', 'O00483', 'Q09811', 'P21837', 'Q9VJV8', 'Q84Y18', 'P49367', 'R4ZGN4', 'Q07020', 'P13720', 'O15269', 'Q9SD40', 'Q6NQJ6', 'P47871', 'Q8U0A4', 'Q9JMD0', 'G5EGK5', 'O95968', 'P40228', 'P25490', 'Q2Z1W2', 'P15270', 'O74324', 'P0A609', 'Q7Z3C6', 'A3KGV1', 'Q07418', 'A8FW15', 'P57757', 'P39677', 'P23515', 'Q15006', 'Q17784', 'Q9FX53', 'Q9BQB6', 'P19401', 'Q9S7Q2', 'Q8VY09', 'Q9LAB5', 'Q9I9A7', 'Q9SRX9', 'Q8S3U9', 'Q5F5F6', 'Q76LL6', 'Q17381', 'P37001', 'Q59289', 'P29590', 'P75493', 'Q9Y2F5', 'Q09792', 'Q9MAM1', 'Q14676', 'P33641', 'Q2V2Q1', 'P96169', 'Q99278', 'P27373', 'O62305', 'Q9P6R4', 'P16225', 'Q93ZC5', 'P43364', 'P25625', 'P25646', 'Q61473', 'Q06399', 'P0A924', 'F4J117', 'Q8CDP0', 'P83234', 'A6LFT2', 'Q9LT27', 'Q94JU3', 'P39744', 'Q8N5M9', 'Q659I5', 'A0A2I8B352', 'Q18221', 'G5ED41', 'O83691', 'O43913', 'P70396', 'P83792', 'P39442', 'P35613', 'Q9LSI7', 'P10720', 'C4P6S0', 'Q8L7F7', 'Q95PA1', 'Q90257', 'O75844', 'Q8T0W5', 'Q9Z206', 'Q9SKI4', 'Q62867', 'Q9NQZ3', 'Q8TBZ6', 'P76272', 'Q53599', 'P0C5Y7', 'P83876', 'P9WK56', 'Q9Y2B4', 'P11919', 'Q9NP58', 'Q9UJV9', 'P51813', 'Q8BUB4', 'Q9HBA0', 'P23044', 'G5EEM5', 'O43012', 'P87229', 'Q9USQ6', 'Q86Y26', 'P9WK79', 'Q9TW45', 'P0ABE5', 'P50582', 'P12550', 'A0A160PB22', 'Q8BG17', 'Q6FYW2', 'O15226', 'Q12252', 'G5EEK3', 'Q28989', 'A5YKK6', 'Q12461', 'C7RCP6', 'P40205', 'O33407', 'P79051', 'P19400', 'D4A693', 'O59737', 'O28846', 'P87052', 'P25289', 'Q9UBF9', 'P25116', 'Q63617', 'Q926C3', 'O60130', 'P44276', 'Q6ZIK5', 'P58564', 'Q13492', 'Q8BLY2', 'Q9ZVU5', 'P12729', 'Q9XE58', 'P02930', 'P55802', 'P53307', 'P83513', 'Q9P6I6', 'P0ABZ6', 'P75830', 'Q6IUP1', 'Q06002', 'D4A702', 'Q01578', 'Q12211', 'P33534', 'Q7M3S9', 'Q17043', 'P40159', 'Q87C91', 'O00443', 'P51521', 'Q9VIP8', 'Q9P4U9', 'Q84N48', 'P38250', 'Q8YM40', 'A0A8M2', 'E9Q9F6', 'O42849', 'Q96S96', 'P9WK41', 'Q03529', 'Q6ZH94', 'Q6RI63', 'A3RF67', 'O74792', 'Q03611', 'Q9C0W2', 'Q05819', 'A1JUB7', 'Q07930', 'Q56575', 'Q5X521', 'Q9P0I2', 'Q86LE5', 'Q04093', 'Q9HE09', 'Q06511', 'O94307', 'Q52764', 'P32842', 'O13905', 'Q96JB5', 'Q9P2K2', 'C8VTV4', 'P54582', 'Q10412', 'P35150', 'P31688', 'Q9TVX3', 'Q9NQV5', 'P26501', 'Q9SCL7', 'Q08822', 'Q92665', 'Q08BA4', 'P51834', 'Q6EH50', 'Q9NW15', 'Q9SY66', 'Q5K131', 'A6L3B5', 'Q9USN5', 'F4J8D3', 'Q3YEC7', 'P81418', 'E9Q6W4', 'P30559', 'Q8VYD2', 'Q10296', 'E8XP36', 'O74859', 'P12687', 'O00105', 'P0A910', 'P53207', 'O74461', 'Q99J21', 'P13979', 'Q86PC9', 'P33419', 'B9DY54', 'D0Q0Y7', 'P97852', 'E2RQ08', 'Q9NTU7', 'O74896', 'P34611', 'P53102', 'P28307', 'Q96EF0', 'Q25QX6', 'P67875', 'Q8BVM7', 'P00154', 'P15650', 'Q8ZRJ9', 'P49768', 'P01302', 'Q810B3', 'Q02732', 'Q01117', 'Q02875', 'Q6LZY8', 'Q9SPG2', 'Q9NP86', 'P02783', 'P36520', 'Q81BL7', 'Q9HDV6', 'Q6WN34', 'Q283Q6', 'Q04411', 'P29722', 'Q9VTE2', 'Q9NS25', 'Q9C5Q8', 'A0A081GU02', 'A0QYB5', 'Q94C32', 'O00767', 'Q9Y7V2', 'Q57IG4', 'O81787', 'P08821', 'Q9WU70', 'P16368', 'P94552', 'E0XKJ8', 'P25567', 'Q9GZX6', 'F4IRR2', 'Q10655', 'Q9Y592', 'P03959', 'P02746', 'P32569', 'Q9GN62', 'P44042', 'P0AGM7', 'Q96RL1', 'O75899', 'Q960N3', 'Q9UUF3', 'Q1ZYQ8', 'Q0JFZ0', 'Q8QFR4', 'P80188', 'Q96GC6', 'P48632', 'Q9ULZ0', 'P16636', 'P36519', 'P20713', 'Q9P785', 'Q41387', 'Q5EN53', 'P26780', 'Q9SBK6', 'Q8N766', 'P38086', 'Q12072', 'Q9BV81', 'F2QXM5', 'Q9R059', 'Q6UWN5', 'Q03954', 'P40406', 'Q57556', 'O60306', 'P38769', 'Q04728', 'O33458', 'P05533', 'Q53S33', 'P69740', 'Q13888', 'P35778', 'P9WJK3', 'Q8RWN5', 'Q9SGZ8', 'P82663', 'P32347', 'B2UBL7', 'Q550F6', 'P0A8X2', 'P36144', 'O60171', 'Q99JY3', 'B3STN5', 'P08458', 'Q9UTK9', 'P47027', 'Q9FZ47', 'Q2YK18', 'P89886', 'A9Q0M7', 'Q9BQ95', 'P04124', 'P53335', 'P36532', 'P51456', 'O74558', 'P52002', 'P23903', 'D4AE59', 'Q8GXJ4', 'Q02825', 'P10975', 'Q9BUU2', 'P05149', 'O48533', 'Q9URY7', 'P09787', 'O74399', 'P0A3W5', 'P38889', 'Q9Y2T5', 'Q9BQA5', 'G5ECT8', 'P08697', 'Q19849', 'Q16663', 'Q3UZ18', 'O94451', 'P19584', 'E7FHP1', 'Q9Z0S5', 'Q8NKX2', 'Q9M0Y9', 'Q3UWR2', 'Q5AHB1', 'Q9I194', 'P44741', 'Q8C6P8', 'Q8L9A0', 'P42061', 'P40167', 'O67305', 'P40530', 'P0ADM4', 'Q9SZ63', 'P13036', 'Q8MLZ3', 'P18684', 'Q09820', 'Q9BRV8', 'O75688', 'Q58439', 'P49903', 'P34957', 'Q12493', 'Q540U1', 'Q9SQK3', 'D3Z7H4', 'Q9Z0K8', 'Q0WMY5', 'E1BSW7', 'C0SP80', 'P15999', 'Q06137', 'P02671', 'P9WM45', 'Q8BIQ5', 'P53850', 'O14949', 'P53170', 'Q8N0S6', 'Q9XXV0', 'P54475', 'P0AEY8', 'H2L008', 'Q46835', 'Q9FFH1', 'P18659', 'Q3TBL6', 'P41595', 'P17118', 'Q96IJ6', 'P46863', 'Q04562', 'P69856', 'Q9P7D3', 'Q6GE63', 'Q6K498', 'Q6RUF5', 'C7AJA4', 'Q8VWG4', 'Q9GQV7', 'Q9VIV2', 'Q14191', 'P40326', 'P13806', 'Q9UT31', 'Q9RKQ0', 'Q99808', 'Q9Y7R7', 'Q9V4C8', 'P50500', 'Q96T68', 'Q9GZV9', 'P0CX47', 'P0ADB0', 'Q12431', 'Q5NBM8', 'O83475', 'P54423', 'Q10124', 'Q9PLJ2', 'Q2L4W6', 'Q9I5U2', 'P20789', 'Q7TS99', 'E7BLC7', 'Q96JB8', 'Q96FC9', 'P11150', 'Q9STG9', 'P27787', 'Q99JE6', 'P18709', 'Q2JJF6', 'Q9LI74', 'P0DPU8', 'P01730', 'Q6PFG8', 'P02648', 'Q54QV3', 'Q9P7T0', 'P87074', 'P57026', 'Q9QZM0', 'Q727P6', 'P92189', 'Q9VAF7', 'Q03383', 'P33781', 'Q9BYV1', 'P41777', 'Q14CW9', 'Q6UXB1', 'Q9ZVC2', 'Q9P7M9', 'T2GP47', 'Q99L88', 'Q9NWZ8', 'P06727', 'H2L099', 'P61619', 'Q9USP7', 'P01024', 'P78362', 'O04350', 'P39939', 'Q8T6B9', 'P01795', 'Q9UTG1', 'P20271', 'P19456', 'Q9AFF7', 'C5J887', 'Q9NVR2', 'Q9CAQ2', 'P09394', 'O94644', 'P56765', 'Q8N427', 'P40770', 'Q92316', 'P23857', 'Q8ZRW0', 'B0XTT5', 'Q86UV5', 'O13871', 'P18959', 'O34689', 'P10909', 'Q62376', 'P38054', 'P40506', 'P96667', 'G5EGK6', 'O14041', 'Q46125', 'Q6X4W1', 'Q0GY40', 'P54132', 'O01789', 'Q24145', 'P0DPU7', 'Q8N1Q8', 'Q9P7H5', 'Q8VZ10', 'P02702', 'Q9Y6K9', 'G4V4F9', 'Q9C503', 'C0HLA0', 'O08560', 'P97288', 'P33280', 'Q9Z869', 'Q91836', 'Q12298', 'Q9V9Y4', 'Q8TE85', 'O32005', 'Q1MTR2', 'P0DL09', 'A0A0F7YZQ7', 'Q08109', 'O60308', 'Q9V3J4', 'Q16629', 'Q8W257', 'Q09777', 'Q9C5S1', 'Q7T3R4', 'P05305', 'Q3ZBF3', 'O31486', 'Q9Z266', 'Q9ZBM7', 'Q5JVL4', 'Q9V9N1', 'Q45340', 'P55320', 'Q8BZ47', 'B6JKG3', 'D2ZZC1', 'Q8VZR0', 'A1Z8P9', 'P98066', 'Q8VYR5', 'Q02794', 'Q75WF2', 'P47821', 'P04276', 'Q9ESL4', 'D6VTK4', 'O74862', 'P15247', 'Q8VBU8', 'Q8GYJ4', 'Q6NPN9', 'P37299', 'P44544', 'Q61471', 'Q9JMG6', 'O75920', 'Q9RQB9', 'P07552', 'A9YTQ3', 'Q8MMH3', 'P04155', 'Q08965', 'O94462', 'E7DDH2', 'Q9CJU4', 'P53718', 'P0C0Y7', 'P0C050', 'O14030', 'Q9A6U9', 'P13864', 'P81623', 'Q9P7S6', 'Q13620', 'Q9FQ03', 'Q969J5', 'Q9H3H5', 'P94691', 'O94628', 'Q03941', 'Q2NKJ3', 'P67788', 'Q13115', 'O13713', 'Q4FZF2', 'P0CX84', 'O13722', 'Q9X1B7', 'P43261', 'A6NHX0', 'P0A902', 'O94388', 'Q03431', 'P55263', 'Q7XYY2', 'P40516', 'Q8GT41', 'Q9FQ09', 'Q7Z3E1', 'Q04177', 'P15926', 'Q01650', 'Q9NVW2', 'Q94ID3', 'P35996', 'P32799', 'Q12156', 'P74917', 'Q12161', 'O14015', 'P24474', 'Q96E14', 'P35053', 'O94398', 'P39049', 'P46964', 'Q9H3J6', 'P41948', 'P0A9Z7', 'O31749', 'P20774', 'P05740', 'O23247', 'O94986', 'Q86W47', 'P71244', 'Q9W3M3', 'Q8IWT1', 'P49775', 'Q14203', 'P80702', 'Q8IY21', 'P55319', 'P82358', 'Q12297', 'Q06525', 'Q84LH8', 'P81828', 'Q7Z995', 'D3ZUQ0', 'F5CPD3', 'A0A0U2UYC4', 'Q84VZ1', 'Q9L1P4', 'P28612', 'Q9HE76', 'P07021', 'Q9D489', 'Q4G0U5', 'Q12947', 'P0DMR4', 'Q9CY02', 'O75937', 'Q8TD06', 'Q90ZA1', 'Q5SJ79', 'Q8GXN9', 'Q9HD33', 'P26466', 'P53072', 'P15391', 'Q9BVI0', 'P0AEG4', 'Q71A39', 'P36626', 'Q9BZJ0', 'Q05044', 'Q03151', 'Q940G0', 'A1SVX3', 'Q07845', 'P31122', 'Q80VR2', 'P26877', 'O74545', 'Q9SLB9', 'P05099', 'Q9S816', 'P96156', 'A0A140LI88', 'O32436', 'Q5YA25', 'Q8NHV4', 'P47015', 'A0A0K8P8E7', 'Q05586', 'Q9BYG8', 'Q8IX12', 'Q8NC51', 'Q8IW35', 'P75153', 'P40070', 'Q49538', 'Q9FK12', 'Q9XXH8', 'K9UJK2', 'Q9Y2K1', 'P01170', 'O51418', 'Q00497', 'P07643', 'Q0CRX8', 'P07808', 'Q9BRF8', 'Q84WL6', 'Q84JE8', 'Q8RWV8', 'Q9CC94', 'O60158', 'P36154', 'Q89AH6', 'P82162', 'Q8IYB8', 'P35179', 'Q96TU3', 'G5ECG2', 'Q5H9F3', 'Q9LEY4', 'O94652', 'P04557', 'Q8GXR9', 'P53985', 'P34420', 'P25718', 'Q8TCS8', 'Q9VA38', 'L0DSL2', 'O22975', 'P63250', 'P02749', 'P20020', 'O80839', 'Q9BRJ2', 'Q03490', 'O61661', 'P26452', 'Q2FZL3', 'P39301', 'O59811', 'Q9UTD7', 'P06129', 'P75327', 'Q8TF46', 'H9G301', 'Q9WVS4', 'Q9FGQ2', 'Q94K85', 'Q9ZUZ6', 'O95926', 'Q93VC7', 'O60894', 'P02763', 'Q9N4U5', 'D0VWR5', 'Q9HPK2', 'Q5SML5', 'Q969F9', 'P00779', 'Q8WWH5', 'P11021', 'Q9US28', 'P25656', 'Q8K1Q4', 'Q9U3V9', 'Q9Y6H6', 'P31697', 'Q8W104', 'P87141', 'Q91YI4', 'O94560', 'P55163', 'P41271', 'Q9CAQ8', 'B9KDD4', 'Q44856', 'P51998', 'Q8WPJ2', 'Q07979', 'P51919', 'Q6EDY6', 'P20292', 'Q0E3V2', 'Q86W50', 'P83371', 'Q9H9E3', 'Q0AE45', 'P20821', 'P38687', 'P55428', 'Q02775', 'O14183', 'Q8DIQ1', 'P76045', 'O14259', 'P40156', 'Q2YJ77', 'P33767', 'Q6QD51', 'P0DMD3', 'O49782', 'Q03262', 'P81134', 'P10085', 'P28607', 'Q8N4X5', 'P0DQE1', 'Q94BQ3', 'O94338', 'A4G6A8', 'O35250', 'P84843', 'P56945', 'Q2FVE7', 'Q7K4M4', 'Q558Z2', 'Q9QZE5', 'Q51486', 'Q6S000', 'P15692', 'Q9SM43', 'Q9ZWA6', 'P78363', 'Q9NSA1', 'P38282', 'Q2TBA0', 'E1WAE4', 'Q8TCJ0', 'Q2V9B0', 'P38998', 'Q43125', 'Q9P0W0', 'Q7L1W4', 'P40188', 'P69681', 'O43572', 'O46168', 'Q94EG3', 'Q9APM5', 'P69380', 'P38126', 'Q64277', 'Q9P797', 'P13183', 'P36597', 'O67235', 'P34341', 'P9WK70', 'F4J3R7', 'Q8R6L9', 'Q86T24', 'P22301', 'Q8WQ86', 'Q9NXR7', 'Q4WF55', 'Q93PU5', 'Q9DA75', 'Q7LKZ6', 'P55081', 'Q8H3A7', 'Q3YJT5', 'Q14SY0', 'P91276', 'F1RRV3', 'P46359', 'Q8L983', 'Q7TQN3', 'A9ZSZ2', 'P05113', 'P34708', 'A0A1P8ASY1', 'Q12497', 'Q9Z258', 'P33308', 'P16950', 'O14842', 'P49116', 'Q8TEU7', 'Q96PP9', 'P31231', 'Q9C658', 'P28778', 'Q9EPI8', 'P31226', 'Q940X9', 'Q9VP76', 'Q10490', 'P54318', 'Q8IXK0', 'Q8L627', 'P14661', 'Q9LPZ4', 'P09938', 'Q63424', 'P17953', 'Q9LIQ6', 'P38781', 'O31810', 'P32899', 'P21731', 'Q79AD2', 'Q9HWA1', 'Q9SMZ4', 'P13266', 'Q15040', 'P01307', 'P25696', 'P56726', 'Q6DRC5', 'P20933', 'P09595', 'Q5NAT0', 'P22736', 'P63142', 'P0CL69', 'Q28085', 'P48381', 'P28319', 'Q9HVD1', 'P69851', 'D5LXJ0', 'P92507', 'Q12420', 'P21814', 'E1B328', 'P25355', 'P0AB08', 'P32656', 'P06609', 'Q6PDU5', 'P23394', 'Q9UUI3', 'P95470', 'F4K410', 'Q02942', 'P12524', 'Q96QU8', 'P09391', 'O94441', 'Q5T7B8', 'P54945', 'P80109', 'Q84K52', 'P34560', 'Q9JZN9', 'Q06576', 'P35195', 'Q6AXT7', 'Q9XW16', 'P28039', 'P39023', 'P06030', 'A4WEW2', 'Q9UBE0', 'Q01163', 'P28700', 'P06886', 'Q12770', 'Q9BYF1', 'Q09704', 'O36025', 'Q6GJM8', 'Q96QD9', 'Q9US15', 'Q06706', 'Q39688', 'F4J8K6', 'P01137', 'A0A0K9RDW0', 'O95711', 'Q13137', 'P60467', 'P30657', 'P02679', 'P54700', 'P39549', 'Q8QGU6', 'P20827', 'P30130', 'A0A0H2VG78', 'Q0G838', 'P07811', 'P18146', 'Q19203', 'Q5RLZ1', 'Q1HG43', 'O94362', 'P39721', 'A7MLE5', 'P20108', 'Q76PD2', 'P0ADC6', 'Q04922', 'Q9UNH7', 'P02906', 'P50579', 'P29695', 'F4I700', 'Q96MH2', 'Q03155', 'P10279', 'P40363', 'A2A870', 'Q86WC4', 'Q03799', 'P0C0S1', 'Q9GL30', 'P09001', 'Q1DB04', 'Q08AG7', 'P36004', 'P0ABS1', 'D7GXG1', 'Q8MUC5', 'P19263', 'P30556', 'Q9C928', 'Q9SJU5', 'B0JFB8', 'Q5GLZ8', 'O14727', 'Q5ZXE0', 'Q8U1S5', 'P28837', 'Q12429', 'A7T1N0', 'P53848', 'Q8Z6A7', 'G5EFZ3', 'O52055', 'P25637', 'F7J1C8', 'P08432', 'Q5T0W9', 'P25929', 'Q9NYK1', 'Q8N196', 'P17201', 'Q42577', 'P37600', 'Q9YHZ6', 'P38197', 'P83880', 'P0CU17', 'P60460', 'P37028', 'Q8TD08', 'P21827', 'F6YCR7', 'O84080', 'Q6DGG9', 'Q10135', 'F1LM93', 'O60166', 'Q4W9R0', 'P76578', 'Q8CFC9', 'P33400', 'Q96JC9', 'P30968', 'Q9BWJ5', 'Q9M374', 'Q53TN4', 'O60844', 'Q9H2W6', 'Q18240', 'A6URZ5', 'F4KFB3', 'O18994', 'Q01981', 'O80875', 'O34431', 'P9WG28', 'O74454', 'P35481', 'Q9ST69', 'H6D7E6', 'Q9EQX0', 'Q9UTG6', 'P0AAI3', 'Q38897', 'O14032', 'Q8IH18', 'Q99972', 'Q86V24', 'P54098', 'B1P0S1', 'P22751', 'P14678', 'Q60557', 'Q14BI7', 'P53043', 'Q99PJ1', 'Q58026', 'P60841', 'Q99003', 'Q86YS7', 'P10121', 'C0SP99', 'Q9C7G0', 'B7F8P5', 'Q12129', 'P29288', 'A5W4E3', 'Q5HGV1', 'Q9M3C6', 'Q05085', 'Q8L7U4', 'Q9BZM5', 'Q9Y7T2', 'O95810', 'P02655', 'Q9I116', 'Q03771', 'P78067', 'P03960', 'Q8N9B5', 'P15698', 'P18915', 'Q1MTQ9', 'Q96MF7', 'P18508', 'Q4WZ11', 'Q6LA56', 'Q72JD8', 'Q56973', 'P60033', 'P19427', 'Q55DB0', 'P39724', 'P18510', 'Q9Y6I4', 'Q9BT92', 'O96559', 'P24483', 'P0AC44', 'P53634', 'Q6P3G4', 'P50106', 'P35248', 'P51532', 'P04003', 'Q8H991', 'O43283', 'P0ADU5', 'A5TZU0', 'Q04868', 'P10669', 'Q9ESC1', 'Q9LLT1', 'Q96T21', 'Q9BXL8', 'Q5FW52', 'Q8I817', 'P0C090', 'Q9Y2T7', 'O06522', 'Q6IQX8', 'P10762', 'Q8L5R3', 'B9DFA8', 'Q02113', 'Q2FZP8', 'Q8TAF3', 'P08125', 'P36662', 'E9PYI1', 'Q5XKR4', 'P92204', 'Q9X6V6', 'Q12220', 'Q9SCR2', 'O25930', 'O22210', 'Q99PE8', 'P30440', 'Q5E915', 'Q9SL05', 'Q6ZU80', 'P29029', 'P68699', 'Q9VMD6', 'P41222', 'Q8VCQ3', 'Q8BKA3', 'Q9SGA2', 'P04196', 'Q9C0Y8', 'P0A927', 'B3A003', 'P17987', 'Q14165', 'Q9I869', 'P13384', 'P40858', 'O74531', 'A8CL69', 'O60058', 'P01006', 'Q94BR4', 'B6H2G9', 'Q8S3N1', 'B2D6P4', 'Q58368', 'A2XFC1', 'P50726', 'O07634', 'Q84W65', 'Q96PD5', 'Q22663', 'Q8W4Q4', 'Q9I596', 'P51684', 'Q08923', 'A0Q6X4', 'P25270', 'Q9BSW2', 'O60783', 'Q5UCC4', 'P84308', 'P06654', 'B6VQA1', 'P70837', 'P64423', 'Q9P7W4', 'Q13428', 'Q96E29', 'P0ADA1', 'Q6ULP2', 'Q9R002', 'Q8TMG0', 'Q9S1H0', 'Q9SJM4', 'P02703', 'Q9Y2M2', 'P76341', 'Q2LAE1', 'Q5D710', 'Q96M11', 'P21163', 'P22340', 'O54715', 'Q8N371', 'O30143', 'Q9VBW9', 'Q384Y0', 'B8AL97', 'Q94CV1', 'P16055', 'Q9HUF7', 'P10822', 'Q12172', 'P49286', 'P42001', 'O74435', 'P75820', 'F4HU58', 'Q9D2Y4', 'P0AG99', 'P07987', 'P0DPG3', 'Q6FI81', 'Q6L5B5', 'Q26377', 'P69054', 'Q03426', 'P0AF70', 'C0HL82', 'Q9SIV5', 'Q24307', 'P20440', 'Q6NQ99', 'Q086E4', 'O42844', 'P0ABJ3', 'O54943', 'P54451', 'Q8NEJ9', 'O74804', 'P14780', 'O42951', 'A0QXD9', 'Q9DAM1', 'P00410', 'Q9FWA6', 'A3RJ36', 'Q9BZL1', 'Q9BQP7', 'O34349', 'P46940', 'A1X158', 'Q9SY69', 'O94724', 'Q9P799', 'P42845', 'Q0Z8B6', 'Q9Y3R4', 'Q9HGQ0', 'Q969W0', 'P62487', 'Q96JJ3', 'Q6ZRQ5', 'P27033', 'Q9ULP9', 'C6KI89', 'Q9XGM3', 'O75603', 'P02916', 'Q03433', 'P0C8G7', 'Q04195', 'P21453', 'Q9BX93', 'O60318', 'Q922Q1', 'P38013', 'P42578', 'Q9P3W1', 'O34214', 'P36534', 'C9K4X8', 'Q96C36', 'G5EGQ6', 'O28918', 'Q02931', 'Q29W25', 'Q35128', 'Q12343', 'Q00595', 'Q06408', 'Q15436', 'F1NSM7', 'O04479', 'Q94F30', 'P53262', 'F2JXJ2', 'O94636', 'Q05892', 'P22483', 'P80152', 'Q50EK2', 'O42720', 'Q9VEC1', 'Q9JK81', 'P06548', 'P32340', 'G5ECG0', 'I6XEI5', 'Q9HE16', 'P36527', 'A0A0F7YYX3', 'Q3E785', 'P17413', 'P53873', 'Q0JQF7', 'Q5TCY1', 'P75371', 'Q9UT96', 'O17907', 'Q9UBX2', 'Q86M34', 'P32785', 'P10903', 'Q9H079', 'P18895', 'P60832', 'Q9H116', 'B2RH58', 'Q8KES3', 'Q8VC66', 'Q9USQ2', 'P41543', 'E1XUJ2', 'B7IE18', 'Q12373', 'P29460', 'Q8LPN3', 'Q57130', 'Q924C5', 'P96740', 'Q53H47', 'Q93356', 'P21338', 'Q3C258', 'Q03201', 'F4JP48', 'P48745', 'L7N1X6', 'O14179', 'Q9H244', 'P11916', 'P92186', 'O82399', 'Q5VWP2', 'P0C194', 'Q9UHR4', 'O22131', 'P00748', 'D3ZGX1', 'P27692', 'Q9SLP4', 'P92948', 'P82413', 'P64606', 'F8WQK8', 'Q7XLD4', 'Q6NZY4', 'Q9M373', 'Q02873', 'Q9XGP7', 'O64642', 'Q06139', 'Q5S006', 'Q9ZT16', 'O94762', 'O77801', 'P30153', 'Q39055', 'Q9BXU7', 'P14906', 'P49250', 'P0ADE4', 'Q14CZ7', 'Q9SYD8', 'Q7TNS8', 'E4PKG3', 'Q4KMP7', 'Q9XEA1', 'P23025', 'P00992', 'Q9H0R1', 'P82281', 'P34116', 'Q9S713']\n"
          ]
        },
        {
          "output_type": "stream",
          "name": "stderr",
          "text": [
            "Processing...\n",
            "Done!\n"
          ]
        },
        {
          "output_type": "stream",
          "name": "stdout",
          "text": [
            "Length of proteinnames 2126 is == or larger than length of existing proteins in processed dir 2129\n",
            "self root local:  /content/drive/MyDrive/transmembrane_proteins/data/graphein_downloads/v4/\n",
            "protein list: \n",
            "['I6S7G5', 'Q9FGT8', 'Q64514', 'Q9Z0G9', 'P59665', 'Q9JJW5', 'O15297', 'Q13162', 'P12238', 'Q05471', 'O74562', 'Q5XPI4', 'P50222', 'Q3MUH7', 'P0DI81', 'Q48754', 'Q8N9V6', 'Q24322', 'Q9VYY9', 'Q08816', 'Q3L8N0', 'P37655', 'O97148', 'P55734', 'P26461', 'Q86W54', 'Q51227', 'Q9UL49', 'O76818', 'P09914', 'P82130', 'P07255', 'P44572', 'D4GW40', 'Q54735', 'Q01613', 'P9WNQ9', 'G5EGA3', 'Q4V4I9', 'Q9BDB7', 'Q9FMB4', 'A1XBS5', 'P28325', 'O35387', 'Q6R0G4', 'Q83EK8', 'O74312', 'P24821', 'Q9LZ56', 'Q23997', 'O74458', 'P63235', 'Q8LGD5', 'Q7KHG2', 'P84810', 'Q13112', 'Q9Z4S6', 'O94598', 'O82312', 'Q9BQB4', 'Q10137', 'A8K830', 'Q03188', 'Q9FX45', 'P0A6M2', 'B7MBF8', 'E3PPC4', 'Q9KPQ4', 'Q78IQ7', 'P9WK69', 'O14141', 'Q02354', 'A6W1C5', 'O60303', 'Q92542', 'Q9CKU6', 'Q9R1C0', 'O82239', 'P08751', 'Q09601', 'Q9Y4X3', 'P06700', 'O70576', 'P0CX78', 'Q5ZKX9', 'Q6U7H8', 'F4I2J8', 'O76192', 'O75112', 'Q13671', 'Q8K9V7', 'Q12457', 'V6ALN4', 'Q9LVC3', 'P68183', 'Q9HB40', 'Q10CH5', 'O15304', 'Q8BG18', 'P87241', 'P15647', 'Q8VZQ2', 'P0DI99', 'P51654', 'Q9VM91', 'O60939', 'Q8WWL7', 'A0AT29', 'Q1KPV0', 'P05205', 'P59644', 'Q64610', 'Q7RYW6', 'P86407', 'Q93Z00', 'Q9NRK6', 'P27477', 'Q96GX5', 'P0AGF4', 'Q8L3W1', 'P0DPU9', 'Q9C106', 'P42229', 'P53725', 'Q16674', 'P53992', 'P43003', 'O74830', 'B1XT70', 'Q03761', 'Q9HC23', 'O29867', 'O42868', 'P04148', 'P55265', 'P38285', 'P58154', 'P36408', 'Q8NE86', 'P53114', 'P0CC12', 'P24305', 'Q08977', 'Q08963', 'O94368', 'P40719', 'O89093', 'Q9QYP6', 'Q07540', 'O74779', 'P86872', 'O94953', 'M1V4Y8', 'P38371', 'P14772', 'O59760', 'Q02067', 'P0AFH8', 'Q9VIF5', 'P0CT04', 'P25031', 'Q5DTW7', 'P0AC25', 'Q9UUE0', 'Q5DW47', 'O75363', 'Q8TZK2', 'Q8TB24', 'O43278', 'Q7KRY6', 'A5VZA8', 'P53292', 'P07275', 'P0AET2', 'Q9FEB5', 'P52013', 'Q9ER97', 'O34385', 'O15344', 'F1RAX4', 'Q9VV73', 'Q47910', 'O00488', 'P11439', 'O13982', 'A0RZH5', 'Q3SY69', 'Q3UIK4', 'Q7NDN8', 'H2KYS8', 'P45478', 'O13974', 'Q9LIH6', 'P36138', 'Q46045', 'Q3SZX9', 'O54975', 'P07891', 'B5FGS5', 'Q8K202', 'P82804', 'Q9BUN8', 'Q9GSA4', 'Q9Z2D7', 'Q9P775', 'P14416', 'Q9GZZ9', 'O31803', 'Q9P2K6', 'P22394', 'P50531', 'A7VN14', 'Q9Y7Y6', 'P39731', 'Q86TB9', 'O34787', 'P01633', 'P45615', 'Q8VYR7', 'F4K1R2', 'P0DSN2', 'Q9HE05', 'F4JRB0', 'Q8CVC9', 'P34998', 'Q8L785', 'P08588', 'Q7L0Y3', 'P01139', 'Q500V5', 'Q99622', 'P40923', 'P02750', 'Q99MV1', 'Q95P90', 'P05527', 'Q42605', 'B2VEI1', 'Q12488', 'P06010', 'Q8WVT3', 'P27919', 'P32248', 'P0CX34', 'A0A0D1DWQ2', 'Q6D8U4', 'Q07970', 'P28798', 'P51575', 'O94590', 'O14343', 'P75255', 'Q12791', 'Q6NQ54', 'Q53TQ3', 'O83516', 'Q9R1S0', 'Q8IW19', 'Q9Z2F5', 'Q8WQL7', 'Q96BI3', 'O17894', 'P17213', 'Q15007', 'P07692', 'Q9ULT0', 'P02670', 'Q9BYX2', 'Q8R0P4', 'Q9Y4F3', 'Q27082', 'Q9T0A4', 'A8JAM0', 'P12333', 'O14348', 'Q99MB1', 'O74875', 'P80392', 'O14979', 'Q68WW6', 'Q5VNN5', 'A0A0H3AME7', 'Q12675', 'Q9VNA8', 'Q8RWV3', 'I6RA76', 'Q9Y7J2', 'O34889', 'Q9UT87', 'P0AEB2', 'B2RHG2', 'Q21360', 'P75742', 'P92947', 'P11218', 'Q01292', 'P44585', 'Q9SGU3', 'Q10573', 'Q40975', 'A1Z9P3', 'P28340', 'Q2PGV8', 'Q6Z1Z3', 'Q07WU7', 'Q97WX2', 'Q8CFW1', 'A6NJ78', 'Q8L743', 'P55405', 'P04039', 'P02659', 'Q148B6', 'Q9UUA1', 'Q09117', 'Q2MJS2', 'Q8BND3', 'Q03518', 'Q21446', 'Q99ML8', 'O14253', 'O81242', 'P31418', 'P53277', 'P56192', 'P42842', 'Q8I5V4', 'A1ZAY1', 'Q05789', 'P97253', 'P29788', 'Q05084', 'Q99967', 'Q8WP90', 'Q564K3', 'P41361', 'P37466', 'Q9H0U3', 'P47068', 'Q8BN82', 'Q9Z8J4', 'Q9C0J8', 'Q55P57', 'O60832', 'O49290', 'D4GYW6', 'P0A906', 'Q8A6W3', 'P27896', 'Q12500', 'Q5U5M8', 'Q32NU8', 'P61312', 'Q9H9L4', 'Q13635', 'A5HAK0', 'Q5HYI7', 'P33225', 'Q9BZV1', 'Q9C0B1', 'P16112', 'Q8L7U5', 'P0AAJ3', 'O14370', 'O95715', 'P47050', 'Q7G7J6', 'Q9ULV1', 'Q9Y508', 'P15570', 'P38720', 'Q9H1M4', 'O60081', 'P02976', 'Q8W4J8', 'P23968', 'Q12447', 'P39172', 'Q9FNY0', 'O42853', 'O83811', 'O88286', 'P69412', 'P37650', 'Q6JAN1', 'P18336', 'P42517', 'Q3ULA2', 'H2L0G5', 'Q8MML5', 'Q9F1L5', 'Q03825', 'P0DP43', 'P05695', 'Q16630', 'O94252', 'Q81DT1', 'P07471', 'Q9UI36', 'Q1H537', 'P0C8E8', 'Q9LES2', 'O15381', 'Q9U8X3', 'P38860', 'Q9ZFB3', 'P45844', 'Q9H981', 'P02765', 'Q53FT3', 'P87112', 'Q72E84', 'Q9C552', 'Q9Y2I8', 'O14338', 'Q9U572', 'Q16594', 'P82384', 'P38786', 'P81608', 'Q9PTD5', 'P40963', 'P13627', 'Q7M827', 'O43586', 'P04937', 'Q5ZR76', 'Q66JZ4', 'Q49803', 'P48437', 'Q9W0S8', 'Q92765', 'Q12050', 'I6Y9J2', 'Q84MM9', 'P02920', 'Q9P7W1', 'Q99661', 'Q8CFH6', 'P07834', 'Q8I7X1', 'Q9Z2N6', 'E1VBK1', 'Q9LQ02', 'P0AG90', 'P32644', 'Q1QXC9', 'B7XDF1', 'O94583', 'Q47945', 'Q7M6Y6', 'P49021', 'Q9LXD6', 'Q1PFN9', 'Q8VZ59', 'Q923J1', 'Q9GKK3', 'Q12017', 'Q63041', 'Q9LW12', 'P39543', 'G5EE86', 'Q7YT16', 'A0A5K7RLP0', 'Q96JM3', 'Q57519', 'Q9HAS3', 'Q86UW9', 'P01556', 'Q41932', 'Q6P161', 'Q934G3', 'Q9RY51', 'Q99590', 'P58300', 'Q18973', 'Q9VH14', 'Q9C1W6', 'Q14108', 'P05408', 'Q9P7B5', 'O43866', 'Q9BXL7', 'Q0JD85', 'P86929', 'Q9DBG9', 'Q99836', 'Q9H777', 'Q6IVV8', 'O60609', 'P87143', 'Q2TBR2', 'Q7L513', 'Q9ERQ3', 'P19532', 'O60896', 'P56874', 'P53881', 'P13691', 'Q5JTJ3', 'Q9M276', 'Q59XX2', 'O74731', 'Q2EMT4', 'P49796', 'A1XRN2', 'A1BQQ5', 'P40917', 'P78581', 'Q32MQ0', 'P80356', 'Q8BGW8', 'Q05516', 'Q92754', 'Q99538', 'P50637', 'P53332', 'P78423', 'Q5F0I3', 'Q03036', 'Q9UIF7', 'P04706', 'P76115', 'O75533', 'O00258', 'P50995', 'Q08738', 'Q00278', 'I0IUP4', 'P0AD27', 'P53804', 'P40136', 'O30511', 'Q96GV9', 'P56595', 'Q9Y7B1', 'O14791', 'Q8T626', 'Q9U6B8', 'Q8TF63', 'Q9JJR2', 'P43302', 'P07259', 'P31547', 'Q9H7E2', 'P29241', 'P43594', 'Q12701', 'Q9Z0L3', 'B4XT64', 'P42400', 'Q9Y7Y5', 'Q57817', 'P52594', 'P18958', 'Q8R5K4', 'Q9Y530', 'Q9NAN2', 'P9WIN9', 'P32839', 'O94387', 'Q86UD0', 'Q09776', 'P02896', 'P08151', 'O88811', 'Q15628', 'Q562C9', 'O95838', 'Q21209', 'Q9NW64', 'Q6NTE8', 'Q9ZG90', 'Q9XJ36', 'P28708', 'Q9NUN7', 'P23827', 'O94538', 'Q05775', 'P01499', 'Q8N8W4', 'P00130', 'Q9HDX7', 'P03872', 'Q6T3U3', 'P01174', 'D3ZGB1', 'Q7VKB7', 'P27683', 'Q99969', 'Q18593', 'O01352', 'Q66BP4', 'Q12321', 'W5PFI3', 'Q9H0U6', 'P09350', 'Q06411', 'Q08168', 'Q8GTB6', 'Q9NUQ9', 'P46561', 'Q07729', 'Q12188', 'G5EFF5', 'P0DPV6', 'P52871', 'O96693', 'P36544', 'Q32NK7', 'T2KN95', 'Q10MB4', 'O13802', 'Q48391', 'P38683', 'Q9LTX3', 'Q16927', 'Q8L7K9', 'Q18685', 'Q8BHN3', 'Q9NEZ5', 'P11350', 'A3QH32', 'Q9NRX1', 'Q64559', 'P21781', 'Q6K678', 'O94242', 'Q9R257', 'P32769', 'P82143', 'Q1RNF8', 'P97479', 'P96692', 'G5ED29', 'P25103', 'A7LXT4', 'Q8GWS0', 'Q69VD5', 'O70608', 'P48439', 'Q5T9L3', 'P28770', 'Q9LUI2', 'O55038', 'Q66HP6', 'Q9LFA2', 'P04950', 'Q5T601', 'A1SV87', 'Q6NWY9', 'Q07623', 'Q9HVS0', 'P13987', 'E5RQA1', 'Q9HFE7', 'P06865', 'P0C633', 'P32773', 'Q24JJ9', 'O31539', 'P0AB11', 'O60124', 'O59792', 'Q9NV88', 'G5EGU2', 'Q9Z4N4', 'Q8N5C7', 'P14314', 'B1B534', 'Q9P0W8', 'B0B815', 'Q9SG02', 'P40202', 'Q9PWI4', 'P38882', 'Q8TDU6', 'Q9NZB2', 'Q84P17', 'Q8G849', 'P12258', 'O74553', 'P0AGC3', 'Q96G75', 'G1UBD1', 'Q14980', 'Q9M069', 'Q24523', 'Q06568', 'P48067', 'O17670', 'P82918', 'Q9UZJ3', 'B0F481', 'P40166', 'Q55460', 'Q6K271', 'A1Z7G7', 'Q9U1K1', 'P24121', 'Q7Z4T9', 'P00348', 'Q08231', 'O83463']\n"
          ]
        },
        {
          "output_type": "stream",
          "name": "stderr",
          "text": [
            "Processing...\n",
            "Done!\n"
          ]
        },
        {
          "output_type": "stream",
          "name": "stdout",
          "text": [
            "Length of proteinnames 704 is == or larger than length of existing proteins in processed dir 704\n",
            "self root local:  /content/drive/MyDrive/transmembrane_proteins/data/graphein_downloads/v4/\n",
            "protein list: \n",
            "['Q59514', 'Q8K4G5', 'P93045', 'P32051', 'P9WP57', 'P48612', 'Q8TD19', 'P30659', 'P03934', 'P05146', 'P40032', 'P50528', 'Q9NZN9', 'Q476F7', 'O08648', 'A2VBC4', 'Q8NFK1', 'P47924', 'Q8LKS5', 'P02879', 'Q08119', 'P52554', 'P22266', 'Q9LT15', 'Q8NJU8', 'Q88NC7', 'O01510', 'Q6L545', 'O42924', 'P35874', 'P0AD59', 'Q54WR4', 'Q8NBZ0', 'P70060', 'Q5BGU9', 'P00424', 'Q9USH2', 'O21043', 'Q8L6J3', 'P13727', 'Q9SU05', 'A5W3Z9', 'G5EC68', 'Q95Y36', 'Q59675', 'Q9UTR8', 'P0AFF0', 'P53867', 'Q8RLX0', 'Q9UBS5', 'Q4G0N4', 'Q4KL25', 'P21524', 'Q588Z1', 'Q9ST62', 'P00144', 'Q8NFH5', 'O60055', 'Q7Z6K1', 'Q9I4Z4', 'Q9LTB0', 'P05743', 'B6TTV8', 'P64428', 'P0AFM2', 'O88093', 'Q9NRD9', 'O14773', 'Q93Z81', 'Q15814', 'Q91VR5', 'Q00196', 'P54107', 'P55197', 'Q91V10', 'Q87RN6', 'O36023', 'Q10NX8', 'P40099', 'Q9VSL7', 'O60565', 'E5FYH0', 'P58557', 'Q99593', 'P00652', 'O00408', 'D6WJ77', 'P21128', 'Q04659', 'Q9CAH0', 'Q963A9', 'P34247', 'Q3E7C1', 'Q87TN7', 'P24330', 'Q9X404', 'A6XB80', 'P97302', 'Q9SJN0', 'Q681Y3', 'P0ABJ9', 'P0DSJ6', 'Q9UTL9', 'P07479', 'O75925', 'P44654', 'O59834', 'Q72CX3', 'Q1W6H9', 'O60895', 'B5LZ79', 'P38772', 'P41183', 'Q10740', 'P05546', 'Q5W0Z9', 'P75158', 'O73622', 'P51023', 'P0AEK7', 'Q7L2J0', 'Q99MG7', 'P53094', 'Q9P3W4', 'G3KIM7', 'Q45071', 'Q9VWW0', 'P25714', 'Q8TDY2', 'P10425', 'P54421', 'Q1MTN7', 'Q9NRD1', 'Q16552', 'P32344', 'Q04217', 'Q9BSA4', 'Q9UBS8', 'P42660', 'Q8GWE6', 'Q2M2Z5', 'A9A677', 'Q8NBL1', 'P11922', 'Q9VK33', 'Q97WX5', 'Q2QQ32', 'P57071', 'C9X4K7', 'P86218', 'O14182', 'Q94FY8', 'P10477', 'P33412', 'Q920Q8', 'G8YXZ9', 'Q8NG66', 'P32245', 'P34077', 'P29723', 'Q9SR70', 'Q12504', 'Q86WA6', 'P74838', 'D5ARP7', 'Q12204', 'P11889', 'Q75HY5', 'Q7KVS9', 'C0HLL2', 'Q27934', 'P38278', 'P0A232', 'Q8K459', 'A6XMY0', 'P0C2H6', 'Q9NS75', 'Q8WXF3', 'Q03785', 'Q18919', 'P43997', 'P40847', 'Q9LEV3', 'Q47151', 'P50052', 'Q949S9', 'P35777', 'P05837', 'A5F934', 'Q9UTM1', 'P10175', 'P56202', 'Q86WI3', 'Q03533', 'P49957', 'A7TZE6', 'O00300', 'P33441', 'A0A024B7I0', 'A0A0M3U1B0', 'Q9UK55', 'Q0JBF0', 'Q9ZVC9', 'Q5ZK43', 'P77754', 'Q9M2Q6', 'P97443', 'D4GPW5', 'F4IXE7', 'Q8RXH8', 'Q61508', 'Q8GYY1', 'Q9Z2P4', 'B1KD83', 'Q8CM25', 'Q53GS7', 'Q9SNB7', 'P49739', 'P02876', 'P85966', 'P0AEC3', 'Q03375', 'Q8ZPT3', 'Q653T6', 'V9M2S5', 'Q54313', 'O14040', 'P0ABA0', 'O14220', 'E2DQZ6', 'P15705', 'Q8BUV3', 'Q9Y7L4', 'Q8T0W8', 'F4HPR5', 'P26906', 'Q9BWN1', 'P41180', 'O75190', 'F5ZAY7', 'A8MU46', 'O54924', 'O23627', 'P11551', 'A0A023W145', 'Q9Y2X9', 'Q04672', 'P53877', 'P02675', 'P0AFE4', 'P69434', 'Q8NEY8', 'Q3KRC4', 'Q05016', 'P60153', 'Q68DK2', 'Q9Z2V5', 'Q16873', 'O97939', 'P25822', 'O74769', 'P62318', 'Q8IFW4', 'P08194', 'P36097', 'C0QY54', 'P24867', 'P39325', 'Q10168', 'Q8IY22', 'Q9HU05', 'Q5T653', 'Q9P6N7', 'Q949Y3', 'Q04601', 'Q8WU10', 'Q9FLL1', 'P38172', 'E0D877', 'Q10025', 'P53032', 'P30988', 'P0ABF1', 'B0R6I5', 'O75762', 'O94406', 'Q7Z4H7', 'Q8GNN6', 'P69770', 'Q969S3', 'Q6XE24', 'P14630', 'Q10574', 'O31567', 'Q14153', 'P12866', 'Q8VXQ2', 'Q13029', 'P14133', 'B2RIT0', 'Q15061', 'Q93ZN9', 'Q07203', 'Q494U1', 'Q9MA15', 'P46736', 'Q8T0Y7', 'O94477', 'B1GT61', 'Q9H813', 'Q9HGN5', 'Q9SRV1', 'Q9NWM8', 'Q9VKV8', 'P24310', 'P18775', 'O31625', 'G8JZS6', 'Q9LHF5', 'Q9BTP7', 'P25574', 'Q9W0Y6', 'P23369', 'A5F7A4', 'P36102', 'Q13127', 'Q94AU9', 'P42111', 'Q10426', 'Q7L5N1', 'Q98GN8', 'Q06836', 'Q06349', 'Q04LE4', 'Q8WUH2', 'Q9XYT4', 'A0A120KVR5', 'Q5EPH2', 'Q2M3C7', 'Q9M209', 'P21625', 'Q12511', 'O66465', 'Q14624', 'P34689', 'P13628', 'Q23973', 'Q7JXF5', 'Q8IZY5', 'P47863', 'Q9K0U7', 'O95760', 'P0DPU3', 'O59705', 'P33599', 'P61855', 'Q9UTA4', 'Q00960', 'P02466', 'P07814', 'P0C0Y8', 'Q8N1G1', 'P86100', 'B2GUZ5', 'Q01460', 'P78345', 'O76902', 'P11836', 'A1IKL2', 'P37261', 'Q5F4K8', 'F4JCB2', 'P04844', 'Q05884', 'O17072', 'Q9BRS2', 'Q9ZWA1', 'Q9CP96', 'Q3V1G4', 'P41805', 'A2A3N6', 'Q9WZ31', 'Q96H55', 'P60568', 'Q13342', 'Q00749', 'Q9Y7K0', 'O83469', 'D4A770', 'P58042', 'P14605', 'A5FJM7', 'P01217', 'Q9SYK4', 'O34952', 'Q5PP12', 'Q08969', 'P25639', 'P46873', 'Q06436', 'P9WK76', 'A0JP82', 'P31827', 'Q9Y820', 'Q4VC33', 'P54598', 'Q9SIU2', 'P35408', 'B7VIM1', 'O94324', 'P81160', 'P32480', 'Q5U9S1', 'P19156', 'O14328', 'P30776', 'P19567', 'Q3UMU9', 'Q99K90', 'P97275', 'P09464', 'Q9KTN5', 'P54886', 'O74889', 'O08586', 'Q17058', 'Q12248', 'P0DQC1', 'Q6NZ36', 'A0P8X0', 'Q96253', 'P29352', 'P21876', 'Q9BXW9', 'Q6Z1Y6', 'Q6ZMH5', 'Q7SZN0', 'P38237', 'Q84RK2', 'Q5D231', 'P0A8Q3', 'P36094', 'P33401', 'Q9NGQ2', 'Q3HNG7', 'H6U1I8', 'Q9UTH3', 'P31723', 'O14135', 'O95433', 'P35414', 'Q10317', 'P04635', 'Q7LL04', 'D4GSY9', 'Q9D291', 'O14276', 'P01088', 'Q21067', 'Q06244', 'P0AAM1', 'Q28388', 'P75296', 'Q19131', 'Q9LS00', 'Q9HGP4', 'P49686', 'P11657', 'Q8W4D0', 'Q27085', 'Q03615', 'Q8C1E7', 'P56628', 'P09056', 'Q9LXX5', 'Q91898', 'P58597', 'E1V7W1', 'Q13769', 'P12992', 'Q9X2W0', 'Q9P7Z9', 'P00736', 'A6NFN3', 'Q07699', 'P53145', 'P35077', 'Q9UKY0', 'Q96JN0', 'P59213', 'Q9C110', 'P40547', 'Q42029', 'Q5SJ80', 'Q9ULA0', 'P21697', 'Q10267', 'Q924B5', 'O74793', 'Q04341', 'P38244', 'O13674', 'Q8SXL2', 'Q8WUX9', 'Q9CA59', 'P02462', 'Q9C9L2', 'O94481', 'Q8IFJ8', 'P24530', 'P0A444', 'C4NZN9', 'Q9V6Q2', 'P15473', 'Q8U2E4', 'C0HL38', 'Q9C8J7', 'Q9LTW4', 'Q08278', 'P54660', 'O08785', 'Q03898', 'Q27441', 'Q8K3Q3', 'Q64HC7', 'P31602', 'Q9LUJ3', 'P21730', 'Q09888', 'P19541', 'Q9RRY7', 'Q8TC56', 'O60393', 'P19313', 'P60061', 'Q10328', 'O14455', 'Q03352', 'Q7BCK4', 'L7VIN3', 'Q8SYK5', 'P0ACC7', 'P0DL40', 'P75831', 'O01737', 'O29850', 'Q9C5W0', 'P84516', 'Q8VI84', 'P25871', 'Q8C8M1', 'Q9Y5U4', 'F4IF99', 'Q9HAW0', 'P28351', 'O80528', 'P31956', 'Q68CK6', 'P23930', 'Q9Y6J8', 'Q9CKU2', 'Q56WK6', 'Q9LDN0', 'O94443', 'Q9CMZ1', 'A2RMJ9', 'P70278', 'P25443', 'Q9BVS4', 'P53874', 'O70200', 'P22365', 'Q0MW30', 'Q99828', 'D0VWV4', 'O94733', 'Q8L999', 'Q9UU88', 'P38291', 'Q02862', 'P34021', 'Q12125', 'P38360', 'P47148', 'Q9C5S0', 'P0C2B6', 'P15320', 'Q3V0Q6', 'P70569', 'Q03713', 'Q9HDZ5', 'P34752', 'A4Q9F0', 'Q48261', 'P11596', 'Q8N138', 'P16658', 'Q8CNR4', 'Q8N668', 'P29026', 'P50572', 'Q95748', 'P00423', 'A0QR29', 'Q9NH52', 'P00127', 'Q9UQ84', 'Q61400', 'Q6XUX3', 'P36136', 'Q12751', 'D7A6E5', 'Q6ATB4', 'O60178', 'G5EBV0', 'Q9XSC9', 'O53945', 'P55917', 'Q9FFH0', 'P56637', 'Q9KYG7', 'Q9NHD5', 'Q8CIQ7', 'Q8LAP6', 'Q7Z5A7', 'P34220', 'Q9K0U9', 'P46604', 'Q5JNJ5', 'P38749', 'Q12363', 'P32238', 'O94427', 'P0C552', 'Q9LRI8', 'B2D6M2', 'O95407', 'P53289', 'Q9STS7', 'P36162', 'Q6K881', 'P35578', 'P19518', 'O95391', 'P62701', 'O59793', 'P28335', 'P75884', 'P0AB98', 'Q9M8D3', 'P19478', 'Q8CJ67', 'Q12288', 'Q9R186', 'P02752', 'F4IS91', 'Q94JF2', 'P09102', 'Q9C9K2', 'P08842', 'O14730', 'Q9RU24', 'Q13285', 'Q02596', 'B6VQ60', 'O34484', 'P35441', 'P53769', 'Q9HWW1', 'Q61420', 'O13650', 'P39993', 'O32528', 'Q810U5', 'Q9FFZ6', 'P17164', 'Q9USP4', 'Q6LA53', 'P0AFV5', 'P28000', 'O74978', 'P25291', 'Q9USL6', 'O04682', 'O43614', 'Q8WW12', 'Q08255', 'P26784', 'Q9LS90', 'P30183', 'P29399', 'B0R6J9', 'P40818', 'A0A369NIV7', 'Q8BX57', 'G5EDK5', 'P48810', 'Q9BPX6', 'Q16851', 'P01591', 'Q75GR5', 'P17208', 'Q9PW19', 'Q6EPW7', 'P81040', 'D0QMC3', 'P43457', 'O15553', 'O94278', 'P15450', 'O74464']\n",
            "Length of proteinnames 711 is == or larger than length of existing proteins in processed dir 711\n"
          ]
        },
        {
          "output_type": "stream",
          "name": "stderr",
          "text": [
            "Processing...\n",
            "Done!\n"
          ]
        }
      ],
      "source": [
        "from torch_geometric.data import Dataset as gDataset\n",
        "from torch_geometric.loader import DataLoader\n",
        "import glob\n",
        "import os.path as osp\n",
        "import torch\n",
        "from graphein.protein.utils import download_alphafold_structure\n",
        "import os\n",
        "\n",
        "\n",
        "torch.manual_seed(1)\n",
        "\n",
        "class transmembraneGraphDataset(gDataset):\n",
        "    \"\"\"root: where the dataset should be stored\"\"\"\n",
        "    def __init__(self, root, setType, proteinlist, mismatching_proteins,labelDict, flush_files = False, transform=None, pre_transform=None,pre_filter=None):\n",
        "        self.proteinlist = proteinlist\n",
        "        self.mismatches = mismatching_proteins\n",
        "        self.proteinlist = [x for x in proteinlist if x not in self.mismatches]\n",
        "        self.conversionDict = {} #save data-conversion table between saved pt files and proteinnames\n",
        "        self.root_local = root\n",
        "        self.setType = setType\n",
        "        self.labels = labelDict\n",
        "        self.flush_files = flush_files\n",
        "        print(\"self root local: \",self.root_local)\n",
        "        print(\"protein list: \")\n",
        "        print(self.proteinlist)\n",
        "        #print(\"pdb dir: \",self.pdb_dir)\n",
        "        super().__init__(root, transform, pre_transform, pre_filter)\n",
        "\n",
        "\n",
        "    @property ##source directory of files - this is pdb-files in this case\n",
        "    def raw_file_names(self): #returns a list of all paths valid for entries in proteinlist\n",
        "        #full_file_list = glob.glob(self.pdb_dir+\"/*.pdb\") #get all downloaded paths\n",
        "        full_file_list = glob.glob(self.root_local+\"raw/*.pdb\") #get all downloaded paths\n",
        "\n",
        "        #find matches so it matches the split\n",
        "        res = list(\n",
        "            set([sub1 for ele1 in full_file_list for sub1 in self.proteinlist if sub1 in ele1]))\n",
        "        self.proteinlist = res #NOTE: OVERWRITES VALID FILES\n",
        "\n",
        "        #res = [self.pdb_dir + x +\".pdb\" for x in res]\n",
        "        #print(res)\n",
        "        res = [x +\".pdb\" for x in res]\n",
        "\n",
        "        #print(\"RESULTING RAW FILENAMES\")\n",
        "        #print(res)\n",
        "\n",
        "        return res\n",
        "\n",
        "    @property\n",
        "    def processed_file_names(self):\n",
        "        return [self.setType+\"_\"+\"protein_ \"+ str(i) + \".pt\" for i,_ in enumerate(self.proteinlist)]\n",
        "\n",
        "    def download(self):\n",
        "        for protein_name in self.proteinlist:\n",
        "            _ = download_alphafold_structure(protein_name, version=4,out_dir = self.root_local+\"raw/\", aligned_score=True)\n",
        "        return\n",
        "\n",
        "    def process(self):\n",
        "        idx = 0\n",
        "        #print(\"raw paths: \")\n",
        "        #for raw_path in self.raw_paths: #this one adds a /raw/ for some reason\n",
        "         #   print(raw_path)\n",
        "\n",
        "        #print(\"Processed dir: \",self.processed_dir)\n",
        "        all_files_tmp = glob.glob(osp.join(self.processed_dir, f'{self.setType}_protein_*.pt'))\n",
        "        if(len(all_files_tmp)>=len(self.proteinlist) and self.flush_files==False): ##case: all proteins are present\n",
        "            print(f\"Length of proteinnames {len(self.proteinlist)} is == or larger than length of existing proteins in processed dir {len(all_files_tmp)}\")\n",
        "            return\n",
        "\n",
        "        for i, raw_path in enumerate(self.raw_paths):\n",
        "            print(f\"running protein {i}/{len(self.raw_paths)} in set: {self.setType}\")\n",
        "            tmp_file_check = osp.join(self.processed_dir, f'{self.setType}_protein_{idx}.pt')\n",
        "            if(os.path.isfile(tmp_file_check) and self.flush_files==False): #case: some files may already exist due to interruption of earlier command\n",
        "                pass\n",
        "            else:\n",
        "                data = gpt.io.protein_to_pyg(path=raw_path,\n",
        "                    chain_selection=[\"A\", \"B\", \"C\", \"D\"], # Select all 4 chains\n",
        "                    deprotonate=True, # Deprotonate the structure\n",
        "                    keep_insertions=False, # Remove insertions\n",
        "                    keep_hets=[], # Remove HETATMs\n",
        "                    model_index=1) # Select the first model\n",
        "                    # Can select a subset of atoms with atom_types=...\n",
        "\n",
        "                #print(data)\n",
        "                id = data[\"id\"].replace(\"_ABCD\",\"\")#remove chain selection in naming for saving to dictionary\n",
        "                if(id in self.mismatches):\n",
        "                  print(\"ERROR - DIDN'T EXCLUDE SAMPLE!\")\n",
        "                  print(id)\n",
        "                  print(i)\n",
        "                  break\n",
        "                #print(\"working on protein: f{id}\")\n",
        "                protein = gpt.Protein().from_data(data) #load protein from pdb-data\n",
        "                #add edges etc\n",
        "                protein.batch = protein.coords\n",
        "                protein.edges(\"knn_8\",cache=\"edge_index\")\n",
        "                protein.pos = protein.coords[:,1,:]\n",
        "                protein.x = protein.residue_type\n",
        "                #print(protein)\n",
        "                if self.pre_filter is not None and not self.pre_filter(data):\n",
        "                    continue\n",
        "\n",
        "                if self.pre_transform is not None:\n",
        "                    protein = self.pre_transform(protein)\n",
        "\n",
        "                protein.label = self.labels[id] #fetch labelled sequence for the given protein and assign to graph-field\n",
        "\n",
        "                protein = protein.to_data() #returns a torch geometric data object used for batching https://github.com/a-r-j/graphein/blob/master/graphein/protein/tensor/data.py#L266\n",
        "                #save conversion for later reference in case all goes south\n",
        "                self.conversionDict[id] = f'{self.setType}_protein_{idx}.pt'\n",
        "                #print(\"the path join has arg:\")\n",
        "                #print(osp.join(self.processed_dir, f'protein_{idx}.pt'))\n",
        "                torch.save(protein, osp.join(self.processed_dir, f'{self.setType}_protein_{idx}.pt'))\n",
        "            idx += 1\n",
        "            #if(idx==10): #for debugging\n",
        "            #    return\n",
        "\n",
        "    def len(self):\n",
        "        return len(self.processed_file_names)\n",
        "\n",
        "    def get(self,idx):\n",
        "        data = torch.load(osp.join(self.processed_dir, f'{self.setType}_protein_{idx}.pt'),map_location='cuda:0')\n",
        "        #need to also return labels for the given protein\n",
        "        return data\n",
        "\n",
        "    def get_protein_label_dict(self):\n",
        "        return self.labels\n",
        "\n",
        "\n",
        "#let's try generating the tensor data-set and see what happens\n",
        "pdb_dir = drive_path+\"data/graphein_downloads/v4/\" #downloaded using AFv4\n",
        "trainGraphDataloader = transmembraneGraphDataset(root=pdb_dir,setType=\"train\",proteinlist=trainnames,labelDict=trainlabels,mismatching_proteins = mismatches,flush_files=False)\n",
        "valGraphDataloader = transmembraneGraphDataset(root=pdb_dir,setType=\"val\",proteinlist=valnames,labelDict=vallabels,mismatching_proteins = mismatches,flush_files=False)\n",
        "testGraphDataloader = transmembraneGraphDataset(root=pdb_dir,setType=\"test\",proteinlist=testnames,labelDict=testlabels,mismatching_proteins = mismatches,flush_files=False)\n",
        "\n",
        "train_label_dict = trainGraphDataloader.get_protein_label_dict()\n",
        "#val_label_dict = valGraphDataloader.get_protein_label_dict()\n",
        "#test_label_dict = testGraphDataloader.get_protein_label_dict()\n"
      ]
    },
    {
      "cell_type": "code",
      "execution_count": 11,
      "metadata": {
        "id": "FDItEOsC7DAe"
      },
      "outputs": [],
      "source": [
        "trainloader = DataLoader(trainGraphDataloader,batch_size=1,shuffle=False)"
      ]
    },
    {
      "cell_type": "code",
      "execution_count": 12,
      "metadata": {
        "colab": {
          "base_uri": "https://localhost:8080/"
        },
        "id": "7kqylVCr7DAe",
        "outputId": "06b1866e-f91a-4034-a147-fc668c64130a"
      },
      "outputs": [
        {
          "output_type": "stream",
          "name": "stdout",
          "text": [
            "DataBatch(x=[249], residue_type=[249], label=[1], fill_value=[1], batch=[249], residues=[1], residue_id=[1], id=[1], atom_list=[1], pos=[249, 3], coords=[249, 37, 3], edge_index=[2, 1992], chains=[249], ptr=[2])\n"
          ]
        }
      ],
      "source": [
        "batch = next(iter(trainloader))\n",
        "print(batch)"
      ]
    },
    {
      "cell_type": "markdown",
      "metadata": {
        "id": "1qMOvvyf7DAf"
      },
      "source": [
        "\n",
        "\n",
        "First, define SchNetModel completely as given in the file"
      ]
    },
    {
      "cell_type": "code",
      "execution_count": 13,
      "metadata": {
        "id": "tPLwAOTv7DAf"
      },
      "outputs": [],
      "source": [
        "from typing import Optional, Set, Union\n",
        "\n",
        "import torch\n",
        "from graphein.protein.tensor.data import ProteinBatch\n",
        "from torch_geometric.data import Batch\n",
        "from torch_geometric.nn.models import SchNet\n",
        "import torch_scatter\n",
        "from proteinworkshop.types import EncoderOutput\n",
        "\n",
        "\n",
        "class SchNetModel(SchNet):\n",
        "    #default values overwritten by cfg default settings\n",
        "    def __init__(\n",
        "        self,\n",
        "        hidden_channels: int = 512,#128,#512,#128,\n",
        "        out_dim: int = 32,#1,\n",
        "        num_filters: int = 128,\n",
        "        num_layers: int = 6,\n",
        "        num_gaussians: int = 50,\n",
        "        cutoff: float = 10,\n",
        "        max_num_neighbors: int = 32,\n",
        "        readout: str = \"add\",\n",
        "        dipole: bool = False,\n",
        "        mean: Optional[float] = None,\n",
        "        std: Optional[float] = None,\n",
        "        atomref: Optional[torch.Tensor] = None,\n",
        "    ):\n",
        "        \"\"\"\n",
        "        Initializes an instance of the SchNetModel class with the provided\n",
        "        parameters.\n",
        "\n",
        "        :param hidden_channels: Number of channels in the hidden layers\n",
        "            (default: ``128``)\n",
        "        :type hidden_channels: int\n",
        "        :param out_dim: Output dimension of the model (default: ``1``)\n",
        "        :type out_dim: int\n",
        "        :param num_filters: Number of filters used in convolutional layers\n",
        "            (default: ``128``)\n",
        "        :type num_filters: int\n",
        "        :param num_layers: Number of convolutional layers in the model\n",
        "            (default: ``6``)\n",
        "        :type num_layers: int\n",
        "        :param num_gaussians: Number of Gaussian functions used for radial\n",
        "            filters (default: ``50``)\n",
        "        :type num_gaussians: int\n",
        "        :param cutoff: Cutoff distance for interactions (default: ``10``)\n",
        "        :type cutoff: float\n",
        "        :param max_num_neighbors: Maximum number of neighboring atoms to\n",
        "            consider (default: ``32``)\n",
        "        :type max_num_neighbors: int\n",
        "        :param readout: Global pooling method to be used (default: ``\"add\"``)\n",
        "        :type readout: str\n",
        "        \"\"\"\n",
        "        super().__init__(\n",
        "            hidden_channels,\n",
        "            num_filters,\n",
        "            num_layers,\n",
        "            num_gaussians,\n",
        "            cutoff,  # None, # Interaction graph is not used\n",
        "            max_num_neighbors,\n",
        "            readout,\n",
        "            dipole,\n",
        "            mean,\n",
        "            std,\n",
        "            atomref,\n",
        "        )\n",
        "        self.readout = readout\n",
        "        # Overwrite embbeding\n",
        "        self.embedding = torch.nn.LazyLinear(hidden_channels)\n",
        "        # Overwrite atom embedding and final predictor\n",
        "        self.lin2 = torch.nn.LazyLinear(out_dim)\n",
        "\n",
        "        #self.decoder\n",
        "\n",
        "    @property\n",
        "    def required_batch_attributes(self) -> Set[str]:\n",
        "        \"\"\"\n",
        "        Required batch attributes for this encoder.\n",
        "\n",
        "        - ``x``: Node features (shape: :math:`(n, d)`)\n",
        "        - ``pos``: Node positions (shape: :math:`(n, 3)`)\n",
        "        - ``edge_index``: Edge indices (shape: :math:`(2, e)`)\n",
        "        - ``batch``: Batch indices (shape: :math:`(n,)`)\n",
        "\n",
        "        :return: Set of required batch attributes\n",
        "        :rtype: Set[str]\n",
        "        \"\"\"\n",
        "        return {\"pos\", \"edge_index\", \"x\", \"batch\"}\n",
        "\n",
        "    def forward(self, batch: Union[Batch, ProteinBatch]) -> EncoderOutput:\n",
        "        \"\"\"Implements the forward pass of the SchNet encoder.\n",
        "\n",
        "        Returns the node embedding and graph embedding in a dictionary.\n",
        "\n",
        "        :param batch: Batch of data to encode.\n",
        "        :type batch: Union[Batch, ProteinBatch]\n",
        "        :return: Dictionary of node and graph embeddings. Contains\n",
        "            ``node_embedding`` and ``graph_embedding`` fields. The node\n",
        "            embedding is of shape :math:`(|V|, d)` and the graph embedding is\n",
        "            of shape :math:`(n, d)`, where :math:`|V|` is the number of nodes\n",
        "            and :math:`n` is the number of graphs in the batch and :math:`d` is\n",
        "            the dimension of the embeddings.\n",
        "        :rtype: EncoderOutput\n",
        "        \"\"\"\n",
        "        h = self.embedding(batch.x)\n",
        "\n",
        "        u, v = batch.edge_index\n",
        "        edge_weight = (batch.pos[u] - batch.pos[v]).norm(dim=-1)\n",
        "        edge_attr = self.distance_expansion(edge_weight)\n",
        "\n",
        "        for interaction in self.interactions:\n",
        "            h = h + interaction(h, batch.edge_index, edge_weight, edge_attr)\n",
        "\n",
        "        h = self.lin1(h)\n",
        "        h = self.act(h)\n",
        "        h = self.lin2(h)\n",
        "\n",
        "        #add the decoder task\n",
        "\n",
        "        return EncoderOutput(\n",
        "            {\n",
        "                \"node_embedding\": h,\n",
        "                \"graph_embedding\": torch_scatter.scatter(\n",
        "                    h, batch.batch, dim=0, reduce=self.readout\n",
        "                ),\n",
        "            }\n",
        "        )\n",
        "\n",
        "\n",
        "# if __name__ == \"__main__\":\n",
        "#     import hydra\n",
        "#     import omegaconf\n",
        "#     import pyrootutils\n",
        "#     from graphein.protein.tensor.data import get_random_protein\n",
        "\n",
        "#     root = pyrootutils.setup_root(__file__, pythonpath=True)\n",
        "#     cfg = omegaconf.OmegaConf.load(\n",
        "#         root / \"configs\" / \"encoder\" / \"schnet.yaml\"\n",
        "#     )\n",
        "#     print(cfg)\n",
        "#     encoder = hydra.utils.instantiate(cfg.schnet)\n",
        "#     print(encoder)\n",
        "#     batch = ProteinBatch().from_protein_list(\n",
        "#         [get_random_protein() for _ in range(4)], follow_batch=[\"coords\"]\n",
        "#     )\n",
        "#     batch.batch = batch.coords_batch\n",
        "#     batch.edges(\"knn_8\", cache=\"edge_index\")\n",
        "#     batch.pos = batch.coords[:, 1, :]\n",
        "#     batch.x = batch.residue_type\n",
        "#     print(batch)\n",
        "#     out = encoder.forward(batch)\n",
        "#     print(out)"
      ]
    },
    {
      "cell_type": "code",
      "execution_count": 14,
      "metadata": {
        "id": "g1l-H0TU7DAf",
        "colab": {
          "base_uri": "https://localhost:8080/"
        },
        "outputId": "5c2504f5-4422-4a82-ba7e-0f12c9798711"
      },
      "outputs": [
        {
          "output_type": "stream",
          "name": "stderr",
          "text": [
            "/usr/local/lib/python3.10/dist-packages/torch/nn/modules/lazy.py:180: UserWarning:\n",
            "\n",
            "Lazy modules are a new feature under heavy development so changes to the API or functionality can happen at any moment.\n",
            "\n"
          ]
        }
      ],
      "source": [
        "model = SchNetModel()\n",
        "\n",
        "featuriser = ProteinFeaturiser( #note: input is a protein Batch\n",
        "    representation=\"CA\",\n",
        "    scalar_node_features=[\"amino_acid_one_hot\"],\n",
        "    vector_node_features=[],\n",
        "    edge_types=[\"knn_16\"],\n",
        "    scalar_edge_features=[\"edge_distance\"],\n",
        "    vector_edge_features=[],\n",
        ")\n",
        "\n",
        "#batch = next(iter(trainloader))\n",
        "# print(batch.keys())\n",
        "# print(\"coords shape: \", batch[\"coords\"].shape)\n",
        "# print(\"protein ids: \",batch[\"id\"])\n",
        "# print(\"with shape: \",len(batch[\"id\"]))\n",
        "# batch_featurised = featuriser(batch)\n",
        "# #out_test = model.forward(batch_featurised)\n",
        "#print(out_test)\n"
      ]
    },
    {
      "cell_type": "markdown",
      "metadata": {
        "id": "A3fITl8r7DAh"
      },
      "source": [
        "Make encoder decoder model\n"
      ]
    },
    {
      "cell_type": "code",
      "execution_count": 15,
      "metadata": {
        "id": "CB-b8l8h7DAi"
      },
      "outputs": [],
      "source": [
        "#from torch.nn import linear\n",
        "from graphein.protein.tensor.data import get_random_protein\n",
        "from proteinworkshop.datasets.utils import create_example_batch\n",
        "\n",
        "class DenseDecoder(torch.nn.Module):\n",
        "   def __init__(self,n_classes=6,hidden_dim = 32):\n",
        "      super(DenseDecoder, self).__init__()\n",
        "      #self.linear1 = linear(in_features=20,out_channels=n_classes)\n",
        "      self.ll = torch.nn.Linear(hidden_dim,n_classes,bias=True)\n",
        "   def forward(self,x):\n",
        "      #print(\"Decoder layer received a shape: \",x[\"node_embedding\"].shape)\n",
        "      return self.ll(x[\"node_embedding\"])\n",
        "\n",
        "class LSTMDecoder(torch.nn.Module):\n",
        "   def __init__(self,n_classes=6, GCN_hidden_dim = 32, LSTM_hidden_dim = 32, dropout = 0.0, type=\"LSTMO\"):\n",
        "      super(LSTMDecoder, self).__init__()\n",
        "      #self.linear1 = linear(in_features=20,out_channels=n_classes)\n",
        "      if(type==\"LSTMO\"):\n",
        "         bid = False\n",
        "         self.proj = torch.nn.Linear(LSTM_hidden_dim,n_classes) #project to per class sequence\n",
        "      elif(type==\"LSTMB\"):\n",
        "         bid = True\n",
        "         self.proj = torch.nn.Linear(LSTM_hidden_dim*2,n_classes) #project to per class sequence\n",
        "      self.LSTM = torch.nn.LSTM(input_size = GCN_hidden_dim,hidden_size=LSTM_hidden_dim,dropout=dropout,bidirectional=bid)\n",
        "\n",
        "\n",
        "      self.init_LSTM()\n",
        "\n",
        "   def init_LSTM(self):\n",
        "      for weight in self.LSTM._all_weights:\n",
        "         if(\"weight\" in weight):\n",
        "            torch.nn.init.xavier_normal_(getattr(self.LSTM,weight))\n",
        "         if(\"bias\" in weight):\n",
        "            torch.nn.init.normal_(getattr(self.LSTM,weight))\n",
        "\n",
        "   def forward(self,x):\n",
        "      lstmoutput,state = self.LSTM(x[\"node_embedding\"])\n",
        "      #print(\"lstmoutput \", lstmoutput.shape)\n",
        "      #print(\"state 0 shape: \",state[0].shape)\n",
        "      #print(\"state 1 shape: \",state[1].shape)\n",
        "      out = self.proj(lstmoutput)\n",
        "      return out\n",
        "\n",
        "def init_linear_weights(m):\n",
        "   if isinstance(m, torch.nn.Linear):\n",
        "      torch.nn.init.xavier_normal_(m.weight)\n",
        "\n",
        "class GraphEncDec(torch.nn.Module):\n",
        "   def __init__(self,featuriser,n_classes=6,hidden_dim_GCN = 32, decoderType=\"linear\", LSTM_hidden_dim = 0, dropout = 0.0):\n",
        "      #do all necessary init stuff.\n",
        "      super(GraphEncDec,self).__init__()\n",
        "      self.encoder = SchNetModel(out_dim=hidden_dim_GCN)\n",
        "      self.featuriser = featuriser\n",
        "      self.init_lazy_layers()  #initialize weights of LazyLinear layers by forwarding a random batch\n",
        "      if(decoderType==\"linear\"):\n",
        "         self.decoder =  DenseDecoder(n_classes=n_classes,hidden_dim=hidden_dim_GCN)\n",
        "      elif(decoderType!=\"linear\"): #one directional LSTM\n",
        "         self.decoder = LSTMDecoder(n_classes=n_classes,GCN_hidden_dim=hidden_dim_GCN, LSTM_hidden_dim = LSTM_hidden_dim, dropout = dropout, type=decoderType)\n",
        "\n",
        "      self.softmax = torch.nn.Softmax(dim=1)\n",
        "\n",
        "   def init_lazy_layers(self):\n",
        "      example_batch = create_example_batch()\n",
        "      _ = self.encoder(self.featuriser(example_batch))\n",
        "      return\n",
        "\n",
        "   def forward(self,X):\n",
        "      embeddings = self.encoder(self.featuriser(X)) #returns a dict containing node_embedding and node_encoding\n",
        "      predictions = self.decoder(embeddings)\n",
        "      return predictions\n",
        "\n",
        "   def predict(self,X):\n",
        "      preds = self.forward(self.featuriser(X))\n",
        "      sm = self.softmax(preds)\n",
        "      return torch.argmax(sm,dim=1)\n",
        "\n"
      ]
    },
    {
      "cell_type": "code",
      "execution_count": 16,
      "metadata": {
        "id": "mTOKx8aj7DAi"
      },
      "outputs": [],
      "source": [
        "def label_to_tensor(labels,type2key):\n",
        "    \"\"\"\n",
        "    Encodes corresponding numeric labels to residue cell-position\n",
        "    Input:\n",
        "        label: a list. Length of list indicates the number of samples in the batch\n",
        "    \"\"\"\n",
        "    #unbatch by creating large string\n",
        "    collated_str = \"\"\n",
        "    for protein_label in labels:\n",
        "        collated_str += protein_label\n",
        "\n",
        "    collated_char_li = [*collated_str]\n",
        "    #print(chars)\n",
        "    default = \"UNK\"\n",
        "    output = [type2key.get(x, default) for x in collated_char_li]\n",
        "    output = torch.as_tensor(output).to('cuda:0')\n",
        "    #from torch.nn.functional import one_hot\n",
        "    #return one_hot(output,num_classes = len(type2key))\n",
        "    return output\n",
        "\n",
        "type2key = {\"S\":0,\"I\":1,\"M\":2,\"B\":3,\"P\":4,\"O\":5}\n",
        "#print(label_to_tensor(batch_featurised.label,type2key))\n",
        "\n",
        "def tensor_to_label(labels,type2key):\n",
        "  key2type = dict((v,k) for k,v in type2key.items())\n",
        "  labels = labels.tolist()\n",
        "  outStr = \"\"\n",
        "  for label in labels:\n",
        "    outStr += key2type[label]\n",
        "\n",
        "  return outStr\n",
        "\n"
      ]
    },
    {
      "cell_type": "markdown",
      "metadata": {
        "id": "qMe01bvC7DAi"
      },
      "source": [
        "Let's see if we can overfit a small subset of 16 training samples with batches of two to also establish batch-support"
      ]
    },
    {
      "cell_type": "code",
      "execution_count": 17,
      "metadata": {
        "colab": {
          "base_uri": "https://localhost:8080/"
        },
        "id": "iKP5wlC57DAm",
        "outputId": "09853b52-5155-4362-d6ff-62a42f002745"
      },
      "outputs": [
        {
          "output_type": "stream",
          "name": "stdout",
          "text": [
            "self root local:  /content/drive/MyDrive/transmembrane_proteins/data/graphein_downloads/v4/\n",
            "protein list: \n",
            "['P10384', 'P0ABU7', 'Q55210', 'Q5XKL5', 'Q9KDP2', 'Q9CC87', 'Q7TQM5', 'Q2YDF6', 'P10163', 'Q12286', 'Q0P9C4', 'Q9SIW2', 'P10257', 'Q9USW9', 'P50580', 'Q9UHW9', 'A0A0K3AUE4', 'Q9MV14', 'Q25255', 'Q9US51', 'P17558', 'O31284', 'Q9VSK8', 'P28611', 'F4JN26', 'Q8N474', 'P07305', 'Q8L719', 'P10745', 'K4D422', 'P0AG96', 'Q01172', 'Q18412', 'P38777', 'O42914', 'P49146', 'Q68XS6', 'Q5FBB7', 'Q62414', 'Q10Q07', 'P21554', 'Q9UU87', 'E9K9Z1', 'P40518', 'Q12287', 'Q32MW3', 'B3U538', 'P54498', 'P9WG65', 'Q06506', 'Q8IWU4', 'C1B1D9', 'Q9D4W2', 'Q08561', 'A0A0B9X9I7', 'Q97WX4', 'Q7CGI0', 'P87176', 'Q96FM1', 'Q5A5Q6', 'C7G3K3', 'P21826', 'Q9LU68', 'P0AC98', 'O34344', 'P09038', 'O14131', 'Q9FKB3', 'P13385', 'Q9H293', 'C4IN73', 'P01019', 'O83077', 'Q54GH3', 'P52927', 'P42586', 'P21978', 'Q9EYW6', 'P38852', 'P37648', 'P0A8Q0', 'Q9HDZ6', 'Q5E2P0', 'Q10424', 'P15289', 'Q2V3L3', 'P38439', 'Q10356', 'P51688', 'O74544', 'Q15722', 'P55046', 'Q7TSH3', 'P32442', 'Q9UU77', 'O33434', 'Q9VA00', 'Q9USH6', 'Q03736', 'Q31FL3', 'P61380', 'Q8TEC5', 'F9RBV9', 'P45819', 'Q96F86', 'Q53NL5', 'P16085', 'Q9BW72', 'Q9RP17', 'Q10451', 'E9PYL2', 'Q9KYX0', 'P0DO17', 'Q8IUR7', 'Q51371', 'P34219', 'Q10146', 'Q15459', 'P52823', 'P35610', 'Q8X150', 'Q07053', 'Q9Z1R2', 'Q9Y4Z0', 'P01180', 'O14034', 'P33775', 'Q8RY59', 'Q9NX02', 'P82977', 'Q9FYC2', 'P23979', 'P08911', 'O13629', 'Q8L5J1', 'P04180', 'P27882', 'P50536', 'P09181', 'Q59RR0', 'Q09726', 'Q8I6Z7', 'P48237', 'P33665', 'Q99177', 'O14649', 'Q5EXX3', 'P39413', 'Q6F3I7', 'D0VYS2', 'P09169', 'O35927', 'P01270', 'P32177', 'A8J637', 'Q96I76', 'A0A2R9TD79', 'P13421', 'F4J3T8', 'F4JY37', 'O74356', 'P50228', 'O75907', 'Q03429', 'G4N7S6', 'Q58282', 'B6EU02', 'P21175', 'Q9SE42', 'P0AF98', 'P55789', 'C7NWW8', 'O60062', 'P42937', 'Q5T2S8', 'P43782', 'Q9DAG5', 'Q9BU02', 'P35823', 'O23210', 'Q9Y2I2', 'L0RVU0', 'Q96I45', 'Q9C9N6', 'Q9HE02', 'P07822', 'P93740', 'Q9S426', 'A6VKA3', 'P10155', 'Q96RD7', 'A0A2I8B353', 'Q96BP2', 'P13794', 'C8VSZ2', 'Q9H221', 'O05542', 'Q8H0W0', 'Q9V3F3', 'P35187', 'Q2FV52', 'P53937', 'Q9BZB8', 'P0ABJ1', 'Q5JIZ5', 'Q15649', 'B2LXS7', 'P31553', 'P81025', 'Q9LUB7', 'Q9LZD3', 'Q9C469', 'Q56851', 'P53869', 'P82103', 'Q14722', 'Q02988', 'Q6DFW0', 'P60955', 'Q32M00', 'Q03002', 'Q8NBI3', 'O15027', 'P39517', 'P01161', 'P0A407', 'Q8R316', 'Q15327', 'Q8TAX9', 'Q60214', 'Q9H8H2', 'G3XD89', 'O60136', 'Q9JLA3', 'Q9QUS4', 'Q8R570', 'P9WHR3', 'P10174', 'O60174', 'P54484', 'Q9C8M2', 'Q63273', 'Q96KQ4', 'P51529', 'P00175', 'Q9XUC2', 'Q12393', 'P29274', 'P42708', 'P17695', 'Q59478', 'Q4JDL3', 'P21326', 'Q8DIF8', 'O75935', 'Q8GKS5', 'Q14997', 'P02681', 'Q9USP3', 'Q91WA1', 'Q03723', 'Q3UR85', 'P49736', 'Q06512', 'Q8ZR01', 'O06925', 'P53010', 'Q9US35', 'Q08429', 'P0ABN1', 'Q9BT81', 'P26202', 'Q9P5M9', 'Q69ZM6', 'Q03989', 'Q76FP5', 'Q13889', 'O59716', 'O75151', 'O53361', 'Q8IS21', 'Q9CAF9', 'P21865', 'P70473', 'Q04007', 'A3DH67', 'Q5SMG8', 'Q9FNK4', 'Q12453', 'P39656', 'A0A5C2A2T2', 'Q27365', 'P40096', 'Q0TV31', 'P81299', 'P08001', 'Q9BQI6', 'P9WJN5', 'Q6PCD5', 'O05465', 'Q9Y2S7', 'P31358', 'Q9P6I7', 'Q1JQ73', 'B7JAQ0', 'O42890', 'P12629', 'Q9NRR1', 'F4IIU4', 'Q10214', 'Q8J0K5', 'P19634', 'Q96BR5', 'A2A761', 'D0C8V9', 'Q9VG55', 'Q9NZH6', 'Q8KRV3', 'P06279', 'Q9QZ59', 'Q9HGL2', 'Q12127', 'Q9Y3P9', 'Q9NW75', 'Q12200', 'Q03714', 'P42363', 'Q967U1', 'Q22560', 'Q9NRG9', 'P22541', 'P53883', 'P46674', 'Q9LZA5', 'P43115', 'Q9C002', 'P0AFF4', 'Q96RQ9', 'O82132', 'P24349', 'P07380', 'Q9W2H9', 'Q8K3Y6', 'P22146', 'Q8RWH9', 'Q8IXQ9', 'Q39487', 'Q96QR1', 'Q9ESN6', 'O29777', 'Q8CE22', 'Q8IY92', 'Q86Z14', 'Q9W0M7', 'P53927', 'Q56030', 'P72412', 'P51617', 'P41108', 'Q0E908', 'B0XRV0', 'Q80TM9', 'A0M6E0', 'P0A333', 'Q8CGF6', 'Q02795', 'Q96EK4', 'P31747', 'Q00566', 'Q12365', 'P0C0J7', 'Q06632', 'Q9U1Q0', 'Q9H2D6', 'Q4V645', 'P52891', 'P46531', 'P87239', 'Q7TS74', 'P28566', 'P24258', 'P53166', 'O74822', 'P43174', 'E1C7U0', 'Q9SZN7', 'Q99519', 'P40564', 'P0AB85', 'Q06945', 'P43972', 'P22629', 'Q6IPR1', 'Q9FGS0', 'O14798', 'P09888', 'Q9Y6D6', 'Q9BSA9', 'P39848', 'Q9UPS6', 'C6Y4C9', 'Q9H161', 'P37387', 'Q9HVJ6', 'Q9P790', 'Q9W1R5', 'Q3E841', 'P0AD44', 'Q9Y5Y4', 'P82916', 'P33487', 'G5ECT0', 'Q9M219', 'P28581', 'Q9XF57', 'Q8WY41', 'P00797', 'P83794', 'Q9FHW2', 'P53115', 'O51059', 'Q13432', 'O60921', 'P05060', 'P15922', 'P38701', 'Q9LVD0', 'Q92681', 'C6JUP3', 'Q68FX6', 'Q9UTQ4', 'Q7M413', 'O00444', 'P15703', 'Q9NXA8', 'Q01305', 'Q9Y7J8', 'Q12778', 'Q62640', 'Q89ED5', 'P0C2C4', 'Q9BYD3', 'Q9NQB0', 'C7F6X3', 'P52630', 'P39995', 'Q9UTE1', 'P21917', 'Q9HEQ9', 'P44569', 'P19425', 'Q9LEZ1', 'Q9NUU6', 'Q22053', 'P02790', 'A1Z7Z9', 'P40827', 'P38313', 'Q8TF01', 'P47853', 'Q80WS1', 'P46974', 'P06200', 'P04123', 'Q9C000', 'C0HJQ4', 'Q8RXU6', 'O74964', 'Q99KJ8', 'P14212', 'P05738', 'P08118', 'Q9UT03', 'B7FAS6', 'Q9P6K8', 'P0AGA2', 'P31779', 'Q9NVV9', 'O08523', 'P28804', 'Q9M065', 'Q8WQK0', 'P22327', 'Q977V2', 'P34706', 'P40107', 'Q19640', 'Q9CAF5', 'P00714', 'Q8BXN9', 'P29822', 'Q09693', 'Q9LM71', 'Q8LF89', 'Q9XIP8', 'Q61009', 'P07602', 'O82357', 'Q8D0Z7', 'P27654', 'Q9Y7U6', 'Q9HE11', 'Q9ZW82', 'P77304', 'Q09697', 'P42256', 'O13684', 'O75711', 'Q9NX04', 'P46122', 'P83793', 'P53333', 'Q9S0W8', 'O69231', 'P02924', 'G4SW86', 'O16025', 'Q01528', 'B0R9Z1', 'P53313', 'Q9BWC9', 'P29064', 'P82933', 'P12376', 'D3ZSC8', 'P55145', 'P30878', 'Q9ULC3', 'Q8WVJ2', 'Q9BRD0', 'Q9SUQ2', 'Q9H4I9', 'P54865', 'Q94AA4', 'P83313', 'P38771', 'Q57837', 'Q95017', 'O60315', 'Q50339', 'P38745', 'Q00855', 'Q9P6I9', 'P34707', 'G3XDA5', 'P02808', 'Q9WU12', 'P31716', 'D9IA43', 'Q9CA40', 'Q9LRC8', 'O17286', 'Q9URX9', 'P47341', 'Q107X0', 'A0LNN5', 'O95208', 'P20626', 'H6LGM8', 'Q9SU40', 'O82266', 'Q5HZG9', 'Q96D96', 'A4QD57', 'Q04598', 'Q9UM63', 'Q504Q3', 'Q99279', 'Q9ZQZ6', 'Q27GK7', 'O13936', 'B2RH59', 'P52739', 'Q4WR83', 'O95900', 'Q9LV14', 'Q9AQS0', 'Q6Q5K6', 'Q9UUG2', 'P53101', 'P01579', 'Q9LEB4', 'P08913', 'Q12524', 'P0A006', 'P42196', 'G5EDW1', 'U6A629', 'P87377', 'B0FHH8', 'Q10357', 'Q0WUY1', 'Q9V579', 'P43427', 'P41547', 'Q96AP4', 'O95998', 'Q8BG60', 'P25090', 'Q09728', 'P07102', 'Q27294', 'P35811', 'Q6YUS3', 'Q45215', 'Q6ZMR3', 'Q9Z173', 'Q3UVY1', 'P50542', 'Q5T5X7', 'Q69IL4', 'P59598', 'Q5XM24', 'P0CU08', 'P17989', 'O13715', 'P84634', 'Q9SSA5', 'P61870', 'Q9FLT2', 'P69428', 'Q9Y0V2', 'A0PA72', 'Q14831', 'Q07084', 'A7LXT7', 'Q944G9', 'Q0E3C8', 'Q9NL89', 'Q8IYX7', 'P0A7X6', 'P83886', 'Q9ZQ85', 'A0A0D5YI36', 'Q9UK73', 'P00738', 'P36659', 'Q9Y6X3', 'O00483', 'Q09811', 'P21837', 'Q9VJV8', 'Q84Y18', 'P49367', 'R4ZGN4', 'Q07020', 'P13720', 'O15269', 'Q9SD40', 'Q6NQJ6', 'P47871', 'Q8U0A4', 'Q9JMD0', 'G5EGK5', 'O95968', 'P40228', 'P25490', 'Q2Z1W2', 'P15270', 'O74324', 'P0A609', 'Q7Z3C6', 'A3KGV1', 'Q07418', 'A8FW15', 'P57757', 'P39677', 'P23515', 'Q15006', 'Q17784', 'Q9FX53', 'Q9BQB6', 'P19401', 'Q9S7Q2', 'Q8VY09', 'Q9LAB5', 'Q9I9A7', 'Q9SRX9', 'Q8S3U9', 'Q5F5F6', 'Q76LL6', 'Q17381', 'P37001', 'Q59289', 'P29590', 'P75493', 'Q9Y2F5', 'Q09792', 'Q9MAM1', 'Q14676', 'P33641', 'Q2V2Q1', 'P96169', 'Q99278', 'P27373', 'O62305', 'Q9P6R4', 'P16225', 'Q93ZC5', 'P43364', 'P25625', 'P25646', 'Q61473', 'Q06399', 'P0A924', 'F4J117', 'Q8CDP0', 'P83234', 'A6LFT2', 'Q9LT27', 'Q94JU3', 'P39744', 'Q8N5M9', 'Q659I5', 'A0A2I8B352', 'Q18221', 'G5ED41', 'O83691', 'O43913', 'P70396', 'P83792', 'P39442', 'P35613', 'Q9LSI7', 'P10720', 'C4P6S0', 'Q8L7F7', 'Q95PA1', 'Q90257', 'O75844', 'Q8T0W5', 'Q9Z206', 'Q9SKI4', 'Q62867', 'Q9NQZ3', 'Q8TBZ6', 'P76272', 'Q53599', 'P0C5Y7', 'P83876', 'P9WK56', 'Q9Y2B4', 'P11919', 'Q9NP58', 'Q9UJV9', 'P51813', 'Q8BUB4', 'Q9HBA0', 'P23044', 'G5EEM5', 'O43012', 'P87229', 'Q9USQ6', 'Q86Y26', 'P9WK79', 'Q9TW45', 'P0ABE5', 'P50582', 'P12550', 'A0A160PB22', 'Q8BG17', 'Q6FYW2', 'O15226', 'Q12252', 'G5EEK3', 'Q28989', 'A5YKK6', 'Q12461', 'C7RCP6', 'P40205', 'O33407', 'P79051', 'P19400', 'D4A693', 'O59737', 'O28846', 'P87052', 'P25289', 'Q9UBF9', 'P25116', 'Q63617', 'Q926C3', 'O60130', 'P44276', 'Q6ZIK5', 'P58564', 'Q13492', 'Q8BLY2', 'Q9ZVU5', 'P12729', 'Q9XE58', 'P02930', 'P55802', 'P53307', 'P83513', 'Q9P6I6', 'P0ABZ6', 'P75830', 'Q6IUP1', 'Q06002', 'D4A702', 'Q01578', 'Q12211', 'P33534', 'Q7M3S9', 'Q17043', 'P40159', 'Q87C91', 'O00443', 'P51521', 'Q9VIP8', 'Q9P4U9', 'Q84N48', 'P38250', 'Q8YM40', 'A0A8M2', 'E9Q9F6', 'O42849', 'Q96S96', 'P9WK41', 'Q03529', 'Q6ZH94', 'Q6RI63', 'A3RF67', 'O74792', 'Q03611', 'Q9C0W2', 'Q05819', 'A1JUB7', 'Q07930', 'Q56575', 'Q5X521', 'Q9P0I2', 'Q86LE5', 'Q04093', 'Q9HE09', 'Q06511', 'O94307', 'Q52764', 'P32842', 'O13905', 'Q96JB5', 'Q9P2K2', 'C8VTV4', 'P54582', 'Q10412', 'P35150', 'P31688', 'Q9TVX3', 'Q9NQV5', 'P26501', 'Q9SCL7', 'Q08822', 'Q92665', 'Q08BA4', 'P51834', 'Q6EH50', 'Q9NW15', 'Q9SY66', 'Q5K131', 'A6L3B5', 'Q9USN5', 'F4J8D3', 'Q3YEC7', 'P81418', 'E9Q6W4', 'P30559', 'Q8VYD2', 'Q10296', 'E8XP36', 'O74859', 'P12687', 'O00105', 'P0A910', 'P53207', 'O74461', 'Q99J21', 'P13979', 'Q86PC9', 'P33419', 'B9DY54', 'D0Q0Y7', 'P97852', 'E2RQ08', 'Q9NTU7', 'O74896', 'P34611', 'P53102', 'P28307', 'Q96EF0', 'Q25QX6', 'P67875', 'Q8BVM7', 'P00154', 'P15650', 'Q8ZRJ9', 'P49768', 'P01302', 'Q810B3', 'Q02732', 'Q01117', 'Q02875', 'Q6LZY8', 'Q9SPG2', 'Q9NP86', 'P02783', 'P36520', 'Q81BL7', 'Q9HDV6', 'Q6WN34', 'Q283Q6', 'Q04411', 'P29722', 'Q9VTE2', 'Q9NS25', 'Q9C5Q8', 'A0A081GU02', 'A0QYB5', 'Q94C32', 'O00767', 'Q9Y7V2', 'Q57IG4', 'O81787', 'P08821', 'Q9WU70', 'P16368', 'P94552', 'E0XKJ8', 'P25567', 'Q9GZX6', 'F4IRR2', 'Q10655', 'Q9Y592', 'P03959', 'P02746', 'P32569', 'Q9GN62', 'P44042', 'P0AGM7', 'Q96RL1', 'O75899', 'Q960N3', 'Q9UUF3', 'Q1ZYQ8', 'Q0JFZ0', 'Q8QFR4', 'P80188', 'Q96GC6', 'P48632', 'Q9ULZ0', 'P16636', 'P36519', 'P20713', 'Q9P785', 'Q41387', 'Q5EN53', 'P26780', 'Q9SBK6', 'Q8N766', 'P38086', 'Q12072', 'Q9BV81', 'F2QXM5', 'Q9R059', 'Q6UWN5', 'Q03954', 'P40406', 'Q57556', 'O60306', 'P38769', 'Q04728', 'O33458', 'P05533', 'Q53S33', 'P69740', 'Q13888', 'P35778', 'P9WJK3', 'Q8RWN5', 'Q9SGZ8', 'P82663', 'P32347', 'B2UBL7', 'Q550F6', 'P0A8X2', 'P36144', 'O60171', 'Q99JY3', 'B3STN5', 'P08458', 'Q9UTK9', 'P47027', 'Q9FZ47', 'Q2YK18', 'P89886', 'A9Q0M7', 'Q9BQ95', 'P04124', 'P53335', 'P36532', 'P51456', 'O74558', 'P52002', 'P23903', 'D4AE59', 'Q8GXJ4', 'Q02825', 'P10975', 'Q9BUU2', 'P05149', 'O48533', 'Q9URY7', 'P09787', 'O74399', 'P0A3W5', 'P38889', 'Q9Y2T5', 'Q9BQA5', 'G5ECT8', 'P08697', 'Q19849', 'Q16663', 'Q3UZ18', 'O94451', 'P19584', 'E7FHP1', 'Q9Z0S5', 'Q8NKX2', 'Q9M0Y9', 'Q3UWR2', 'Q5AHB1', 'Q9I194', 'P44741', 'Q8C6P8', 'Q8L9A0', 'P42061', 'P40167', 'O67305', 'P40530', 'P0ADM4', 'Q9SZ63', 'P13036', 'Q8MLZ3', 'P18684', 'Q09820', 'Q9BRV8', 'O75688', 'Q58439', 'P49903', 'P34957', 'Q12493', 'Q540U1', 'Q9SQK3', 'D3Z7H4', 'Q9Z0K8', 'Q0WMY5', 'E1BSW7', 'C0SP80', 'P15999', 'Q06137', 'P02671', 'P9WM45', 'Q8BIQ5', 'P53850', 'O14949', 'P53170', 'Q8N0S6', 'Q9XXV0', 'P54475', 'P0AEY8', 'H2L008', 'Q46835', 'Q9FFH1', 'P18659', 'Q3TBL6', 'P41595', 'P17118', 'Q96IJ6', 'P46863', 'Q04562', 'P69856', 'Q9P7D3', 'Q6GE63', 'Q6K498', 'Q6RUF5', 'C7AJA4', 'Q8VWG4', 'Q9GQV7', 'Q9VIV2', 'Q14191', 'P40326', 'P13806', 'Q9UT31', 'Q9RKQ0', 'Q99808', 'Q9Y7R7', 'Q9V4C8', 'P50500', 'Q96T68', 'Q9GZV9', 'P0CX47', 'P0ADB0', 'Q12431', 'Q5NBM8', 'O83475', 'P54423', 'Q10124', 'Q9PLJ2', 'Q2L4W6', 'Q9I5U2', 'P20789', 'Q7TS99', 'E7BLC7', 'Q96JB8', 'Q96FC9', 'P11150', 'Q9STG9', 'P27787', 'Q99JE6', 'P18709', 'Q2JJF6', 'Q9LI74', 'P0DPU8', 'P01730', 'Q6PFG8', 'P02648', 'Q54QV3', 'Q9P7T0', 'P87074', 'P57026', 'Q9QZM0', 'Q727P6', 'P92189', 'Q9VAF7', 'Q03383', 'P33781', 'Q9BYV1', 'P41777', 'Q14CW9', 'Q6UXB1', 'Q9ZVC2', 'Q9P7M9', 'T2GP47', 'Q99L88', 'Q9NWZ8', 'P06727', 'H2L099', 'P61619', 'Q9USP7', 'P01024', 'P78362', 'O04350', 'P39939', 'Q8T6B9', 'P01795', 'Q9UTG1', 'P20271', 'P19456', 'Q9AFF7', 'C5J887', 'Q9NVR2', 'Q9CAQ2', 'P09394', 'O94644', 'P56765', 'Q8N427', 'P40770', 'Q92316', 'P23857', 'Q8ZRW0', 'B0XTT5', 'Q86UV5', 'O13871', 'P18959', 'O34689', 'P10909', 'Q62376', 'P38054', 'P40506', 'P96667', 'G5EGK6', 'O14041', 'Q46125', 'Q6X4W1', 'Q0GY40', 'P54132', 'O01789', 'Q24145', 'P0DPU7', 'Q8N1Q8', 'Q9P7H5', 'Q8VZ10', 'P02702', 'Q9Y6K9', 'G4V4F9', 'Q9C503', 'C0HLA0', 'O08560', 'P97288', 'P33280', 'Q9Z869', 'Q91836', 'Q12298', 'Q9V9Y4', 'Q8TE85', 'O32005', 'Q1MTR2', 'P0DL09', 'A0A0F7YZQ7', 'Q08109', 'O60308', 'Q9V3J4', 'Q16629', 'Q8W257', 'Q09777', 'Q9C5S1', 'Q7T3R4', 'P05305', 'Q3ZBF3', 'O31486', 'Q9Z266', 'Q9ZBM7', 'Q5JVL4', 'Q9V9N1', 'Q45340', 'P55320', 'Q8BZ47', 'B6JKG3', 'D2ZZC1', 'Q8VZR0', 'A1Z8P9', 'P98066', 'Q8VYR5', 'Q02794', 'Q75WF2', 'P47821', 'P04276', 'Q9ESL4', 'D6VTK4', 'O74862', 'P15247', 'Q8VBU8', 'Q8GYJ4', 'Q6NPN9', 'P37299', 'P44544', 'Q61471', 'Q9JMG6', 'O75920', 'Q9RQB9', 'P07552', 'A9YTQ3', 'Q8MMH3', 'P04155', 'Q08965', 'O94462', 'E7DDH2', 'Q9CJU4', 'P53718', 'P0C0Y7', 'P0C050', 'O14030', 'Q9A6U9', 'P13864', 'P81623', 'Q9P7S6', 'Q13620', 'Q9FQ03', 'Q969J5', 'Q9H3H5', 'P94691', 'O94628', 'Q03941', 'Q2NKJ3', 'P67788', 'Q13115', 'O13713', 'Q4FZF2', 'P0CX84', 'O13722', 'Q9X1B7', 'P43261', 'A6NHX0', 'P0A902', 'O94388', 'Q03431', 'P55263', 'Q7XYY2', 'P40516', 'Q8GT41', 'Q9FQ09', 'Q7Z3E1', 'Q04177', 'P15926', 'Q01650', 'Q9NVW2', 'Q94ID3', 'P35996', 'P32799', 'Q12156', 'P74917', 'Q12161', 'O14015', 'P24474', 'Q96E14', 'P35053', 'O94398', 'P39049', 'P46964', 'Q9H3J6', 'P41948', 'P0A9Z7', 'O31749', 'P20774', 'P05740', 'O23247', 'O94986', 'Q86W47', 'P71244', 'Q9W3M3', 'Q8IWT1', 'P49775', 'Q14203', 'P80702', 'Q8IY21', 'P55319', 'P82358', 'Q12297', 'Q06525', 'Q84LH8', 'P81828', 'Q7Z995', 'D3ZUQ0', 'F5CPD3', 'A0A0U2UYC4', 'Q84VZ1', 'Q9L1P4', 'P28612', 'Q9HE76', 'P07021', 'Q9D489', 'Q4G0U5', 'Q12947', 'P0DMR4', 'Q9CY02', 'O75937', 'Q8TD06', 'Q90ZA1', 'Q5SJ79', 'Q8GXN9', 'Q9HD33', 'P26466', 'P53072', 'P15391', 'Q9BVI0', 'P0AEG4', 'Q71A39', 'P36626', 'Q9BZJ0', 'Q05044', 'Q03151', 'Q940G0', 'A1SVX3', 'Q07845', 'P31122', 'Q80VR2', 'P26877', 'O74545', 'Q9SLB9', 'P05099', 'Q9S816', 'P96156', 'A0A140LI88', 'O32436', 'Q5YA25', 'Q8NHV4', 'P47015', 'A0A0K8P8E7', 'Q05586', 'Q9BYG8', 'Q8IX12', 'Q8NC51', 'Q8IW35', 'P75153', 'P40070', 'Q49538', 'Q9FK12', 'Q9XXH8', 'K9UJK2', 'Q9Y2K1', 'P01170', 'O51418', 'Q00497', 'P07643', 'Q0CRX8', 'P07808', 'Q9BRF8', 'Q84WL6', 'Q84JE8', 'Q8RWV8', 'Q9CC94', 'O60158', 'P36154', 'Q89AH6', 'P82162', 'Q8IYB8', 'P35179', 'Q96TU3', 'G5ECG2', 'Q5H9F3', 'Q9LEY4', 'O94652', 'P04557', 'Q8GXR9', 'P53985', 'P34420', 'P25718', 'Q8TCS8', 'Q9VA38', 'L0DSL2', 'O22975', 'P63250', 'P02749', 'P20020', 'O80839', 'Q9BRJ2', 'Q03490', 'O61661', 'P26452', 'Q2FZL3', 'P39301', 'O59811', 'Q9UTD7', 'P06129', 'P75327', 'Q8TF46', 'H9G301', 'Q9WVS4', 'Q9FGQ2', 'Q94K85', 'Q9ZUZ6', 'O95926', 'Q93VC7', 'O60894', 'P02763', 'Q9N4U5', 'D0VWR5', 'Q9HPK2', 'Q5SML5', 'Q969F9', 'P00779', 'Q8WWH5', 'P11021', 'Q9US28', 'P25656', 'Q8K1Q4', 'Q9U3V9', 'Q9Y6H6', 'P31697', 'Q8W104', 'P87141', 'Q91YI4', 'O94560', 'P55163', 'P41271', 'Q9CAQ8', 'B9KDD4', 'Q44856', 'P51998', 'Q8WPJ2', 'Q07979', 'P51919', 'Q6EDY6', 'P20292', 'Q0E3V2', 'Q86W50', 'P83371', 'Q9H9E3', 'Q0AE45', 'P20821', 'P38687', 'P55428', 'Q02775', 'O14183', 'Q8DIQ1', 'P76045', 'O14259', 'P40156', 'Q2YJ77', 'P33767', 'Q6QD51', 'P0DMD3', 'O49782', 'Q03262', 'P81134', 'P10085', 'P28607', 'Q8N4X5', 'P0DQE1', 'Q94BQ3', 'O94338', 'A4G6A8', 'O35250', 'P84843', 'P56945', 'Q2FVE7', 'Q7K4M4', 'Q558Z2', 'Q9QZE5', 'Q51486', 'Q6S000', 'P15692', 'Q9SM43', 'Q9ZWA6', 'P78363', 'Q9NSA1', 'P38282', 'Q2TBA0', 'E1WAE4', 'Q8TCJ0', 'Q2V9B0', 'P38998', 'Q43125', 'Q9P0W0', 'Q7L1W4', 'P40188', 'P69681', 'O43572', 'O46168', 'Q94EG3', 'Q9APM5', 'P69380', 'P38126', 'Q64277', 'Q9P797', 'P13183', 'P36597', 'O67235', 'P34341', 'P9WK70', 'F4J3R7', 'Q8R6L9', 'Q86T24', 'P22301', 'Q8WQ86', 'Q9NXR7', 'Q4WF55', 'Q93PU5', 'Q9DA75', 'Q7LKZ6', 'P55081', 'Q8H3A7', 'Q3YJT5', 'Q14SY0', 'P91276', 'F1RRV3', 'P46359', 'Q8L983', 'Q7TQN3', 'A9ZSZ2', 'P05113', 'P34708', 'A0A1P8ASY1', 'Q12497', 'Q9Z258', 'P33308', 'P16950', 'O14842', 'P49116', 'Q8TEU7', 'Q96PP9', 'P31231', 'Q9C658', 'P28778', 'Q9EPI8', 'P31226', 'Q940X9', 'Q9VP76', 'Q10490', 'P54318', 'Q8IXK0', 'Q8L627', 'P14661', 'Q9LPZ4', 'P09938', 'Q63424', 'P17953', 'Q9LIQ6', 'P38781', 'O31810', 'P32899', 'P21731', 'Q79AD2', 'Q9HWA1', 'Q9SMZ4', 'P13266', 'Q15040', 'P01307', 'P25696', 'P56726', 'Q6DRC5', 'P20933', 'P09595', 'Q5NAT0', 'P22736', 'P63142', 'P0CL69', 'Q28085', 'P48381', 'P28319', 'Q9HVD1', 'P69851', 'D5LXJ0', 'P92507', 'Q12420', 'P21814', 'E1B328', 'P25355', 'P0AB08', 'P32656', 'P06609', 'Q6PDU5', 'P23394', 'Q9UUI3', 'P95470', 'F4K410', 'Q02942', 'P12524', 'Q96QU8', 'P09391', 'O94441', 'Q5T7B8', 'P54945', 'P80109', 'Q84K52', 'P34560', 'Q9JZN9', 'Q06576', 'P35195', 'Q6AXT7', 'Q9XW16', 'P28039', 'P39023', 'P06030', 'A4WEW2', 'Q9UBE0', 'Q01163', 'P28700', 'P06886', 'Q12770', 'Q9BYF1', 'Q09704', 'O36025', 'Q6GJM8', 'Q96QD9', 'Q9US15', 'Q06706', 'Q39688', 'F4J8K6', 'P01137', 'A0A0K9RDW0', 'O95711', 'Q13137', 'P60467', 'P30657', 'P02679', 'P54700', 'P39549', 'Q8QGU6', 'P20827', 'P30130', 'A0A0H2VG78', 'Q0G838', 'P07811', 'P18146', 'Q19203', 'Q5RLZ1', 'Q1HG43', 'O94362', 'P39721', 'A7MLE5', 'P20108', 'Q76PD2', 'P0ADC6', 'Q04922', 'Q9UNH7', 'P02906', 'P50579', 'P29695', 'F4I700', 'Q96MH2', 'Q03155', 'P10279', 'P40363', 'A2A870', 'Q86WC4', 'Q03799', 'P0C0S1', 'Q9GL30', 'P09001', 'Q1DB04', 'Q08AG7', 'P36004', 'P0ABS1', 'D7GXG1', 'Q8MUC5', 'P19263', 'P30556', 'Q9C928', 'Q9SJU5', 'B0JFB8', 'Q5GLZ8', 'O14727', 'Q5ZXE0', 'Q8U1S5', 'P28837', 'Q12429', 'A7T1N0', 'P53848', 'Q8Z6A7', 'G5EFZ3', 'O52055', 'P25637', 'F7J1C8', 'P08432', 'Q5T0W9', 'P25929', 'Q9NYK1', 'Q8N196', 'P17201', 'Q42577', 'P37600', 'Q9YHZ6', 'P38197', 'P83880', 'P0CU17', 'P60460', 'P37028', 'Q8TD08', 'P21827', 'F6YCR7', 'O84080', 'Q6DGG9', 'Q10135', 'F1LM93', 'O60166', 'Q4W9R0', 'P76578', 'Q8CFC9', 'P33400', 'Q96JC9', 'P30968', 'Q9BWJ5', 'Q9M374', 'Q53TN4', 'O60844', 'Q9H2W6', 'Q18240', 'A6URZ5', 'F4KFB3', 'O18994', 'Q01981', 'O80875', 'O34431', 'P9WG28', 'O74454', 'P35481', 'Q9ST69', 'H6D7E6', 'Q9EQX0', 'Q9UTG6', 'P0AAI3', 'Q38897', 'O14032', 'Q8IH18', 'Q99972', 'Q86V24', 'P54098', 'B1P0S1', 'P22751', 'P14678', 'Q60557', 'Q14BI7', 'P53043', 'Q99PJ1', 'Q58026', 'P60841', 'Q99003', 'Q86YS7', 'P10121', 'C0SP99', 'Q9C7G0', 'B7F8P5', 'Q12129', 'P29288', 'A5W4E3', 'Q5HGV1', 'Q9M3C6', 'Q05085', 'Q8L7U4', 'Q9BZM5', 'Q9Y7T2', 'O95810', 'P02655', 'Q9I116', 'Q03771', 'P78067', 'P03960', 'Q8N9B5', 'P15698', 'P18915', 'Q1MTQ9', 'Q96MF7', 'P18508', 'Q4WZ11', 'Q6LA56', 'Q72JD8', 'Q56973', 'P60033', 'P19427', 'Q55DB0', 'P39724', 'P18510', 'Q9Y6I4', 'Q9BT92', 'O96559', 'P24483', 'P0AC44', 'P53634', 'Q6P3G4', 'P50106', 'P35248', 'P51532', 'P04003', 'Q8H991', 'O43283', 'P0ADU5', 'A5TZU0', 'Q04868', 'P10669', 'Q9ESC1', 'Q9LLT1', 'Q96T21', 'Q9BXL8', 'Q5FW52', 'Q8I817', 'P0C090', 'Q9Y2T7', 'O06522', 'Q6IQX8', 'P10762', 'Q8L5R3', 'B9DFA8', 'Q02113', 'Q2FZP8', 'Q8TAF3', 'P08125', 'P36662', 'E9PYI1', 'Q5XKR4', 'P92204', 'Q9X6V6', 'Q12220', 'Q9SCR2', 'O25930', 'O22210', 'Q99PE8', 'P30440', 'Q5E915', 'Q9SL05', 'Q6ZU80', 'P29029', 'P68699', 'Q9VMD6', 'P41222', 'Q8VCQ3', 'Q8BKA3', 'Q9SGA2', 'P04196', 'Q9C0Y8', 'P0A927', 'B3A003', 'P17987', 'Q14165', 'Q9I869', 'P13384', 'P40858', 'O74531', 'A8CL69', 'O60058', 'P01006', 'Q94BR4', 'B6H2G9', 'Q8S3N1', 'B2D6P4', 'Q58368', 'A2XFC1', 'P50726', 'O07634', 'Q84W65', 'Q96PD5', 'Q22663', 'Q8W4Q4', 'Q9I596', 'P51684', 'Q08923', 'A0Q6X4', 'P25270', 'Q9BSW2', 'O60783', 'Q5UCC4', 'P84308', 'P06654', 'B6VQA1', 'P70837', 'P64423', 'Q9P7W4', 'Q13428', 'Q96E29', 'P0ADA1', 'Q6ULP2', 'Q9R002', 'Q8TMG0', 'Q9S1H0', 'Q9SJM4', 'P02703', 'Q9Y2M2', 'P76341', 'Q2LAE1', 'Q5D710', 'Q96M11', 'P21163', 'P22340', 'O54715', 'Q8N371', 'O30143', 'Q9VBW9', 'Q384Y0', 'B8AL97', 'Q94CV1', 'P16055', 'Q9HUF7', 'P10822', 'Q12172', 'P49286', 'P42001', 'O74435', 'P75820', 'F4HU58', 'Q9D2Y4', 'P0AG99', 'P07987', 'P0DPG3', 'Q6FI81', 'Q6L5B5', 'Q26377', 'P69054', 'Q03426', 'P0AF70', 'C0HL82', 'Q9SIV5', 'Q24307', 'P20440', 'Q6NQ99', 'Q086E4', 'O42844', 'P0ABJ3', 'O54943', 'P54451', 'Q8NEJ9', 'O74804', 'P14780', 'O42951', 'A0QXD9', 'Q9DAM1', 'P00410', 'Q9FWA6', 'A3RJ36', 'Q9BZL1', 'Q9BQP7', 'O34349', 'P46940', 'A1X158', 'Q9SY69', 'O94724', 'Q9P799', 'P42845', 'Q0Z8B6', 'Q9Y3R4', 'Q9HGQ0', 'Q969W0', 'P62487', 'Q96JJ3', 'Q6ZRQ5', 'P27033', 'Q9ULP9', 'C6KI89', 'Q9XGM3', 'O75603', 'P02916', 'Q03433', 'P0C8G7', 'Q04195', 'P21453', 'Q9BX93', 'O60318', 'Q922Q1', 'P38013', 'P42578', 'Q9P3W1', 'O34214', 'P36534', 'C9K4X8', 'Q96C36', 'G5EGQ6', 'O28918', 'Q02931', 'Q29W25', 'Q35128', 'Q12343', 'Q00595', 'Q06408', 'Q15436', 'F1NSM7', 'O04479', 'Q94F30', 'P53262', 'F2JXJ2', 'O94636', 'Q05892', 'P22483', 'P80152', 'Q50EK2', 'O42720', 'Q9VEC1', 'Q9JK81', 'P06548', 'P32340', 'G5ECG0', 'I6XEI5', 'Q9HE16', 'P36527', 'A0A0F7YYX3', 'Q3E785', 'P17413', 'P53873', 'Q0JQF7', 'Q5TCY1', 'P75371', 'Q9UT96', 'O17907', 'Q9UBX2', 'Q86M34', 'P32785', 'P10903', 'Q9H079', 'P18895', 'P60832', 'Q9H116', 'B2RH58', 'Q8KES3', 'Q8VC66', 'Q9USQ2', 'P41543', 'E1XUJ2', 'B7IE18', 'Q12373', 'P29460', 'Q8LPN3', 'Q57130', 'Q924C5', 'P96740', 'Q53H47', 'Q93356', 'P21338', 'Q3C258', 'Q03201', 'F4JP48', 'P48745', 'L7N1X6', 'O14179', 'Q9H244', 'P11916', 'P92186', 'O82399', 'Q5VWP2', 'P0C194', 'Q9UHR4', 'O22131', 'P00748', 'D3ZGX1', 'P27692', 'Q9SLP4', 'P92948', 'P82413', 'P64606', 'F8WQK8', 'Q7XLD4', 'Q6NZY4', 'Q9M373', 'Q02873', 'Q9XGP7', 'O64642', 'Q06139', 'Q5S006', 'Q9ZT16', 'O94762', 'O77801', 'P30153', 'Q39055', 'Q9BXU7', 'P14906', 'P49250', 'P0ADE4', 'Q14CZ7', 'Q9SYD8', 'Q7TNS8', 'E4PKG3', 'Q4KMP7', 'Q9XEA1', 'P23025', 'P00992', 'Q9H0R1', 'P82281', 'P34116', 'Q9S713']\n"
          ]
        },
        {
          "output_type": "stream",
          "name": "stderr",
          "text": [
            "Processing...\n",
            "Done!\n"
          ]
        },
        {
          "output_type": "stream",
          "name": "stdout",
          "text": [
            "Length of proteinnames 2126 is == or larger than length of existing proteins in processed dir 2129\n",
            "self root local:  /content/drive/MyDrive/transmembrane_proteins/data/graphein_downloads/v4/\n",
            "protein list: \n",
            "['I6S7G5', 'Q9FGT8', 'Q64514', 'Q9Z0G9', 'P59665', 'Q9JJW5', 'O15297', 'Q13162', 'P12238', 'Q05471', 'O74562', 'Q5XPI4', 'P50222', 'Q3MUH7', 'P0DI81', 'Q48754', 'Q8N9V6', 'Q24322', 'Q9VYY9', 'Q08816', 'Q3L8N0', 'P37655', 'O97148', 'P55734', 'P26461', 'Q86W54', 'Q51227', 'Q9UL49', 'O76818', 'P09914', 'P82130', 'P07255', 'P44572', 'D4GW40', 'Q54735', 'Q01613', 'P9WNQ9', 'G5EGA3', 'Q4V4I9', 'Q9BDB7', 'Q9FMB4', 'A1XBS5', 'P28325', 'O35387', 'Q6R0G4', 'Q83EK8', 'O74312', 'P24821', 'Q9LZ56', 'Q23997', 'O74458', 'P63235', 'Q8LGD5', 'Q7KHG2', 'P84810', 'Q13112', 'Q9Z4S6', 'O94598', 'O82312', 'Q9BQB4', 'Q10137', 'A8K830', 'Q03188', 'Q9FX45', 'P0A6M2', 'B7MBF8', 'E3PPC4', 'Q9KPQ4', 'Q78IQ7', 'P9WK69', 'O14141', 'Q02354', 'A6W1C5', 'O60303', 'Q92542', 'Q9CKU6', 'Q9R1C0', 'O82239', 'P08751', 'Q09601', 'Q9Y4X3', 'P06700', 'O70576', 'P0CX78', 'Q5ZKX9', 'Q6U7H8', 'F4I2J8', 'O76192', 'O75112', 'Q13671', 'Q8K9V7', 'Q12457', 'V6ALN4', 'Q9LVC3', 'P68183', 'Q9HB40', 'Q10CH5', 'O15304', 'Q8BG18', 'P87241', 'P15647', 'Q8VZQ2', 'P0DI99', 'P51654', 'Q9VM91', 'O60939', 'Q8WWL7', 'A0AT29', 'Q1KPV0', 'P05205', 'P59644', 'Q64610', 'Q7RYW6', 'P86407', 'Q93Z00', 'Q9NRK6', 'P27477', 'Q96GX5', 'P0AGF4', 'Q8L3W1', 'P0DPU9', 'Q9C106', 'P42229', 'P53725', 'Q16674', 'P53992', 'P43003', 'O74830', 'B1XT70', 'Q03761', 'Q9HC23', 'O29867', 'O42868', 'P04148', 'P55265', 'P38285', 'P58154', 'P36408', 'Q8NE86', 'P53114', 'P0CC12', 'P24305', 'Q08977', 'Q08963', 'O94368', 'P40719', 'O89093', 'Q9QYP6', 'Q07540', 'O74779', 'P86872', 'O94953', 'M1V4Y8', 'P38371', 'P14772', 'O59760', 'Q02067', 'P0AFH8', 'Q9VIF5', 'P0CT04', 'P25031', 'Q5DTW7', 'P0AC25', 'Q9UUE0', 'Q5DW47', 'O75363', 'Q8TZK2', 'Q8TB24', 'O43278', 'Q7KRY6', 'A5VZA8', 'P53292', 'P07275', 'P0AET2', 'Q9FEB5', 'P52013', 'Q9ER97', 'O34385', 'O15344', 'F1RAX4', 'Q9VV73', 'Q47910', 'O00488', 'P11439', 'O13982', 'A0RZH5', 'Q3SY69', 'Q3UIK4', 'Q7NDN8', 'H2KYS8', 'P45478', 'O13974', 'Q9LIH6', 'P36138', 'Q46045', 'Q3SZX9', 'O54975', 'P07891', 'B5FGS5', 'Q8K202', 'P82804', 'Q9BUN8', 'Q9GSA4', 'Q9Z2D7', 'Q9P775', 'P14416', 'Q9GZZ9', 'O31803', 'Q9P2K6', 'P22394', 'P50531', 'A7VN14', 'Q9Y7Y6', 'P39731', 'Q86TB9', 'O34787', 'P01633', 'P45615', 'Q8VYR7', 'F4K1R2', 'P0DSN2', 'Q9HE05', 'F4JRB0', 'Q8CVC9', 'P34998', 'Q8L785', 'P08588', 'Q7L0Y3', 'P01139', 'Q500V5', 'Q99622', 'P40923', 'P02750', 'Q99MV1', 'Q95P90', 'P05527', 'Q42605', 'B2VEI1', 'Q12488', 'P06010', 'Q8WVT3', 'P27919', 'P32248', 'P0CX34', 'A0A0D1DWQ2', 'Q6D8U4', 'Q07970', 'P28798', 'P51575', 'O94590', 'O14343', 'P75255', 'Q12791', 'Q6NQ54', 'Q53TQ3', 'O83516', 'Q9R1S0', 'Q8IW19', 'Q9Z2F5', 'Q8WQL7', 'Q96BI3', 'O17894', 'P17213', 'Q15007', 'P07692', 'Q9ULT0', 'P02670', 'Q9BYX2', 'Q8R0P4', 'Q9Y4F3', 'Q27082', 'Q9T0A4', 'A8JAM0', 'P12333', 'O14348', 'Q99MB1', 'O74875', 'P80392', 'O14979', 'Q68WW6', 'Q5VNN5', 'A0A0H3AME7', 'Q12675', 'Q9VNA8', 'Q8RWV3', 'I6RA76', 'Q9Y7J2', 'O34889', 'Q9UT87', 'P0AEB2', 'B2RHG2', 'Q21360', 'P75742', 'P92947', 'P11218', 'Q01292', 'P44585', 'Q9SGU3', 'Q10573', 'Q40975', 'A1Z9P3', 'P28340', 'Q2PGV8', 'Q6Z1Z3', 'Q07WU7', 'Q97WX2', 'Q8CFW1', 'A6NJ78', 'Q8L743', 'P55405', 'P04039', 'P02659', 'Q148B6', 'Q9UUA1', 'Q09117', 'Q2MJS2', 'Q8BND3', 'Q03518', 'Q21446', 'Q99ML8', 'O14253', 'O81242', 'P31418', 'P53277', 'P56192', 'P42842', 'Q8I5V4', 'A1ZAY1', 'Q05789', 'P97253', 'P29788', 'Q05084', 'Q99967', 'Q8WP90', 'Q564K3', 'P41361', 'P37466', 'Q9H0U3', 'P47068', 'Q8BN82', 'Q9Z8J4', 'Q9C0J8', 'Q55P57', 'O60832', 'O49290', 'D4GYW6', 'P0A906', 'Q8A6W3', 'P27896', 'Q12500', 'Q5U5M8', 'Q32NU8', 'P61312', 'Q9H9L4', 'Q13635', 'A5HAK0', 'Q5HYI7', 'P33225', 'Q9BZV1', 'Q9C0B1', 'P16112', 'Q8L7U5', 'P0AAJ3', 'O14370', 'O95715', 'P47050', 'Q7G7J6', 'Q9ULV1', 'Q9Y508', 'P15570', 'P38720', 'Q9H1M4', 'O60081', 'P02976', 'Q8W4J8', 'P23968', 'Q12447', 'P39172', 'Q9FNY0', 'O42853', 'O83811', 'O88286', 'P69412', 'P37650', 'Q6JAN1', 'P18336', 'P42517', 'Q3ULA2', 'H2L0G5', 'Q8MML5', 'Q9F1L5', 'Q03825', 'P0DP43', 'P05695', 'Q16630', 'O94252', 'Q81DT1', 'P07471', 'Q9UI36', 'Q1H537', 'P0C8E8', 'Q9LES2', 'O15381', 'Q9U8X3', 'P38860', 'Q9ZFB3', 'P45844', 'Q9H981', 'P02765', 'Q53FT3', 'P87112', 'Q72E84', 'Q9C552', 'Q9Y2I8', 'O14338', 'Q9U572', 'Q16594', 'P82384', 'P38786', 'P81608', 'Q9PTD5', 'P40963', 'P13627', 'Q7M827', 'O43586', 'P04937', 'Q5ZR76', 'Q66JZ4', 'Q49803', 'P48437', 'Q9W0S8', 'Q92765', 'Q12050', 'I6Y9J2', 'Q84MM9', 'P02920', 'Q9P7W1', 'Q99661', 'Q8CFH6', 'P07834', 'Q8I7X1', 'Q9Z2N6', 'E1VBK1', 'Q9LQ02', 'P0AG90', 'P32644', 'Q1QXC9', 'B7XDF1', 'O94583', 'Q47945', 'Q7M6Y6', 'P49021', 'Q9LXD6', 'Q1PFN9', 'Q8VZ59', 'Q923J1', 'Q9GKK3', 'Q12017', 'Q63041', 'Q9LW12', 'P39543', 'G5EE86', 'Q7YT16', 'A0A5K7RLP0', 'Q96JM3', 'Q57519', 'Q9HAS3', 'Q86UW9', 'P01556', 'Q41932', 'Q6P161', 'Q934G3', 'Q9RY51', 'Q99590', 'P58300', 'Q18973', 'Q9VH14', 'Q9C1W6', 'Q14108', 'P05408', 'Q9P7B5', 'O43866', 'Q9BXL7', 'Q0JD85', 'P86929', 'Q9DBG9', 'Q99836', 'Q9H777', 'Q6IVV8', 'O60609', 'P87143', 'Q2TBR2', 'Q7L513', 'Q9ERQ3', 'P19532', 'O60896', 'P56874', 'P53881', 'P13691', 'Q5JTJ3', 'Q9M276', 'Q59XX2', 'O74731', 'Q2EMT4', 'P49796', 'A1XRN2', 'A1BQQ5', 'P40917', 'P78581', 'Q32MQ0', 'P80356', 'Q8BGW8', 'Q05516', 'Q92754', 'Q99538', 'P50637', 'P53332', 'P78423', 'Q5F0I3', 'Q03036', 'Q9UIF7', 'P04706', 'P76115', 'O75533', 'O00258', 'P50995', 'Q08738', 'Q00278', 'I0IUP4', 'P0AD27', 'P53804', 'P40136', 'O30511', 'Q96GV9', 'P56595', 'Q9Y7B1', 'O14791', 'Q8T626', 'Q9U6B8', 'Q8TF63', 'Q9JJR2', 'P43302', 'P07259', 'P31547', 'Q9H7E2', 'P29241', 'P43594', 'Q12701', 'Q9Z0L3', 'B4XT64', 'P42400', 'Q9Y7Y5', 'Q57817', 'P52594', 'P18958', 'Q8R5K4', 'Q9Y530', 'Q9NAN2', 'P9WIN9', 'P32839', 'O94387', 'Q86UD0', 'Q09776', 'P02896', 'P08151', 'O88811', 'Q15628', 'Q562C9', 'O95838', 'Q21209', 'Q9NW64', 'Q6NTE8', 'Q9ZG90', 'Q9XJ36', 'P28708', 'Q9NUN7', 'P23827', 'O94538', 'Q05775', 'P01499', 'Q8N8W4', 'P00130', 'Q9HDX7', 'P03872', 'Q6T3U3', 'P01174', 'D3ZGB1', 'Q7VKB7', 'P27683', 'Q99969', 'Q18593', 'O01352', 'Q66BP4', 'Q12321', 'W5PFI3', 'Q9H0U6', 'P09350', 'Q06411', 'Q08168', 'Q8GTB6', 'Q9NUQ9', 'P46561', 'Q07729', 'Q12188', 'G5EFF5', 'P0DPV6', 'P52871', 'O96693', 'P36544', 'Q32NK7', 'T2KN95', 'Q10MB4', 'O13802', 'Q48391', 'P38683', 'Q9LTX3', 'Q16927', 'Q8L7K9', 'Q18685', 'Q8BHN3', 'Q9NEZ5', 'P11350', 'A3QH32', 'Q9NRX1', 'Q64559', 'P21781', 'Q6K678', 'O94242', 'Q9R257', 'P32769', 'P82143', 'Q1RNF8', 'P97479', 'P96692', 'G5ED29', 'P25103', 'A7LXT4', 'Q8GWS0', 'Q69VD5', 'O70608', 'P48439', 'Q5T9L3', 'P28770', 'Q9LUI2', 'O55038', 'Q66HP6', 'Q9LFA2', 'P04950', 'Q5T601', 'A1SV87', 'Q6NWY9', 'Q07623', 'Q9HVS0', 'P13987', 'E5RQA1', 'Q9HFE7', 'P06865', 'P0C633', 'P32773', 'Q24JJ9', 'O31539', 'P0AB11', 'O60124', 'O59792', 'Q9NV88', 'G5EGU2', 'Q9Z4N4', 'Q8N5C7', 'P14314', 'B1B534', 'Q9P0W8', 'B0B815', 'Q9SG02', 'P40202', 'Q9PWI4', 'P38882', 'Q8TDU6', 'Q9NZB2', 'Q84P17', 'Q8G849', 'P12258', 'O74553', 'P0AGC3', 'Q96G75', 'G1UBD1', 'Q14980', 'Q9M069', 'Q24523', 'Q06568', 'P48067', 'O17670', 'P82918', 'Q9UZJ3', 'B0F481', 'P40166', 'Q55460', 'Q6K271', 'A1Z7G7', 'Q9U1K1', 'P24121', 'Q7Z4T9', 'P00348', 'Q08231', 'O83463']\n"
          ]
        },
        {
          "output_type": "stream",
          "name": "stderr",
          "text": [
            "Processing...\n"
          ]
        },
        {
          "output_type": "stream",
          "name": "stdout",
          "text": [
            "Length of proteinnames 704 is == or larger than length of existing proteins in processed dir 704\n",
            "self root local:  /content/drive/MyDrive/transmembrane_proteins/data/graphein_downloads/v4/\n",
            "protein list: \n",
            "['Q59514', 'Q8K4G5', 'P93045', 'P32051', 'P9WP57', 'P48612', 'Q8TD19', 'P30659', 'P03934', 'P05146', 'P40032', 'P50528', 'Q9NZN9', 'Q476F7', 'O08648', 'A2VBC4', 'Q8NFK1', 'P47924', 'Q8LKS5', 'P02879', 'Q08119', 'P52554', 'P22266', 'Q9LT15', 'Q8NJU8', 'Q88NC7', 'O01510', 'Q6L545', 'O42924', 'P35874', 'P0AD59', 'Q54WR4', 'Q8NBZ0', 'P70060', 'Q5BGU9', 'P00424', 'Q9USH2', 'O21043', 'Q8L6J3', 'P13727', 'Q9SU05', 'A5W3Z9', 'G5EC68', 'Q95Y36', 'Q59675', 'Q9UTR8', 'P0AFF0', 'P53867', 'Q8RLX0', 'Q9UBS5', 'Q4G0N4', 'Q4KL25', 'P21524', 'Q588Z1', 'Q9ST62', 'P00144', 'Q8NFH5', 'O60055', 'Q7Z6K1', 'Q9I4Z4', 'Q9LTB0', 'P05743', 'B6TTV8', 'P64428', 'P0AFM2', 'O88093', 'Q9NRD9', 'O14773', 'Q93Z81', 'Q15814', 'Q91VR5', 'Q00196', 'P54107', 'P55197', 'Q91V10', 'Q87RN6', 'O36023', 'Q10NX8', 'P40099', 'Q9VSL7', 'O60565', 'E5FYH0', 'P58557', 'Q99593', 'P00652', 'O00408', 'D6WJ77', 'P21128', 'Q04659', 'Q9CAH0', 'Q963A9', 'P34247', 'Q3E7C1', 'Q87TN7', 'P24330', 'Q9X404', 'A6XB80', 'P97302', 'Q9SJN0', 'Q681Y3', 'P0ABJ9', 'P0DSJ6', 'Q9UTL9', 'P07479', 'O75925', 'P44654', 'O59834', 'Q72CX3', 'Q1W6H9', 'O60895', 'B5LZ79', 'P38772', 'P41183', 'Q10740', 'P05546', 'Q5W0Z9', 'P75158', 'O73622', 'P51023', 'P0AEK7', 'Q7L2J0', 'Q99MG7', 'P53094', 'Q9P3W4', 'G3KIM7', 'Q45071', 'Q9VWW0', 'P25714', 'Q8TDY2', 'P10425', 'P54421', 'Q1MTN7', 'Q9NRD1', 'Q16552', 'P32344', 'Q04217', 'Q9BSA4', 'Q9UBS8', 'P42660', 'Q8GWE6', 'Q2M2Z5', 'A9A677', 'Q8NBL1', 'P11922', 'Q9VK33', 'Q97WX5', 'Q2QQ32', 'P57071', 'C9X4K7', 'P86218', 'O14182', 'Q94FY8', 'P10477', 'P33412', 'Q920Q8', 'G8YXZ9', 'Q8NG66', 'P32245', 'P34077', 'P29723', 'Q9SR70', 'Q12504', 'Q86WA6', 'P74838', 'D5ARP7', 'Q12204', 'P11889', 'Q75HY5', 'Q7KVS9', 'C0HLL2', 'Q27934', 'P38278', 'P0A232', 'Q8K459', 'A6XMY0', 'P0C2H6', 'Q9NS75', 'Q8WXF3', 'Q03785', 'Q18919', 'P43997', 'P40847', 'Q9LEV3', 'Q47151', 'P50052', 'Q949S9', 'P35777', 'P05837', 'A5F934', 'Q9UTM1', 'P10175', 'P56202', 'Q86WI3', 'Q03533', 'P49957', 'A7TZE6', 'O00300', 'P33441', 'A0A024B7I0', 'A0A0M3U1B0', 'Q9UK55', 'Q0JBF0', 'Q9ZVC9', 'Q5ZK43', 'P77754', 'Q9M2Q6', 'P97443', 'D4GPW5', 'F4IXE7', 'Q8RXH8', 'Q61508', 'Q8GYY1', 'Q9Z2P4', 'B1KD83', 'Q8CM25', 'Q53GS7', 'Q9SNB7', 'P49739', 'P02876', 'P85966', 'P0AEC3', 'Q03375', 'Q8ZPT3', 'Q653T6', 'V9M2S5', 'Q54313', 'O14040', 'P0ABA0', 'O14220', 'E2DQZ6', 'P15705', 'Q8BUV3', 'Q9Y7L4', 'Q8T0W8', 'F4HPR5', 'P26906', 'Q9BWN1', 'P41180', 'O75190', 'F5ZAY7', 'A8MU46', 'O54924', 'O23627', 'P11551', 'A0A023W145', 'Q9Y2X9', 'Q04672', 'P53877', 'P02675', 'P0AFE4', 'P69434', 'Q8NEY8', 'Q3KRC4', 'Q05016', 'P60153', 'Q68DK2', 'Q9Z2V5', 'Q16873', 'O97939', 'P25822', 'O74769', 'P62318', 'Q8IFW4', 'P08194', 'P36097', 'C0QY54', 'P24867', 'P39325', 'Q10168', 'Q8IY22', 'Q9HU05', 'Q5T653', 'Q9P6N7', 'Q949Y3', 'Q04601', 'Q8WU10', 'Q9FLL1', 'P38172', 'E0D877', 'Q10025', 'P53032', 'P30988', 'P0ABF1', 'B0R6I5', 'O75762', 'O94406', 'Q7Z4H7', 'Q8GNN6', 'P69770', 'Q969S3', 'Q6XE24', 'P14630', 'Q10574', 'O31567', 'Q14153', 'P12866', 'Q8VXQ2', 'Q13029', 'P14133', 'B2RIT0', 'Q15061', 'Q93ZN9', 'Q07203', 'Q494U1', 'Q9MA15', 'P46736', 'Q8T0Y7', 'O94477', 'B1GT61', 'Q9H813', 'Q9HGN5', 'Q9SRV1', 'Q9NWM8', 'Q9VKV8', 'P24310', 'P18775', 'O31625', 'G8JZS6', 'Q9LHF5', 'Q9BTP7', 'P25574', 'Q9W0Y6', 'P23369', 'A5F7A4', 'P36102', 'Q13127', 'Q94AU9', 'P42111', 'Q10426', 'Q7L5N1', 'Q98GN8', 'Q06836', 'Q06349', 'Q04LE4', 'Q8WUH2', 'Q9XYT4', 'A0A120KVR5', 'Q5EPH2', 'Q2M3C7', 'Q9M209', 'P21625', 'Q12511', 'O66465', 'Q14624', 'P34689', 'P13628', 'Q23973', 'Q7JXF5', 'Q8IZY5', 'P47863', 'Q9K0U7', 'O95760', 'P0DPU3', 'O59705', 'P33599', 'P61855', 'Q9UTA4', 'Q00960', 'P02466', 'P07814', 'P0C0Y8', 'Q8N1G1', 'P86100', 'B2GUZ5', 'Q01460', 'P78345', 'O76902', 'P11836', 'A1IKL2', 'P37261', 'Q5F4K8', 'F4JCB2', 'P04844', 'Q05884', 'O17072', 'Q9BRS2', 'Q9ZWA1', 'Q9CP96', 'Q3V1G4', 'P41805', 'A2A3N6', 'Q9WZ31', 'Q96H55', 'P60568', 'Q13342', 'Q00749', 'Q9Y7K0', 'O83469', 'D4A770', 'P58042', 'P14605', 'A5FJM7', 'P01217', 'Q9SYK4', 'O34952', 'Q5PP12', 'Q08969', 'P25639', 'P46873', 'Q06436', 'P9WK76', 'A0JP82', 'P31827', 'Q9Y820', 'Q4VC33', 'P54598', 'Q9SIU2', 'P35408', 'B7VIM1', 'O94324', 'P81160', 'P32480', 'Q5U9S1', 'P19156', 'O14328', 'P30776', 'P19567', 'Q3UMU9', 'Q99K90', 'P97275', 'P09464', 'Q9KTN5', 'P54886', 'O74889', 'O08586', 'Q17058', 'Q12248', 'P0DQC1', 'Q6NZ36', 'A0P8X0', 'Q96253', 'P29352', 'P21876', 'Q9BXW9', 'Q6Z1Y6', 'Q6ZMH5', 'Q7SZN0', 'P38237', 'Q84RK2', 'Q5D231', 'P0A8Q3', 'P36094', 'P33401', 'Q9NGQ2', 'Q3HNG7', 'H6U1I8', 'Q9UTH3', 'P31723', 'O14135', 'O95433', 'P35414', 'Q10317', 'P04635', 'Q7LL04', 'D4GSY9', 'Q9D291', 'O14276', 'P01088', 'Q21067', 'Q06244', 'P0AAM1', 'Q28388', 'P75296', 'Q19131', 'Q9LS00', 'Q9HGP4', 'P49686', 'P11657', 'Q8W4D0', 'Q27085', 'Q03615', 'Q8C1E7', 'P56628', 'P09056', 'Q9LXX5', 'Q91898', 'P58597', 'E1V7W1', 'Q13769', 'P12992', 'Q9X2W0', 'Q9P7Z9', 'P00736', 'A6NFN3', 'Q07699', 'P53145', 'P35077', 'Q9UKY0', 'Q96JN0', 'P59213', 'Q9C110', 'P40547', 'Q42029', 'Q5SJ80', 'Q9ULA0', 'P21697', 'Q10267', 'Q924B5', 'O74793', 'Q04341', 'P38244', 'O13674', 'Q8SXL2', 'Q8WUX9', 'Q9CA59', 'P02462', 'Q9C9L2', 'O94481', 'Q8IFJ8', 'P24530', 'P0A444', 'C4NZN9', 'Q9V6Q2', 'P15473', 'Q8U2E4', 'C0HL38', 'Q9C8J7', 'Q9LTW4', 'Q08278', 'P54660', 'O08785', 'Q03898', 'Q27441', 'Q8K3Q3', 'Q64HC7', 'P31602', 'Q9LUJ3', 'P21730', 'Q09888', 'P19541', 'Q9RRY7', 'Q8TC56', 'O60393', 'P19313', 'P60061', 'Q10328', 'O14455', 'Q03352', 'Q7BCK4', 'L7VIN3', 'Q8SYK5', 'P0ACC7', 'P0DL40', 'P75831', 'O01737', 'O29850', 'Q9C5W0', 'P84516', 'Q8VI84', 'P25871', 'Q8C8M1', 'Q9Y5U4', 'F4IF99', 'Q9HAW0', 'P28351', 'O80528', 'P31956', 'Q68CK6', 'P23930', 'Q9Y6J8', 'Q9CKU2', 'Q56WK6', 'Q9LDN0', 'O94443', 'Q9CMZ1', 'A2RMJ9', 'P70278', 'P25443', 'Q9BVS4', 'P53874', 'O70200', 'P22365', 'Q0MW30', 'Q99828', 'D0VWV4', 'O94733', 'Q8L999', 'Q9UU88', 'P38291', 'Q02862', 'P34021', 'Q12125', 'P38360', 'P47148', 'Q9C5S0', 'P0C2B6', 'P15320', 'Q3V0Q6', 'P70569', 'Q03713', 'Q9HDZ5', 'P34752', 'A4Q9F0', 'Q48261', 'P11596', 'Q8N138', 'P16658', 'Q8CNR4', 'Q8N668', 'P29026', 'P50572', 'Q95748', 'P00423', 'A0QR29', 'Q9NH52', 'P00127', 'Q9UQ84', 'Q61400', 'Q6XUX3', 'P36136', 'Q12751', 'D7A6E5', 'Q6ATB4', 'O60178', 'G5EBV0', 'Q9XSC9', 'O53945', 'P55917', 'Q9FFH0', 'P56637', 'Q9KYG7', 'Q9NHD5', 'Q8CIQ7', 'Q8LAP6', 'Q7Z5A7', 'P34220', 'Q9K0U9', 'P46604', 'Q5JNJ5', 'P38749', 'Q12363', 'P32238', 'O94427', 'P0C552', 'Q9LRI8', 'B2D6M2', 'O95407', 'P53289', 'Q9STS7', 'P36162', 'Q6K881', 'P35578', 'P19518', 'O95391', 'P62701', 'O59793', 'P28335', 'P75884', 'P0AB98', 'Q9M8D3', 'P19478', 'Q8CJ67', 'Q12288', 'Q9R186', 'P02752', 'F4IS91', 'Q94JF2', 'P09102', 'Q9C9K2', 'P08842', 'O14730', 'Q9RU24', 'Q13285', 'Q02596', 'B6VQ60', 'O34484', 'P35441', 'P53769', 'Q9HWW1', 'Q61420', 'O13650', 'P39993', 'O32528', 'Q810U5', 'Q9FFZ6', 'P17164', 'Q9USP4', 'Q6LA53', 'P0AFV5', 'P28000', 'O74978', 'P25291', 'Q9USL6', 'O04682', 'O43614', 'Q8WW12', 'Q08255', 'P26784', 'Q9LS90', 'P30183', 'P29399', 'B0R6J9', 'P40818', 'A0A369NIV7', 'Q8BX57', 'G5EDK5', 'P48810', 'Q9BPX6', 'Q16851', 'P01591', 'Q75GR5', 'P17208', 'Q9PW19', 'Q6EPW7', 'P81040', 'D0QMC3', 'P43457', 'O15553', 'O94278', 'P15450', 'O74464']\n"
          ]
        },
        {
          "output_type": "stream",
          "name": "stderr",
          "text": [
            "Done!\n"
          ]
        },
        {
          "output_type": "stream",
          "name": "stdout",
          "text": [
            "Length of proteinnames 711 is == or larger than length of existing proteins in processed dir 711\n"
          ]
        },
        {
          "output_type": "stream",
          "name": "stderr",
          "text": [
            "Processing...\n",
            "Done!\n"
          ]
        }
      ],
      "source": [
        "#lets train the model for 10 epochs using softmax and the labels\n",
        "#pdb_dir = \"data/graphein_downloads/v4/\" #downloaded using AFv4\n",
        "trainSet = transmembraneGraphDataset(root=pdb_dir,setType=\"train\",proteinlist=trainnames,labelDict=trainlabels,mismatching_proteins=mismatches)\n",
        "valSet = transmembraneGraphDataset(root=pdb_dir,setType=\"val\",proteinlist=valnames,labelDict=vallabels,mismatching_proteins=mismatches)\n",
        "testSet = transmembraneGraphDataset(root=pdb_dir,setType=\"test\",proteinlist=testnames,labelDict=testlabels,mismatching_proteins=mismatches)\n",
        "\n",
        "train_label_dict = trainSet.get_protein_label_dict()\n",
        "val_label_dict = valSet.get_protein_label_dict()\n",
        "test_label_dict = testSet.get_protein_label_dict()\n"
      ]
    },
    {
      "cell_type": "markdown",
      "metadata": {
        "id": "qnhX6H7n7DAn"
      },
      "source": [
        "Setup experiment"
      ]
    },
    {
      "cell_type": "code",
      "execution_count": 18,
      "metadata": {
        "colab": {
          "base_uri": "https://localhost:8080/"
        },
        "id": "7IUULrH57DAn",
        "outputId": "e3fedcec-0f64-4094-d852-49c4d8ce69cd"
      },
      "outputs": [
        {
          "output_type": "stream",
          "name": "stdout",
          "text": [
            "cuda:0\n"
          ]
        }
      ],
      "source": [
        "BATCH_SZ = 1\n",
        "N_EPOCHS = 300\n",
        "print_every = 20\n",
        "eval_every = 10\n",
        "DECODER = \"LSTMB\"\n",
        "NUM_SAMPLES = 64\n",
        "EXPERIMENTTYPE = \"OVERFIT\"\n",
        "SPLITTYPE = \"PROTOTYPE\"\n",
        "FEATURISERFLAG = \"SIMPLE\"\n",
        "SAVERESULTS = True\n",
        "\n",
        "trainSubset = torch.utils.data.Subset(trainSet,list(range(0,NUM_SAMPLES))) #logs in obsidian\n",
        "device = torch.device('cuda:0' if torch.cuda.is_available() else 'cpu')\n",
        "print(device)\n",
        "trainloader = DataLoader(trainSubset,batch_size=BATCH_SZ,shuffle=False)\n",
        "valloader = DataLoader(valSet,batch_size=BATCH_SZ)\n",
        "testloader = DataLoader(testSet,batch_size=BATCH_SZ)\n",
        "\n",
        "\n",
        "param_cfg = {\"experimentType\": EXPERIMENTTYPE,\"SplitType\":SPLITTYPE,\"NUM_TRAIN_SAMPLES\":len(trainloader),\"Featuriser\":FEATURISERFLAG,\"DecoderType\":DECODER,\"LR\":1e-04,\"GCSize\":128,\"LSTMSize\":64,\"Dropout\":0.0,\"BATCH_SZ\":BATCH_SZ,\"Number of epochs\":N_EPOCHS,\"Save results\":SAVERESULTS}\n",
        "\n",
        "if(FEATURISERFLAG==\"SIMPLE\"):\n",
        "  featuriser = ProteinFeaturiser( #note: input is a protein Batch\n",
        "          representation=\"CA\",\n",
        "          scalar_node_features=[\"amino_acid_one_hot\"],\n",
        "          vector_node_features=[],\n",
        "          edge_types=[\"knn_16\"],\n",
        "          scalar_edge_features=[\"edge_distance\"],\n",
        "          vector_edge_features=[],\n",
        "        )\n",
        "\n"
      ]
    },
    {
      "cell_type": "markdown",
      "source": [
        "Case: train and simply eval model with given params"
      ],
      "metadata": {
        "id": "eBTTpak9KuKd"
      }
    },
    {
      "cell_type": "code",
      "source": [
        "import json\n",
        "\n",
        "def saveResults(session_id,root_path,train,val,test,test_predictions,train_acc,val_acc,test_acc):\n",
        "  pwd_tmp = os.path.join(root_path,\"ExperimentalResults\")\n",
        "  print(pwd_tmp)\n",
        "  if not (os.path.exists(pwd_tmp)):\n",
        "    os.mkdir(pwd_tmp)\n",
        "    print(\"Constructed result directory\")\n",
        "\n",
        "  pwd_tmp = os.path.join(pwd_tmp,session_id)\n",
        "  if not (os.path.exists(pwd_tmp)):\n",
        "    os.mkdir(pwd_tmp) #make dir for session id - this is unique, so needs to made every time\n",
        "  with open(pwd_tmp+\"/train.txt\", \"w\") as f:\n",
        "    for line in train:\n",
        "      f.write(str(line)+\"\\n\")\n",
        "\n",
        "  with open(pwd_tmp+\"/val.txt\", \"w\") as f:\n",
        "    for line in val:\n",
        "      f.write(str(line)+\"\\n\")\n",
        "\n",
        "  with open(pwd_tmp+\"/test.txt\",\"w\") as f:\n",
        "    f.write(json.dumps(test))\n",
        "\n",
        "  accs = {\"Train accuracy\":train_acc,\"Validation accuracy\":val_acc,\"Test accuracy\":test_acc}\n",
        "  with open(pwd_tmp+\"/accuracies.txt\",\"w\") as f:\n",
        "    f.write(json.dumps(accs))\n",
        "\n",
        "  with open(pwd_tmp+\"/test_predictions.txt\",\"w\") as f:\n",
        "    f.write(json.dumps(test_predictions))\n",
        "\n",
        "\n",
        "  return None\n",
        "\n"
      ],
      "metadata": {
        "id": "jDir4OhAYODD"
      },
      "execution_count": 19,
      "outputs": []
    },
    {
      "cell_type": "code",
      "execution_count": 20,
      "metadata": {
        "colab": {
          "base_uri": "https://localhost:8080/"
        },
        "id": "mf4PJ_iT7DAn",
        "outputId": "c7a6d038-2d93-4084-d696-924389a6ff54"
      },
      "outputs": [
        {
          "output_type": "stream",
          "name": "stdout",
          "text": [
            "Command '['git', 'diff']' returned non-zero exit status 129.\n",
            "Losswise: choosing optimal display_interval = 1 for \"loss\" graph.\n",
            "You may override this default behavior by manually setting display_interval yourself.\n",
            "Losswise: choosing optimal display_interval = 1 for \"Accuracy\" graph.\n",
            "You may override this default behavior by manually setting display_interval yourself.\n"
          ]
        },
        {
          "output_type": "stream",
          "name": "stderr",
          "text": [
            "/usr/local/lib/python3.10/dist-packages/torch/nn/modules/lazy.py:180: UserWarning:\n",
            "\n",
            "Lazy modules are a new feature under heavy development so changes to the API or functionality can happen at any moment.\n",
            "\n"
          ]
        },
        {
          "output_type": "stream",
          "name": "stdout",
          "text": [
            "/content/drive/MyDrive/transmembrane_proteins/ExperimentalResults\n"
          ]
        }
      ],
      "source": [
        "import losswise\n",
        "\n",
        "\n",
        "losswise.set_api_key(\"KPFFS4CCK\")\n",
        "session = losswise.Session(params=param_cfg,max_iter=N_EPOCHS)\n",
        "lossGraph = session.graph(\"loss\",kind=\"min\")\n",
        "accGraph = session.graph(\"Accuracy\",kind=\"max\")\n",
        "\n",
        "#before training prediction (this was used for figuring out initialization issues)\n",
        "#test_sample = next(iter(trainloader))\n",
        "#pred_before = model.predict(test_sample)\n",
        "def dataset_accuracy(model,dataloader):\n",
        "    model.eval()\n",
        "    correct = 0\n",
        "    incorrect = 0\n",
        "    for i, data in enumerate(dataloader):\n",
        "        preds = model.predict(data)\n",
        "        label = label_to_tensor(data.label,type2key)\n",
        "        correct += torch.sum((preds==label))\n",
        "        incorrect += torch.sum((preds!=label))\n",
        "\n",
        "    return (correct/(correct+incorrect)).item()\n",
        "\n",
        "def train_single_epoch():\n",
        "    running_loss = 0.0\n",
        "    model.train()\n",
        "    for i, data in enumerate(trainloader):\n",
        "        #print(data)\n",
        "        optimizer.zero_grad()\n",
        "        output = model(data)\n",
        "        label = label_to_tensor(data.label,type2key)\n",
        "        #print(\"label in train: \",label)\n",
        "        #print(\"with type: \",type(label))\n",
        "        #print(output.device)\n",
        "        #print(label.device)\n",
        "        #print(output.shape)\n",
        "        #print(torch.argmax(output,dim=1))\n",
        "        #print(type(output))\n",
        "        #print(label.shape)\n",
        "        #print(type(label))\n",
        "        #print(output)\n",
        "        #print(label)\n",
        "        #print(len(label))\n",
        "        #print(output.shape)\n",
        "        #print(output)\n",
        "        #print(\"Output shape: \", output.shape)\n",
        "        #print(\"Label shape: \",label.shape)\n",
        "        loss = criterion(output,label) #no need to worry about batching as graph is disjoint by design -> in principle no batching\n",
        "        loss.backward()\n",
        "        optimizer.step()\n",
        "        running_loss += loss.item()\n",
        "\n",
        "    return running_loss/len(trainloader), output #return average epoch loss and output for the last batch  - should not be constant from start till end if learning\n",
        "\n",
        "\n",
        "###EXPERIMENT WITHOUT GRID SEARCH\n",
        "model = GraphEncDec(featuriser=featuriser, n_classes=6,hidden_dim_GCN=param_cfg[\"GCSize\"],decoderType=param_cfg[\"DecoderType\"],LSTM_hidden_dim=param_cfg[\"LSTMSize\"],dropout=param_cfg[\"Dropout\"])\n",
        "model.apply(init_linear_weights) #change to xavier normal init\n",
        "model = model.to(device)\n",
        "optimizer = torch.optim.Adam(model.parameters(),lr=param_cfg[\"LR\"])\n",
        "criterion = torch.nn.CrossEntropyLoss()\n",
        "epoch_loss = []\n",
        "#outputs = []\n",
        "for i in range(N_EPOCHS):\n",
        "    loss, output = train_single_epoch()\n",
        "    epoch_loss.append(loss)\n",
        "    #if(i%print_every==0):\n",
        "    #    print(f\"Loss in epoch {i}: {loss}\")\n",
        "    if(i%eval_every==0):\n",
        "      val_loss_li = []\n",
        "      valloss = 0.0\n",
        "      model.eval()\n",
        "      val_correct = 0\n",
        "      val_incorrect = 0\n",
        "      with torch.no_grad():\n",
        "        for data in valloader:\n",
        "          pred = model(data)\n",
        "          label = label_to_tensor(data.label,type2key)\n",
        "          #print(pred.shape)\n",
        "          #print(label.shape)\n",
        "          #print(\"label in val: \",label)\n",
        "          #print(\"with type: \",type(label))\n",
        "          v_loss = criterion(pred,label)\n",
        "          valloss += v_loss\n",
        "          val_loss_li.append(v_loss.item())\n",
        "\n",
        "        valloss /= len(valloader)\n",
        "        val_acc = dataset_accuracy(model,valloader) #get accuracy\n",
        "\n",
        "        lossGraph.append(i,{\"train_loss\":loss,\"val_loss\":valloss})\n",
        "        accGraph.append(i,{\"train_acc\":dataset_accuracy(model,trainloader),\"val_acc\":val_acc})\n",
        "    else:\n",
        "      lossGraph.append(i,{\"train_loss\":loss})\n",
        "\n",
        "###TEST MODEL\n",
        "model.eval()\n",
        "test_loss = 0.0\n",
        "test_loss_results = {}\n",
        "test_predictions = {}\n",
        "\n",
        "\n",
        "with torch.no_grad():\n",
        "  sm = torch.nn.Softmax(dim=1)\n",
        "  for i, data in enumerate(testloader):\n",
        "    output = model(data)\n",
        "    label = label_to_tensor(data.label,type2key)\n",
        "    loss = criterion(output,label) #no need to worry about batching as graph is disjoint by design -> in principle no batching\n",
        "    test_loss += loss.item()\n",
        "    test_loss_results[data.id[0].replace(\"_ABCD\",\"\")] = loss.item()\n",
        "    preds_test = sm(output)\n",
        "    preds_test = torch.argmax(preds_test,dim=1)\n",
        "    label_string = tensor_to_label(preds_test,type2key)\n",
        "    test_predictions[data.id[0].replace(\"_ABCD\",\"\")] = {\"prediction\":label_string,\"label\":data.label}\n",
        "\n",
        "\n",
        "\n",
        "\n",
        "mean_test_loss = test_loss/len(testloader)\n",
        "lossGraph.append(N_EPOCHS,{\"test_loss\":mean_test_loss})\n",
        "#get accuracies across sets at end of experiment\n",
        "train_acc = dataset_accuracy(model,trainloader)\n",
        "val_acc = dataset_accuracy(model,valloader)\n",
        "test_acc = dataset_accuracy(model,testloader)\n",
        "accGraph.append(N_EPOCHS,{\"train_acc\":train_acc,\"val_acc\":val_acc,\"test_acc\":test_acc})\n",
        "\n",
        "\n",
        "\n",
        "sess_id = session.session_id\n",
        "session.done()\n",
        "if(SAVERESULTS):\n",
        "  saveResults(sess_id,drive_path,epoch_loss,val_loss_li,test_loss_results,test_predictions,train_acc,val_acc,test_acc)\n",
        "\n",
        "\n",
        "\n",
        "\n",
        "\n",
        "\n",
        "#pred_after = model.predict(test_sample)\n",
        "\n",
        "\n"
      ]
    },
    {
      "cell_type": "code",
      "source": [
        "trainloader = DataLoader(trainSet,batch_size=1,shuffle=False)\n",
        "\n",
        "#check for mismatches in all loaders\n",
        "def quality_check_dataloaders(trainloader,valloader,testloader,mismatches):\n",
        "  print(\"Checking lengths of label sequences vs. batch-shapes...\")\n",
        "  test_all_loaders = [trainloader,valloader,testloader]\n",
        "  train_names = []\n",
        "  val_names = []\n",
        "  test_names = []\n",
        "  #assure that we have no overlaps of ids, and that missing proteins are not included\n",
        "  for j, loader in enumerate(test_all_loaders):\n",
        "    for i, data in enumerate(loader):\n",
        "    #print(i)\n",
        "      if(j==0):\n",
        "        train_names.append(data.id[0].replace(\"_ABCD\",\"\"))\n",
        "      elif(j==1):\n",
        "        val_names.append(data.id[0].replace(\"_ABCD\",\"\"))\n",
        "      elif(j==2):\n",
        "        test_names.append(data.id[0].replace(\"_ABCD\",\"\"))\n",
        "      batch_tmp = data.coords.shape[0]\n",
        "      label_tmp = label_to_tensor(data.label,type2key).shape[0]\n",
        "      assert batch_tmp == label_tmp, f\"Mismatch found for {i} {batch_tmp} {label_tmp}\"\n",
        "\n",
        "  print(\"... Passed test...\")\n",
        "  print(\"Testing if mismatching proteins are present in any of the sets...\")\n",
        "  print(train_names[0],val_names[0],test_names[0])\n",
        "  assert any(x in train_names for x in mismatches)==False, \"Missing proteins found in train-loader\"\n",
        "  assert any(x in val_names for x in mismatches)==False, \"Missing proteins found in val-loader\"\n",
        "  assert any(x in test_names for x in mismatches)==False, \"Missing proteins found in test-loader\"\n",
        "\n",
        "  print(\"... Passed test...\")\n",
        "  print(\"Testing if any of the sets overlap...\")\n",
        "  assert len(list(set(train_names) & set(val_names)))==0, \"Overlap found in train-set and val-set\"\n",
        "  assert len(list(set(train_names) & set(test_names)))==0, \"Overlap found in train-set and test-set\"\n",
        "  assert len(list(set(val_names) & set(test_names)))==0, \"Overlap found in val-set and test-set\"\n",
        "  print(\"... Passed test...\")\n",
        "  return True\n",
        "\n",
        "\n",
        "\n",
        "checkMark = quality_check_dataloaders(trainloader,valloader,testloader,mismatches)\n",
        "print(mismatches)"
      ],
      "metadata": {
        "colab": {
          "base_uri": "https://localhost:8080/"
        },
        "id": "K3Qj6p-ephsv",
        "outputId": "9f046636-f425-4532-9b21-a60838e237d7"
      },
      "execution_count": 43,
      "outputs": [
        {
          "output_type": "stream",
          "name": "stdout",
          "text": [
            "Checking lengths of label sequences vs. batch-shapes...\n",
            "... Passed test...\n",
            "Testing if mismatching proteins are present in any of the sets...\n",
            "P53718 Q99661 Q64HC7\n",
            "... Passed test...\n",
            "Testing if any of the sets overlap...\n",
            "... Passed test...\n",
            "['Q841A2', 'D6R8X8', 'Q8I2A6']\n"
          ]
        }
      ]
    },
    {
      "cell_type": "markdown",
      "source": [
        "Case: grid-search"
      ],
      "metadata": {
        "id": "hgQcGuRVGneB"
      }
    },
    {
      "cell_type": "code",
      "execution_count": 24,
      "metadata": {
        "id": "1a1vi-9r7DAn"
      },
      "outputs": [],
      "source": [
        "# import matplotlib.pyplot as plt\n",
        "# import numpy as np\n",
        "\n",
        "\n",
        "# ###LOOP FOR FINDING NETWORK PARAMETERS GRID SEARCH\n",
        "# #experiments = {\"LR\":[1e-05,1e-04,1e-03],\"GCSize\":[64,128],\"LSTMSize\":[32,64]}\n",
        "# exp_saver = {\"Experiment_no\":[],\"netcfg\":[],\"losses\":[],\"accuracy\":[],\"valloss\":[]}\n",
        "# exp_count = 0\n",
        "# for LR in experiments[\"LR\"]:\n",
        "#   for GCSZ in experiments[\"GCSize\"]:\n",
        "#     for LSTMSZ in experiments[\"LSTMSize\"]:\n",
        "#       print(f\"Running experiment {exp_count}\")\n",
        "#       model = GraphEncDec(featuriser=featuriser, n_classes=6,hidden_dim_GCN=GCSZ,decoderType=\"LSTMO\",LSTM_hidden_dim=LSTMSZ,dropout=0.0)\n",
        "#       model.apply(init_linear_weights) #change to xavier normal init\n",
        "#       model = model.to(device)\n",
        "#       optimizer = torch.optim.Adam(model.parameters(),lr=LR)\n",
        "#       criterion = torch.nn.CrossEntropyLoss()\n",
        "#       exp_saver[\"Experiment_no\"].append(exp_count)\n",
        "#       exp_saver[\"netcfg\"].append(\"LR:\"+str(LR)+\"_\"+\"GCSZ:\"+str(GCSZ)+\"_LSTMSZ:\"+str(LSTMSZ))\n",
        "#       epoch_loss = []\n",
        "#       #outputs = []\n",
        "#       for i in range(N_EPOCHS):\n",
        "#           loss, output = train_single_epoch()\n",
        "#           epoch_loss.append(loss)\n",
        "#           #if(i%print_every==0):\n",
        "#           #    print(f\"Loss in epoch {i}: {loss}\")\n",
        "#           if(i%eval_every==0):\n",
        "#             valloss = 0.0\n",
        "#             model.eval()\n",
        "#             for data in valloader:\n",
        "#               pred = model.predict(data)\n",
        "#               label = label_to_tensor(data.label,type2key)\n",
        "#               valloss += criterion(pred,label)\n",
        "\n",
        "#             valloss /= len(valloader)\n",
        "#             graph.append(i,{\"train_loss\":loss,\"val_loss\":valloss})\n",
        "#           else:\n",
        "#             graph.append(i,{\"train_loss\":loss,\"val_loss\":-1})\n",
        "\n",
        "\n",
        "\n",
        "\n",
        "#       exp_saver[\"losses\"].append(epoch_loss)\n",
        "#       exp_saver[\"accuracy\"].append(dataset_accuracy(model,trainloader))\n",
        "#       exp_count += 1\n",
        "\n",
        "# session.done()\n",
        "\n",
        "\n",
        "# #plt.plot(np.arange(1,N_EPOCHS+1,1),epoch_loss)\n",
        "# for i, experiment_loss in enumerate(exp_saver[\"losses\"]):\n",
        "#   plt.plot(experiment_loss,label=f\"Exp {i}\")\n",
        "\n",
        "# plt.legend(loc=\"upper left\")\n",
        "# plt.show()\n",
        "\n",
        "\n",
        "# loss_tmp = exp_saver[\"losses\"]\n",
        "# means_h = [torch.mean(torch.FloatTensor(x[-50:])) for x in loss_tmp]\n",
        "# means_t = torch.FloatTensor(means_h)\n",
        "# print(means_t)\n",
        "# indices = torch.argsort(means_t.abs())\n",
        "# # choose the first 10\n",
        "# indices_smallest = indices[:4]\n",
        "# print(indices_smallest)\n",
        "\n",
        "# for i, x in enumerate(indices_smallest):\n",
        "#   print(f\"{i+1}'st best experiment:)\")# {exp_saver[\"netcfg\"][x]}\")\n",
        "#   print(exp_saver[\"netcfg\"][x])\n",
        "#   print(f\"Mean loss: {means_t[x]}\")\n",
        "#   print(\"Accuracy: \")\n",
        "#   print(exp_saver[\"accuracy\"][x])\n"
      ]
    },
    {
      "cell_type": "code",
      "source": [],
      "metadata": {
        "id": "1px0SFmmy813"
      },
      "execution_count": 24,
      "outputs": []
    },
    {
      "cell_type": "code",
      "execution_count": 25,
      "metadata": {
        "id": "VmGC2Qni7DAo"
      },
      "outputs": [],
      "source": [
        "# print(\"prediction before training: \", pred_before)\n",
        "# print(\"prediction after training: \", pred_after)\n",
        "# label = label_to_tensor(test_sample.label,type2key)\n",
        "# print(\"Ground truth label: \", label)"
      ]
    },
    {
      "cell_type": "code",
      "execution_count": 26,
      "metadata": {
        "id": "AyTsc16c7DAo"
      },
      "outputs": [],
      "source": [
        "# def get_accuracy_single_sample(prediction,label):\n",
        "#     correct = torch.sum((prediction==label))\n",
        "#     incorrect = torch.sum((prediction!=label))\n",
        "#     return correct/(correct+incorrect)\n",
        "\n",
        "# #print(get_accuracy_single_sample(model.predict(test_sample),label))\n",
        "\n",
        "\n",
        "\n",
        "\n"
      ]
    },
    {
      "cell_type": "code",
      "execution_count": 26,
      "metadata": {
        "id": "_T1EflcT7DAo"
      },
      "outputs": [],
      "source": []
    },
    {
      "cell_type": "code",
      "execution_count": 27,
      "metadata": {
        "id": "al5v7K4Z7DAo"
      },
      "outputs": [],
      "source": [
        "#baseline_crossentropy = lambda N: -torch.log(torch.Tensor([1/N])).item()\n",
        "#print(f\"The baseline random loss is expected to be {baseline_crossentropy(6)}\")"
      ]
    },
    {
      "cell_type": "code",
      "execution_count": 28,
      "metadata": {
        "id": "L-ak4-Zm7DAo"
      },
      "outputs": [],
      "source": [
        "#now evaluate\n",
        "# softmax = torch.nn.Softmax(dim=1) #already part of crossentropy loss\n",
        "# model.eval()\n",
        "# output = softmax(model(batch_featurised))\n",
        "# print(output)\n",
        "# classification = torch.argmax(output,dim=1)\n",
        "# print(\"Model classification: \",classification)\n",
        "# print(\"True label: \",label)"
      ]
    }
  ],
  "metadata": {
    "kernelspec": {
      "display_name": "Python 3",
      "name": "python3"
    },
    "language_info": {
      "codemirror_mode": {
        "name": "ipython",
        "version": 3
      },
      "file_extension": ".py",
      "mimetype": "text/x-python",
      "name": "python",
      "nbconvert_exporter": "python",
      "pygments_lexer": "ipython3",
      "version": "3.10.12"
    },
    "colab": {
      "provenance": [],
      "gpuType": "T4"
    },
    "accelerator": "GPU"
  },
  "nbformat": 4,
  "nbformat_minor": 0
}